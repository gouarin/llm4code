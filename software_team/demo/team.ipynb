{
 "cells": [
  {
   "cell_type": "code",
   "execution_count": 1,
   "metadata": {},
   "outputs": [],
   "source": [
    "from AISoftTeam.graph import create_team, create_small_team, State\n",
    "\n",
    "import nest_asyncio\n",
    "#this is needed to run async functions sync in jupyter\n",
    "nest_asyncio.apply()\n"
   ]
  },
  {
   "cell_type": "code",
   "execution_count": 2,
   "metadata": {},
   "outputs": [
    {
     "data": {
      "text/plain": [
       "<logfire._internal.main.Logfire at 0x123defef0>"
      ]
     },
     "execution_count": 2,
     "metadata": {},
     "output_type": "execute_result"
    },
    {
     "name": "stderr",
     "output_type": "stream",
     "text": [
      "\u001b[1mLogfire\u001b[0m project URL: \u001b]8;id=884049;https://logfire-us.pydantic.dev/gouarin/softwareteam\u001b\\\u001b[4;36mhttps://logfire-us.pydantic.dev/gouarin/softwareteam\u001b[0m\u001b]8;;\u001b\\\n"
     ]
    }
   ],
   "source": [
    "import logfire\n",
    "logfire.configure()"
   ]
  },
  {
   "cell_type": "code",
   "execution_count": 3,
   "metadata": {},
   "outputs": [],
   "source": [
    "team = create_small_team()"
   ]
  },
  {
   "cell_type": "code",
   "execution_count": 4,
   "metadata": {},
   "outputs": [],
   "source": [
    "state = State(messages=[\"Write a project using langGraph and pydantic_ai with Ollama models which simulates a developer team composed by an analyst, a coder, a tester and a reviewer.\"])"
   ]
  },
  {
   "cell_type": "code",
   "execution_count": 4,
   "metadata": {},
   "outputs": [],
   "source": [
    "state = State(messages=[\"Write a Fibonacci function in Python\"])"
   ]
  },
  {
   "cell_type": "code",
   "execution_count": 4,
   "metadata": {},
   "outputs": [],
   "source": [
    "state = State(messages=[\"Write a Python code that plots the Hilbert curve for any depth using matplotlib.\"])"
   ]
  },
  {
   "cell_type": "code",
   "execution_count": 5,
   "metadata": {},
   "outputs": [
    {
     "name": "stdout",
     "output_type": "stream",
     "text": [
      "**** Researcher ****\n",
      "question:  content='Write a Fibonacci function in Python' additional_kwargs={} response_metadata={} id='7601ac8e-5702-4697-b4fc-0bc6585f5e78'\n",
      "searching:  \n",
      "        fibonacci function python code\n",
      "    \n",
      "searching:  \n",
      "        iterative fibonacci algorithm python\n",
      "    \n",
      "**** Coder ****\n",
      "09:50:10.670 agent run\n",
      "09:50:10.670   preparing model request params\n",
      "09:50:10.670   chat deepseek-coder-v2\n"
     ]
    },
    {
     "ename": "KeyboardInterrupt",
     "evalue": "",
     "output_type": "error",
     "traceback": [
      "\u001b[31m---------------------------------------------------------------------------\u001b[39m",
      "\u001b[31mKeyboardInterrupt\u001b[39m                         Traceback (most recent call last)",
      "\u001b[36mCell\u001b[39m\u001b[36m \u001b[39m\u001b[32mIn[5]\u001b[39m\u001b[32m, line 1\u001b[39m\n\u001b[32m----> \u001b[39m\u001b[32m1\u001b[39m response = \u001b[43mteam\u001b[49m\u001b[43m.\u001b[49m\u001b[43minvoke\u001b[49m\u001b[43m(\u001b[49m\u001b[43mstate\u001b[49m\u001b[43m)\u001b[49m\n",
      "\u001b[36mFile \u001b[39m\u001b[32m~/Work/LLM/code_agent/.venv/lib/python3.12/site-packages/langgraph/pregel/__init__.py:2375\u001b[39m, in \u001b[36mPregel.invoke\u001b[39m\u001b[34m(self, input, config, stream_mode, output_keys, interrupt_before, interrupt_after, debug, **kwargs)\u001b[39m\n\u001b[32m   2373\u001b[39m \u001b[38;5;28;01melse\u001b[39;00m:\n\u001b[32m   2374\u001b[39m     chunks = []\n\u001b[32m-> \u001b[39m\u001b[32m2375\u001b[39m \u001b[43m\u001b[49m\u001b[38;5;28;43;01mfor\u001b[39;49;00m\u001b[43m \u001b[49m\u001b[43mchunk\u001b[49m\u001b[43m \u001b[49m\u001b[38;5;129;43;01min\u001b[39;49;00m\u001b[43m \u001b[49m\u001b[38;5;28;43mself\u001b[39;49m\u001b[43m.\u001b[49m\u001b[43mstream\u001b[49m\u001b[43m(\u001b[49m\n\u001b[32m   2376\u001b[39m \u001b[43m    \u001b[49m\u001b[38;5;28;43minput\u001b[39;49m\u001b[43m,\u001b[49m\n\u001b[32m   2377\u001b[39m \u001b[43m    \u001b[49m\u001b[43mconfig\u001b[49m\u001b[43m,\u001b[49m\n\u001b[32m   2378\u001b[39m \u001b[43m    \u001b[49m\u001b[43mstream_mode\u001b[49m\u001b[43m=\u001b[49m\u001b[43mstream_mode\u001b[49m\u001b[43m,\u001b[49m\n\u001b[32m   2379\u001b[39m \u001b[43m    \u001b[49m\u001b[43moutput_keys\u001b[49m\u001b[43m=\u001b[49m\u001b[43moutput_keys\u001b[49m\u001b[43m,\u001b[49m\n\u001b[32m   2380\u001b[39m \u001b[43m    \u001b[49m\u001b[43minterrupt_before\u001b[49m\u001b[43m=\u001b[49m\u001b[43minterrupt_before\u001b[49m\u001b[43m,\u001b[49m\n\u001b[32m   2381\u001b[39m \u001b[43m    \u001b[49m\u001b[43minterrupt_after\u001b[49m\u001b[43m=\u001b[49m\u001b[43minterrupt_after\u001b[49m\u001b[43m,\u001b[49m\n\u001b[32m   2382\u001b[39m \u001b[43m    \u001b[49m\u001b[43mdebug\u001b[49m\u001b[43m=\u001b[49m\u001b[43mdebug\u001b[49m\u001b[43m,\u001b[49m\n\u001b[32m   2383\u001b[39m \u001b[43m    \u001b[49m\u001b[43m*\u001b[49m\u001b[43m*\u001b[49m\u001b[43mkwargs\u001b[49m\u001b[43m,\u001b[49m\n\u001b[32m   2384\u001b[39m \u001b[43m\u001b[49m\u001b[43m)\u001b[49m\u001b[43m:\u001b[49m\n\u001b[32m   2385\u001b[39m \u001b[43m    \u001b[49m\u001b[38;5;28;43;01mif\u001b[39;49;00m\u001b[43m \u001b[49m\u001b[43mstream_mode\u001b[49m\u001b[43m \u001b[49m\u001b[43m==\u001b[49m\u001b[43m \u001b[49m\u001b[33;43m\"\u001b[39;49m\u001b[33;43mvalues\u001b[39;49m\u001b[33;43m\"\u001b[39;49m\u001b[43m:\u001b[49m\n\u001b[32m   2386\u001b[39m \u001b[43m        \u001b[49m\u001b[43mlatest\u001b[49m\u001b[43m \u001b[49m\u001b[43m=\u001b[49m\u001b[43m \u001b[49m\u001b[43mchunk\u001b[49m\n",
      "\u001b[36mFile \u001b[39m\u001b[32m~/Work/LLM/code_agent/.venv/lib/python3.12/site-packages/langgraph/pregel/__init__.py:2031\u001b[39m, in \u001b[36mPregel.stream\u001b[39m\u001b[34m(self, input, config, stream_mode, output_keys, interrupt_before, interrupt_after, debug, subgraphs)\u001b[39m\n\u001b[32m   2025\u001b[39m     \u001b[38;5;66;03m# Similarly to Bulk Synchronous Parallel / Pregel model\u001b[39;00m\n\u001b[32m   2026\u001b[39m     \u001b[38;5;66;03m# computation proceeds in steps, while there are channel updates.\u001b[39;00m\n\u001b[32m   2027\u001b[39m     \u001b[38;5;66;03m# Channel updates from step N are only visible in step N+1\u001b[39;00m\n\u001b[32m   2028\u001b[39m     \u001b[38;5;66;03m# channels are guaranteed to be immutable for the duration of the step,\u001b[39;00m\n\u001b[32m   2029\u001b[39m     \u001b[38;5;66;03m# with channel updates applied only at the transition between steps.\u001b[39;00m\n\u001b[32m   2030\u001b[39m     \u001b[38;5;28;01mwhile\u001b[39;00m loop.tick(input_keys=\u001b[38;5;28mself\u001b[39m.input_channels):\n\u001b[32m-> \u001b[39m\u001b[32m2031\u001b[39m \u001b[43m        \u001b[49m\u001b[38;5;28;43;01mfor\u001b[39;49;00m\u001b[43m \u001b[49m\u001b[43m_\u001b[49m\u001b[43m \u001b[49m\u001b[38;5;129;43;01min\u001b[39;49;00m\u001b[43m \u001b[49m\u001b[43mrunner\u001b[49m\u001b[43m.\u001b[49m\u001b[43mtick\u001b[49m\u001b[43m(\u001b[49m\n\u001b[32m   2032\u001b[39m \u001b[43m            \u001b[49m\u001b[43mloop\u001b[49m\u001b[43m.\u001b[49m\u001b[43mtasks\u001b[49m\u001b[43m.\u001b[49m\u001b[43mvalues\u001b[49m\u001b[43m(\u001b[49m\u001b[43m)\u001b[49m\u001b[43m,\u001b[49m\n\u001b[32m   2033\u001b[39m \u001b[43m            \u001b[49m\u001b[43mtimeout\u001b[49m\u001b[43m=\u001b[49m\u001b[38;5;28;43mself\u001b[39;49m\u001b[43m.\u001b[49m\u001b[43mstep_timeout\u001b[49m\u001b[43m,\u001b[49m\n\u001b[32m   2034\u001b[39m \u001b[43m            \u001b[49m\u001b[43mretry_policy\u001b[49m\u001b[43m=\u001b[49m\u001b[38;5;28;43mself\u001b[39;49m\u001b[43m.\u001b[49m\u001b[43mretry_policy\u001b[49m\u001b[43m,\u001b[49m\n\u001b[32m   2035\u001b[39m \u001b[43m            \u001b[49m\u001b[43mget_waiter\u001b[49m\u001b[43m=\u001b[49m\u001b[43mget_waiter\u001b[49m\u001b[43m,\u001b[49m\n\u001b[32m   2036\u001b[39m \u001b[43m        \u001b[49m\u001b[43m)\u001b[49m\u001b[43m:\u001b[49m\n\u001b[32m   2037\u001b[39m \u001b[43m            \u001b[49m\u001b[38;5;66;43;03m# emit output\u001b[39;49;00m\n\u001b[32m   2038\u001b[39m \u001b[43m            \u001b[49m\u001b[38;5;28;43;01myield from\u001b[39;49;00m\u001b[43m \u001b[49m\u001b[43moutput\u001b[49m\u001b[43m(\u001b[49m\u001b[43m)\u001b[49m\n\u001b[32m   2039\u001b[39m \u001b[38;5;66;03m# emit output\u001b[39;00m\n",
      "\u001b[36mFile \u001b[39m\u001b[32m~/Work/LLM/code_agent/.venv/lib/python3.12/site-packages/langgraph/pregel/runner.py:230\u001b[39m, in \u001b[36mPregelRunner.tick\u001b[39m\u001b[34m(self, tasks, reraise, timeout, retry_policy, get_waiter)\u001b[39m\n\u001b[32m    228\u001b[39m t = tasks[\u001b[32m0\u001b[39m]\n\u001b[32m    229\u001b[39m \u001b[38;5;28;01mtry\u001b[39;00m:\n\u001b[32m--> \u001b[39m\u001b[32m230\u001b[39m     \u001b[43mrun_with_retry\u001b[49m\u001b[43m(\u001b[49m\n\u001b[32m    231\u001b[39m \u001b[43m        \u001b[49m\u001b[43mt\u001b[49m\u001b[43m,\u001b[49m\n\u001b[32m    232\u001b[39m \u001b[43m        \u001b[49m\u001b[43mretry_policy\u001b[49m\u001b[43m,\u001b[49m\n\u001b[32m    233\u001b[39m \u001b[43m        \u001b[49m\u001b[43mconfigurable\u001b[49m\u001b[43m=\u001b[49m\u001b[43m{\u001b[49m\n\u001b[32m    234\u001b[39m \u001b[43m            \u001b[49m\u001b[43mCONFIG_KEY_SEND\u001b[49m\u001b[43m:\u001b[49m\u001b[43m \u001b[49m\u001b[43mpartial\u001b[49m\u001b[43m(\u001b[49m\u001b[43mwriter\u001b[49m\u001b[43m,\u001b[49m\u001b[43m \u001b[49m\u001b[43mt\u001b[49m\u001b[43m)\u001b[49m\u001b[43m,\u001b[49m\n\u001b[32m    235\u001b[39m \u001b[43m            \u001b[49m\u001b[43mCONFIG_KEY_CALL\u001b[49m\u001b[43m:\u001b[49m\u001b[43m \u001b[49m\u001b[43mpartial\u001b[49m\u001b[43m(\u001b[49m\u001b[43mcall\u001b[49m\u001b[43m,\u001b[49m\u001b[43m \u001b[49m\u001b[43mt\u001b[49m\u001b[43m)\u001b[49m\u001b[43m,\u001b[49m\n\u001b[32m    236\u001b[39m \u001b[43m        \u001b[49m\u001b[43m}\u001b[49m\u001b[43m,\u001b[49m\n\u001b[32m    237\u001b[39m \u001b[43m    \u001b[49m\u001b[43m)\u001b[49m\n\u001b[32m    238\u001b[39m     \u001b[38;5;28mself\u001b[39m.commit(t, \u001b[38;5;28;01mNone\u001b[39;00m)\n\u001b[32m    239\u001b[39m \u001b[38;5;28;01mexcept\u001b[39;00m \u001b[38;5;167;01mException\u001b[39;00m \u001b[38;5;28;01mas\u001b[39;00m exc:\n",
      "\u001b[36mFile \u001b[39m\u001b[32m~/Work/LLM/code_agent/.venv/lib/python3.12/site-packages/langgraph/pregel/retry.py:40\u001b[39m, in \u001b[36mrun_with_retry\u001b[39m\u001b[34m(task, retry_policy, configurable)\u001b[39m\n\u001b[32m     38\u001b[39m     task.writes.clear()\n\u001b[32m     39\u001b[39m     \u001b[38;5;66;03m# run the task\u001b[39;00m\n\u001b[32m---> \u001b[39m\u001b[32m40\u001b[39m     \u001b[38;5;28;01mreturn\u001b[39;00m \u001b[43mtask\u001b[49m\u001b[43m.\u001b[49m\u001b[43mproc\u001b[49m\u001b[43m.\u001b[49m\u001b[43minvoke\u001b[49m\u001b[43m(\u001b[49m\u001b[43mtask\u001b[49m\u001b[43m.\u001b[49m\u001b[43minput\u001b[49m\u001b[43m,\u001b[49m\u001b[43m \u001b[49m\u001b[43mconfig\u001b[49m\u001b[43m)\u001b[49m\n\u001b[32m     41\u001b[39m \u001b[38;5;28;01mexcept\u001b[39;00m ParentCommand \u001b[38;5;28;01mas\u001b[39;00m exc:\n\u001b[32m     42\u001b[39m     ns: \u001b[38;5;28mstr\u001b[39m = config[CONF][CONFIG_KEY_CHECKPOINT_NS]\n",
      "\u001b[36mFile \u001b[39m\u001b[32m~/Work/LLM/code_agent/.venv/lib/python3.12/site-packages/langgraph/utils/runnable.py:546\u001b[39m, in \u001b[36mRunnableSeq.invoke\u001b[39m\u001b[34m(self, input, config, **kwargs)\u001b[39m\n\u001b[32m    542\u001b[39m config = patch_config(\n\u001b[32m    543\u001b[39m     config, callbacks=run_manager.get_child(\u001b[33mf\u001b[39m\u001b[33m\"\u001b[39m\u001b[33mseq:step:\u001b[39m\u001b[38;5;132;01m{\u001b[39;00mi\u001b[38;5;250m \u001b[39m+\u001b[38;5;250m \u001b[39m\u001b[32m1\u001b[39m\u001b[38;5;132;01m}\u001b[39;00m\u001b[33m\"\u001b[39m)\n\u001b[32m    544\u001b[39m )\n\u001b[32m    545\u001b[39m \u001b[38;5;28;01mif\u001b[39;00m i == \u001b[32m0\u001b[39m:\n\u001b[32m--> \u001b[39m\u001b[32m546\u001b[39m     \u001b[38;5;28minput\u001b[39m = \u001b[43mstep\u001b[49m\u001b[43m.\u001b[49m\u001b[43minvoke\u001b[49m\u001b[43m(\u001b[49m\u001b[38;5;28;43minput\u001b[39;49m\u001b[43m,\u001b[49m\u001b[43m \u001b[49m\u001b[43mconfig\u001b[49m\u001b[43m,\u001b[49m\u001b[43m \u001b[49m\u001b[43m*\u001b[49m\u001b[43m*\u001b[49m\u001b[43mkwargs\u001b[49m\u001b[43m)\u001b[49m\n\u001b[32m    547\u001b[39m \u001b[38;5;28;01melse\u001b[39;00m:\n\u001b[32m    548\u001b[39m     \u001b[38;5;28minput\u001b[39m = step.invoke(\u001b[38;5;28minput\u001b[39m, config)\n",
      "\u001b[36mFile \u001b[39m\u001b[32m~/Work/LLM/code_agent/.venv/lib/python3.12/site-packages/langgraph/utils/runnable.py:310\u001b[39m, in \u001b[36mRunnableCallable.invoke\u001b[39m\u001b[34m(self, input, config, **kwargs)\u001b[39m\n\u001b[32m    308\u001b[39m \u001b[38;5;28;01melse\u001b[39;00m:\n\u001b[32m    309\u001b[39m     context.run(_set_config_context, config)\n\u001b[32m--> \u001b[39m\u001b[32m310\u001b[39m     ret = \u001b[43mcontext\u001b[49m\u001b[43m.\u001b[49m\u001b[43mrun\u001b[49m\u001b[43m(\u001b[49m\u001b[38;5;28;43mself\u001b[39;49m\u001b[43m.\u001b[49m\u001b[43mfunc\u001b[49m\u001b[43m,\u001b[49m\u001b[43m \u001b[49m\u001b[43m*\u001b[49m\u001b[43margs\u001b[49m\u001b[43m,\u001b[49m\u001b[43m \u001b[49m\u001b[43m*\u001b[49m\u001b[43m*\u001b[49m\u001b[43mkwargs\u001b[49m\u001b[43m)\u001b[49m\n\u001b[32m    311\u001b[39m \u001b[38;5;28;01mif\u001b[39;00m \u001b[38;5;28misinstance\u001b[39m(ret, Runnable) \u001b[38;5;129;01mand\u001b[39;00m \u001b[38;5;28mself\u001b[39m.recurse:\n\u001b[32m    312\u001b[39m     \u001b[38;5;28;01mreturn\u001b[39;00m ret.invoke(\u001b[38;5;28minput\u001b[39m, config)\n",
      "\u001b[36mFile \u001b[39m\u001b[32m~/Work/LLM/code_agent/software_team/AISoftTeam/agents/coder_2.py:66\u001b[39m, in \u001b[36mCoder_2.invoke\u001b[39m\u001b[34m(self, state, **kwargs)\u001b[39m\n\u001b[32m     63\u001b[39m request = state[\u001b[33m\"\u001b[39m\u001b[33mmessages\u001b[39m\u001b[33m\"\u001b[39m][-\u001b[32m1\u001b[39m].content\n\u001b[32m     64\u001b[39m search_results = state[\u001b[33m\"\u001b[39m\u001b[33mwebsearch\u001b[39m\u001b[33m\"\u001b[39m]\n\u001b[32m---> \u001b[39m\u001b[32m66\u001b[39m response = \u001b[38;5;28;43mself\u001b[39;49m\u001b[43m.\u001b[49m\u001b[43mjunior_agent\u001b[49m\u001b[43m.\u001b[49m\u001b[43mrun_sync\u001b[49m\u001b[43m(\u001b[49m\n\u001b[32m     67\u001b[39m \u001b[43m    \u001b[49m\u001b[33;43mf\u001b[39;49m\u001b[33;43m\"\"\"\u001b[39;49m\n\u001b[32m     68\u001b[39m \n\u001b[32m     69\u001b[39m \u001b[33;43m    The request is: \u001b[39;49m\u001b[38;5;132;43;01m{\u001b[39;49;00m\u001b[43mrequest\u001b[49m\u001b[38;5;132;43;01m}\u001b[39;49;00m\n\u001b[32m     70\u001b[39m \n\u001b[32m     71\u001b[39m \u001b[33;43m    The web search are:\u001b[39;49m\n\u001b[32m     72\u001b[39m \u001b[33;43m    \u001b[39;49m\u001b[38;5;132;43;01m{\u001b[39;49;00m\u001b[43msearch_results\u001b[49m\u001b[38;5;132;43;01m}\u001b[39;49;00m\n\u001b[32m     73\u001b[39m \n\u001b[32m     74\u001b[39m \u001b[33;43m    Give me a working python implementation of this request.\u001b[39;49m\n\u001b[32m     75\u001b[39m \u001b[33;43m    \u001b[39;49m\u001b[33;43m\"\"\"\u001b[39;49m\u001b[43m,\u001b[49m\n\u001b[32m     76\u001b[39m \u001b[43m    \u001b[49m\u001b[43m*\u001b[49m\u001b[43m*\u001b[49m\u001b[43mkwargs\u001b[49m\u001b[43m,\u001b[49m\n\u001b[32m     77\u001b[39m \u001b[43m\u001b[49m\u001b[43m)\u001b[49m\n\u001b[32m     78\u001b[39m \u001b[38;5;28mprint\u001b[39m(\u001b[33m\"\u001b[39m\u001b[33mresponse: \u001b[39m\u001b[33m\"\u001b[39m, response)\n\u001b[32m     79\u001b[39m \u001b[38;5;28;01mwith\u001b[39;00m \u001b[38;5;28mopen\u001b[39m(os.path.join(os.getcwd(), \u001b[33m\"\u001b[39m\u001b[33moutput/coder_response.md\u001b[39m\u001b[33m\"\u001b[39m), \u001b[33m\"\u001b[39m\u001b[33mw\u001b[39m\u001b[33m\"\u001b[39m) \u001b[38;5;28;01mas\u001b[39;00m f:\n",
      "\u001b[36mFile \u001b[39m\u001b[32m~/Work/LLM/code_agent/.venv/lib/python3.12/site-packages/pydantic_ai/agent.py:558\u001b[39m, in \u001b[36mAgent.run_sync\u001b[39m\u001b[34m(self, user_prompt, result_type, message_history, model, deps, model_settings, usage_limits, usage, infer_name)\u001b[39m\n\u001b[32m    556\u001b[39m \u001b[38;5;28;01mif\u001b[39;00m infer_name \u001b[38;5;129;01mand\u001b[39;00m \u001b[38;5;28mself\u001b[39m.name \u001b[38;5;129;01mis\u001b[39;00m \u001b[38;5;28;01mNone\u001b[39;00m:\n\u001b[32m    557\u001b[39m     \u001b[38;5;28mself\u001b[39m._infer_name(inspect.currentframe())\n\u001b[32m--> \u001b[39m\u001b[32m558\u001b[39m \u001b[38;5;28;01mreturn\u001b[39;00m \u001b[43mget_event_loop\u001b[49m\u001b[43m(\u001b[49m\u001b[43m)\u001b[49m\u001b[43m.\u001b[49m\u001b[43mrun_until_complete\u001b[49m\u001b[43m(\u001b[49m\n\u001b[32m    559\u001b[39m \u001b[43m    \u001b[49m\u001b[38;5;28;43mself\u001b[39;49m\u001b[43m.\u001b[49m\u001b[43mrun\u001b[49m\u001b[43m(\u001b[49m\n\u001b[32m    560\u001b[39m \u001b[43m        \u001b[49m\u001b[43muser_prompt\u001b[49m\u001b[43m,\u001b[49m\n\u001b[32m    561\u001b[39m \u001b[43m        \u001b[49m\u001b[43mresult_type\u001b[49m\u001b[43m=\u001b[49m\u001b[43mresult_type\u001b[49m\u001b[43m,\u001b[49m\n\u001b[32m    562\u001b[39m \u001b[43m        \u001b[49m\u001b[43mmessage_history\u001b[49m\u001b[43m=\u001b[49m\u001b[43mmessage_history\u001b[49m\u001b[43m,\u001b[49m\n\u001b[32m    563\u001b[39m \u001b[43m        \u001b[49m\u001b[43mmodel\u001b[49m\u001b[43m=\u001b[49m\u001b[43mmodel\u001b[49m\u001b[43m,\u001b[49m\n\u001b[32m    564\u001b[39m \u001b[43m        \u001b[49m\u001b[43mdeps\u001b[49m\u001b[43m=\u001b[49m\u001b[43mdeps\u001b[49m\u001b[43m,\u001b[49m\n\u001b[32m    565\u001b[39m \u001b[43m        \u001b[49m\u001b[43mmodel_settings\u001b[49m\u001b[43m=\u001b[49m\u001b[43mmodel_settings\u001b[49m\u001b[43m,\u001b[49m\n\u001b[32m    566\u001b[39m \u001b[43m        \u001b[49m\u001b[43musage_limits\u001b[49m\u001b[43m=\u001b[49m\u001b[43musage_limits\u001b[49m\u001b[43m,\u001b[49m\n\u001b[32m    567\u001b[39m \u001b[43m        \u001b[49m\u001b[43musage\u001b[49m\u001b[43m=\u001b[49m\u001b[43musage\u001b[49m\u001b[43m,\u001b[49m\n\u001b[32m    568\u001b[39m \u001b[43m        \u001b[49m\u001b[43minfer_name\u001b[49m\u001b[43m=\u001b[49m\u001b[38;5;28;43;01mFalse\u001b[39;49;00m\u001b[43m,\u001b[49m\n\u001b[32m    569\u001b[39m \u001b[43m    \u001b[49m\u001b[43m)\u001b[49m\n\u001b[32m    570\u001b[39m \u001b[43m\u001b[49m\u001b[43m)\u001b[49m\n",
      "\u001b[36mFile \u001b[39m\u001b[32m~/Work/LLM/code_agent/.venv/lib/python3.12/site-packages/nest_asyncio.py:92\u001b[39m, in \u001b[36m_patch_loop.<locals>.run_until_complete\u001b[39m\u001b[34m(self, future)\u001b[39m\n\u001b[32m     90\u001b[39m     f._log_destroy_pending = \u001b[38;5;28;01mFalse\u001b[39;00m\n\u001b[32m     91\u001b[39m \u001b[38;5;28;01mwhile\u001b[39;00m \u001b[38;5;129;01mnot\u001b[39;00m f.done():\n\u001b[32m---> \u001b[39m\u001b[32m92\u001b[39m     \u001b[38;5;28;43mself\u001b[39;49m\u001b[43m.\u001b[49m\u001b[43m_run_once\u001b[49m\u001b[43m(\u001b[49m\u001b[43m)\u001b[49m\n\u001b[32m     93\u001b[39m     \u001b[38;5;28;01mif\u001b[39;00m \u001b[38;5;28mself\u001b[39m._stopping:\n\u001b[32m     94\u001b[39m         \u001b[38;5;28;01mbreak\u001b[39;00m\n",
      "\u001b[36mFile \u001b[39m\u001b[32m~/Work/LLM/code_agent/.venv/lib/python3.12/site-packages/nest_asyncio.py:115\u001b[39m, in \u001b[36m_patch_loop.<locals>._run_once\u001b[39m\u001b[34m(self)\u001b[39m\n\u001b[32m    108\u001b[39m     heappop(scheduled)\n\u001b[32m    110\u001b[39m timeout = (\n\u001b[32m    111\u001b[39m     \u001b[32m0\u001b[39m \u001b[38;5;28;01mif\u001b[39;00m ready \u001b[38;5;129;01mor\u001b[39;00m \u001b[38;5;28mself\u001b[39m._stopping\n\u001b[32m    112\u001b[39m     \u001b[38;5;28;01melse\u001b[39;00m \u001b[38;5;28mmin\u001b[39m(\u001b[38;5;28mmax\u001b[39m(\n\u001b[32m    113\u001b[39m         scheduled[\u001b[32m0\u001b[39m]._when - \u001b[38;5;28mself\u001b[39m.time(), \u001b[32m0\u001b[39m), \u001b[32m86400\u001b[39m) \u001b[38;5;28;01mif\u001b[39;00m scheduled\n\u001b[32m    114\u001b[39m     \u001b[38;5;28;01melse\u001b[39;00m \u001b[38;5;28;01mNone\u001b[39;00m)\n\u001b[32m--> \u001b[39m\u001b[32m115\u001b[39m event_list = \u001b[38;5;28;43mself\u001b[39;49m\u001b[43m.\u001b[49m\u001b[43m_selector\u001b[49m\u001b[43m.\u001b[49m\u001b[43mselect\u001b[49m\u001b[43m(\u001b[49m\u001b[43mtimeout\u001b[49m\u001b[43m)\u001b[49m\n\u001b[32m    116\u001b[39m \u001b[38;5;28mself\u001b[39m._process_events(event_list)\n\u001b[32m    118\u001b[39m end_time = \u001b[38;5;28mself\u001b[39m.time() + \u001b[38;5;28mself\u001b[39m._clock_resolution\n",
      "\u001b[36mFile \u001b[39m\u001b[32m/opt/homebrew/Cellar/python@3.12/3.12.8/Frameworks/Python.framework/Versions/3.12/lib/python3.12/selectors.py:566\u001b[39m, in \u001b[36mKqueueSelector.select\u001b[39m\u001b[34m(self, timeout)\u001b[39m\n\u001b[32m    564\u001b[39m ready = []\n\u001b[32m    565\u001b[39m \u001b[38;5;28;01mtry\u001b[39;00m:\n\u001b[32m--> \u001b[39m\u001b[32m566\u001b[39m     kev_list = \u001b[38;5;28;43mself\u001b[39;49m\u001b[43m.\u001b[49m\u001b[43m_selector\u001b[49m\u001b[43m.\u001b[49m\u001b[43mcontrol\u001b[49m\u001b[43m(\u001b[49m\u001b[38;5;28;43;01mNone\u001b[39;49;00m\u001b[43m,\u001b[49m\u001b[43m \u001b[49m\u001b[43mmax_ev\u001b[49m\u001b[43m,\u001b[49m\u001b[43m \u001b[49m\u001b[43mtimeout\u001b[49m\u001b[43m)\u001b[49m\n\u001b[32m    567\u001b[39m \u001b[38;5;28;01mexcept\u001b[39;00m \u001b[38;5;167;01mInterruptedError\u001b[39;00m:\n\u001b[32m    568\u001b[39m     \u001b[38;5;28;01mreturn\u001b[39;00m ready\n",
      "\u001b[31mKeyboardInterrupt\u001b[39m: "
     ]
    }
   ],
   "source": [
    "response = team.invoke(state)"
   ]
  },
  {
   "cell_type": "code",
   "execution_count": 5,
   "metadata": {},
   "outputs": [],
   "source": [
    "with open(\"output/analyst_response.md\", \"r\") as f:\n",
    "    xml_content = f.read()"
   ]
  },
  {
   "cell_type": "code",
   "execution_count": 9,
   "metadata": {},
   "outputs": [],
   "source": [
    "from AISoftTeam.agents.coordinator import extract_code_blocks, Step"
   ]
  },
  {
   "cell_type": "code",
   "execution_count": 12,
   "metadata": {},
   "outputs": [],
   "source": [
    "code_blocks = \"\".join(extract_code_blocks(xml_content))"
   ]
  },
  {
   "cell_type": "code",
   "execution_count": 14,
   "metadata": {},
   "outputs": [
    {
     "data": {
      "text/plain": [
       "'<root>\\n\\n    <request>\\n    Write a Python code that plots the Hilbert curve for any depth using matplotlib.\\n    </request>\\n    \\n    <step id=\"1\">\\n        <full_description>\\n        The first step is to understand what a Hilbert curve is and how it can be generated. A Hilbert curve is a continuous fractal space-filling curve that visits every point in a square grid exactly once. It has applications in image processing, data compression, and database indexing due to its locality-preserving properties.\\n\\n        To generate the Hilbert curve for a given depth, we need to create a recursive function that builds the coordinates of each point in the curve. The function will take the current depth as an argument and return a list of (x, y) tuples representing the points along the curve.\\n\\n        This step involves researching existing algorithms or code snippets that can generate Hilbert curves for any given depth. We will focus on finding an iterative approach to avoid recursion issues in Python, which can cause maximum recursion depth errors for large depths.\\n\\n        Once we have a working algorithm, we will test it with small depth values to ensure its correctness before scaling up to larger depths.\\n        </full_description>\\n        <web_search>\\n            https://en.wikipedia.org/wiki/Hilbert_curve\\n            https://www.nayuki.io/page/hilbert-curve-iterator\\n            https://stackoverflow.com/questions/25769843/generating-hilbert-curve-in-python\\n        </web_search>\\n    </step>\\n\\n    <step id=\"2\">\\n        <full_description>\\n        The second step is to implement the algorithm for generating Hilbert curve coordinates. We will use an iterative approach based on bit manipulation, as described in the Nayuki reference.\\n\\n        The algorithm works by representing each point\\'s index as a binary number and then applying certain transformations based on the current depth level. These transformations determine whether the curve turns left or right at each step.\\n\\n        Once we have generated all the (x, y) coordinates for a given depth, we will normalize them to fit within the [0,1] range for both axes. This normalization ensures that the curve can be plotted correctly regardless of the depth value.\\n\\n        We will also create a list of points in order and then plot them using matplotlib\\'s plotting functions.\\n        </full_description>\\n        <web_search>\\n            https://www.nayuki.io/page/hilbert-curve-iterator\\n            https://docs.python.org/3/library/math.html#math.modf\\n            https://matplotlib.org/stable/api/_as_gen/matplotlib.pyplot.plot.html\\n        </web_search>\\n    </step>\\n\\n    <step id=\"3\">\\n        <full_description>\\n        The third step is to use matplotlib to plot the generated Hilbert curve coordinates. We will create a function that takes the list of (x, y) tuples and plots them using matplotlib\\'s plot function.\\n\\n        To ensure the plot is clear and easy to visualize, we will set appropriate limits for the x and y axes and add labels and a title to the plot. We will also save the plot as an image file in a specified directory.\\n\\n        This step involves testing the plotting function with small depth values to verify that the curve is generated correctly before scaling up to larger depths.\\n        </full_description>\\n        <web_search>\\n            https://matplotlib.org/stable/api/_as_gen/matplotlib.pyplot.plot.html\\n            https://matplotlib.org/stable/tutorials/introductory/pyplot.html\\n            https://www.jetbrains.com/guides/answers/python Matplotlib/\\n        </web_search>\\n    </step>\\n\\n    <step id=\"4\">\\n        <full_description>\\n        The fourth step is to test the implementation with small depth values and ensure that the Hilbert curve is generated correctly. We will create a test function that generates the curve for a given depth and then plots it using matplotlib.\\n\\n        By running this test function, we can verify that the coordinates are being generated correctly and that the plot accurately represents the Hilbert curve for the specified depth.\\n\\n        If any issues arise during testing, such as incorrect coordinates or plotting errors, we will debug the code to identify and fix the problem.\\n        </full_description>\\n        <web_search>\\n            https://matplotlib.org/stable/tutorials/introductory/pyplot.html\\n            https://www.jetbrains.com/guides/answers/python Matplotlib/\\n            https://docs.python.org/3/library/math.html#math.modf\\n        </web_search>\\n    </step>\\n\\n    <step id=\"5\">\\n        <full_description>\\n        The final step is to handle larger depths efficiently and ensure that the code can generate and plot Hilbert curves for any given depth without performance issues. We will optimize the algorithm if necessary, using techniques such as precomputing coordinates or using more efficient data structures.\\n\\n        Additionally, we will consider adding error handling to manage cases where invalid depth values are provided. This will make the code robust and user-friendly.\\n        </full_description>\\n        <web_search>\\n            https://www.nayuki.io/page/hilbert-curve-iterator\\n            https://docs.python.org/3/library/math.html#math.modf\\n            https://matplotlib.org/stable/api/_as_gen/matplotlib.pyplot.plot.html\\n        </web_search>\\n    </step>\\n</root>\\n'"
      ]
     },
     "execution_count": 14,
     "metadata": {},
     "output_type": "execute_result"
    }
   ],
   "source": [
    "code_blocks"
   ]
  },
  {
   "cell_type": "code",
   "execution_count": 8,
   "metadata": {},
   "outputs": [],
   "source": [
    "import xml.etree.ElementTree as ET\n"
   ]
  },
  {
   "cell_type": "code",
   "execution_count": 15,
   "metadata": {},
   "outputs": [
    {
     "name": "stdout",
     "output_type": "stream",
     "text": [
      "Tag: root, Attributes: {}\n",
      "Tag: request, Attributes: {}\n",
      "Tag: step, Attributes: {'id': '1'}\n",
      "Tag: full_description, Attributes: {}\n",
      "Tag: web_search, Attributes: {}\n",
      "Tag: step, Attributes: {'id': '2'}\n",
      "Tag: full_description, Attributes: {}\n",
      "Tag: web_search, Attributes: {}\n",
      "Tag: step, Attributes: {'id': '3'}\n",
      "Tag: full_description, Attributes: {}\n",
      "Tag: web_search, Attributes: {}\n",
      "Tag: step, Attributes: {'id': '4'}\n",
      "Tag: full_description, Attributes: {}\n",
      "Tag: web_search, Attributes: {}\n",
      "Tag: step, Attributes: {'id': '5'}\n",
      "Tag: full_description, Attributes: {}\n",
      "Tag: web_search, Attributes: {}\n"
     ]
    }
   ],
   "source": [
    "root = ET.fromstring(code_blocks)\n",
    "\n",
    "steps = []\n",
    "for elem in root.iter():\n",
    "    print(f\"Tag: {elem.tag}, Attributes: {elem.attrib}\")\n",
    "    if elem.tag == \"step\":\n",
    "        steps.append(Step(description=elem[0].text, web_search=elem[1].text))"
   ]
  },
  {
   "cell_type": "code",
   "execution_count": null,
   "metadata": {},
   "outputs": [],
   "source": [
    "\n",
    "root = ET.fromstring(xml_content)"
   ]
  },
  {
   "cell_type": "code",
   "execution_count": 7,
   "metadata": {},
   "outputs": [
    {
     "data": {
      "image/png": "[encoded data removed]",
      "text/plain": [
       "<Figure size 800x800 with 1 Axes>"
      ]
     },
     "metadata": {},
     "output_type": "display_data"
    }
   ],
   "source": [
    "import numpy as np\n",
    "import matplotlib.pyplot as plt\n",
    "\n",
    "def hilbert_curve(x, y, dx, dy, depth, points):\n",
    "    \"\"\"\n",
    "    Recursively generates the Hilbert curve points.\n",
    "\n",
    "    Parameters:\n",
    "    x (float): Current x-coordinate.\n",
    "    y (float): Current y-coordinate.\n",
    "    dx (int): Direction in x-axis (-1 or 1).\n",
    "    dy (int): Direction in y-axis (-1 or 1).\n",
    "    depth (int): Current depth of recursion.\n",
    "    points (list): List to store the curve points.\n",
    "\n",
    "    Returns:\n",
    "    None\n",
    "    \"\"\"\n",
    "    if depth == 0:\n",
    "        points.append((x, y))\n",
    "        return\n",
    "\n",
    "    # Order of processing for quadrants\n",
    "    order = [0, 1, 2, 3] if depth % 2 == 0 else [3, 2, 1, 0]\n",
    "\n",
    "    for i in order:\n",
    "        nx, ny = x + dx * (i // 2), y + dy * (i // 2)\n",
    "        ndx, ndy = -dy, dx\n",
    "        if i % 2 == 1:\n",
    "            ndx, ndy = dx, dy\n",
    "\n",
    "        hilbert_curve(nx, ny, ndx, ndy, depth - 1, points)\n",
    "\n",
    "def plot_hilbert_curve(depth):\n",
    "    \"\"\"\n",
    "    Plots the Hilbert curve for a given depth.\n",
    "\n",
    "    Parameters:\n",
    "    depth (int): Depth of the Hilbert curve.\n",
    "\n",
    "    Returns:\n",
    "    None\n",
    "    \"\"\"\n",
    "    points = []\n",
    "    hilbert_curve(0, 0, 1, 0, depth, points)\n",
    "    x, y = zip(*points)\n",
    "\n",
    "    plt.figure(figsize=(8, 8))\n",
    "    plt.plot(x, y, '-o')\n",
    "    plt.title(f'Hilbert Curve of Depth {depth}')\n",
    "    plt.xlabel('X-axis')\n",
    "    plt.ylabel('Y-axis')\n",
    "    plt.axis('equal')\n",
    "    plt.show()\n",
    "\n",
    "# Example usage\n",
    "plot_hilbert_curve(3)"
   ]
  },
  {
   "cell_type": "code",
   "execution_count": null,
   "metadata": {},
   "outputs": [
    {
     "data": {
      "text/markdown": [
       "To test the `generate_hilbert_curve` and `plot_hilbert_curve` functions, we can use pytest. We will write tests to ensure that the function generates the correct coordinates for a Hilbert curve at different depths and that the plot is generated correctly.\n",
       "\n",
       "Here's how you can add the tests:\n",
       "\n",
       "```python\n",
       "# imports\n",
       "import numpy as np\n",
       "import matplotlib.pyplot as plt\n",
       "from io import BytesIO\n",
       "import pytest\n",
       "\n",
       "def generate_hilbert_curve(depth):\n",
       "    \"\"\"\n",
       "    Generate the coordinates of a Hilbert curve at a given depth.\n",
       "\n",
       "    Parameters:\n",
       "    depth (int): The depth of the Hilbert curve. Higher depths result in more complex curves.\n",
       "\n",
       "    Returns:\n",
       "    list: A list of tuples representing the (x, y) coordinates of the Hilbert curve.\n",
       "    \"\"\"\n",
       "    if depth == 0:\n",
       "        return [(0, 0)]\n",
       "    \n",
       "    # Recursive call for smaller depth\n",
       "    sub_curve = generate_hilbert(depth - 1)\n",
       "    \n",
       "    # Calculate new points based on the previous curve and direction\n",
       "    n = len(sub_curve)\n",
       "    half_n = n // 2\n",
       "    \n",
       "    # Rotate and translate to form the new curve\n",
       "    rotated = [(y, -x) for x, y in sub_curve]\n",
       "    translated = [(x + half_n, y + half_n) for x, y in rotated]\n",
       "    \n",
       "    # Combine all parts of the curve\n",
       "    curve = translated + [(x + n, y) for x, y in reversed(sub_curve)] + \\\n",
       "            [(x + n, y - n) for x, y in sub_curve] + [(x, y - n) for x, y in reversed(translated)]\n",
       "    \n",
       "    return curve\n",
       "\n",
       "def plot_hilbert_curve(curve):\n",
       "    \"\"\"\n",
       "    Plot the Hilbert curve using matplotlib.\n",
       "\n",
       "    Parameters:\n",
       "    curve (list): A list of tuples representing the (x, y) coordinates of the Hilbert curve.\n",
       "    \"\"\"\n",
       "    x_coords = [point[0] for point in curve]\n",
       "    y_coords = [point[1] for point in curve]\n",
       "    \n",
       "    plt.figure(figsize=(8, 8))\n",
       "    plt.plot(x_coords, y_coords, 'b-', linewidth=2)\n",
       "    plt.title('Hilbert Curve')\n",
       "    plt.xlabel('X Coordinate')\n",
       "    plt.ylabel('Y Coordinate')\n",
       "    plt.axis('equal')\n",
       "    plt.grid(True)\n",
       "    plt.show()\n",
       "\n",
       "# Example usage\n",
       "depth = 3\n",
       "hilbert_curve = generate_hilbert_curve(depth)\n",
       "plot_hilbert_curve(hilbert_curve)\n",
       "\n",
       "# Tests\n",
       "def test_generate_hilbert_curve():\n",
       "    # Test for depth 0\n",
       "    assert generate_hilbert_curve(0) == [(0, 0)]\n",
       "    \n",
       "    # Test for depth 1\n",
       "    expected_depth_1 = [(0, 0), (1, 0), (1, 1), (0, 1)]\n",
       "    assert generate_hilbert_curve(1) == expected_depth_1\n",
       "    \n",
       "    # Test for depth 2\n",
       "    expected_depth_2 = [\n",
       "        (0, 0), (1, 0), (1, 1), (0, 1),\n",
       "        (0, 2), (1, 2), (1, 3), (0, 3),\n",
       "        (2, 3), (2, 2), (3, 2), (3, 3),\n",
       "        (3, 1), (2, 1), (2, 0), (3, 0)\n",
       "    ]\n",
       "    assert generate_hilbert_curve(2) == expected_depth_2\n",
       "\n",
       "def test_plot_hilbert_curve():\n",
       "    # Capture the plot output\n",
       "    fig = plt.figure(figsize=(8, 8))\n",
       "    ax = fig.add_subplot(111)\n",
       "    \n",
       "    def mock_show(*args, **kwargs):\n",
       "        pass\n",
       "    \n",
       "    with pytest.raises(SystemExit) as excinfo:\n",
       "        with patch('matplotlib.pyplot.show', new=mock_show):\n",
       "            plot_hilbert_curve([(0, 0), (1, 0), (1, 1), (0, 1)])\n",
       "    \n",
       "    assert excinfo.type == SystemExit\n",
       "    assert excinfo.value.code == 0\n",
       "\n",
       "if __name__ == \"__main__\":\n",
       "    pytest.main()\n",
       "```\n",
       "\n",
       "### Explanation:\n",
       "\n",
       "1. **Test for `generate_hilbert_curve`**:\n",
       "   - We test the function at depth 0, which should return a single point `(0, 0)`.\n",
       "   - We test the function at depth 1 and compare it to the expected output.\n",
       "   - We test the function at depth 2 and compare it to the expected output.\n",
       "\n",
       "2. **Test for `plot_hilbert_curve`**:\n",
       "   - We use `patch` from `unittest.mock` to replace `matplotlib.pyplot.show` with a mock function that does nothing (`mock_show`).\n",
       "   - We capture the plot output by creating a figure and axis, then calling `plot_hilbert_curve`.\n",
       "   - We assert that the function raises a `SystemExit` with code 0, indicating that the plot was generated successfully.\n",
       "\n",
       "### Running the Tests:\n",
       "To run the tests, save the file and execute it using pytest:\n",
       "\n",
       "```sh\n",
       "pytest filename.py\n",
       "```\n",
       "\n",
       "Replace `filename.py` with the actual name of your Python file. This will run the tests and provide detailed output on whether each test passed or failed."
      ],
      "text/plain": [
       "<IPython.core.display.Markdown object>"
      ]
     },
     "metadata": {},
     "output_type": "display_data"
    }
   ],
   "source": [
    "from IPython.display import display, Markdown\n",
    "\n",
    "display(Markdown(response[\"current_code_with_test\"]))"
   ]
  },
  {
   "cell_type": "code",
   "execution_count": 13,
   "metadata": {},
   "outputs": [
    {
     "name": "stdout",
     "output_type": "stream",
     "text": [
      "Overwriting output/solution.py\n"
     ]
    }
   ],
   "source": [
    "%%file output/solution.py\n",
    "# imports\n",
    "import numpy as np\n",
    "import matplotlib.pyplot as plt\n",
    "from io import BytesIO\n",
    "import pytest\n",
    "\n",
    "def generate_hilbert_curve(depth):\n",
    "    \"\"\"\n",
    "    Generate the coordinates of a Hilbert curve at a given depth.\n",
    "\n",
    "    Parameters:\n",
    "    depth (int): The depth of the Hilbert curve. Higher depths result in more complex curves.\n",
    "\n",
    "    Returns:\n",
    "    list: A list of tuples representing the (x, y) coordinates of the Hilbert curve.\n",
    "    \"\"\"\n",
    "    if depth == 0:\n",
    "        return [(0, 0)]\n",
    "\n",
    "    # Recursive call for smaller depth\n",
    "    sub_curve = generate_hilbert_curve(depth - 1)\n",
    "\n",
    "    # Calculate new points based on the previous curve and direction\n",
    "    n = len(sub_curve)\n",
    "    half_n = n // 2\n",
    "\n",
    "    # Rotate and translate to form the new curve\n",
    "    rotated = [(y, -x) for x, y in sub_curve]\n",
    "    translated = [(x + half_n, y + half_n) for x, y in rotated]\n",
    "\n",
    "    # Combine all parts of the curve\n",
    "    curve = translated + [(x + n, y) for x, y in reversed(sub_curve)] + \\\n",
    "            [(x + n, y - n) for x, y in sub_curve] + [(x, y - n) for x, y in reversed(translated)]\n",
    "\n",
    "    return curve\n",
    "\n",
    "def plot_hilbert_curve(curve):\n",
    "    \"\"\"\n",
    "    Plot the Hilbert curve using matplotlib.\n",
    "\n",
    "    Parameters:\n",
    "    curve (list): A list of tuples representing the (x, y) coordinates of the Hilbert curve.\n",
    "    \"\"\"\n",
    "    x_coords = [point[0] for point in curve]\n",
    "    y_coords = [point[1] for point in curve]\n",
    "\n",
    "    plt.figure(figsize=(8, 8))\n",
    "    plt.plot(x_coords, y_coords, 'b-', linewidth=2)\n",
    "    plt.title('Hilbert Curve')\n",
    "    plt.xlabel('X Coordinate')\n",
    "    plt.ylabel('Y Coordinate')\n",
    "    plt.axis('equal')\n",
    "    plt.grid(True)\n",
    "    plt.show()\n",
    "\n",
    "# Example usage\n",
    "depth = 3\n",
    "hilbert_curve = generate_hilbert_curve(depth)\n",
    "plot_hilbert_curve(hilbert_curve)\n",
    "\n",
    "# Tests\n",
    "def test_generate_hilbert_curve():\n",
    "    # Test for depth 0\n",
    "    assert generate_hilbert_curve(0) == [(0, 0)]\n",
    "\n",
    "    # Test for depth 1\n",
    "    expected_depth_1 = [(0, 0), (1, 0), (1, 1), (0, 1)]\n",
    "    assert generate_hilbert_curve(1) == expected_depth_1\n",
    "\n",
    "    # Test for depth 2\n",
    "    expected_depth_2 = [\n",
    "        (0, 0), (1, 0), (1, 1), (0, 1),\n",
    "        (0, 2), (1, 2), (1, 3), (0, 3),\n",
    "        (2, 3), (2, 2), (3, 2), (3, 3),\n",
    "        (3, 1), (2, 1), (2, 0), (3, 0)\n",
    "    ]\n",
    "    assert generate_hilbert_curve(2) == expected_depth_2\n",
    "\n",
    "def test_plot_hilbert_curve():\n",
    "    # Capture the plot output\n",
    "    fig = plt.figure(figsize=(8, 8))\n",
    "    ax = fig.add_subplot(111)\n",
    "\n",
    "    def mock_show(*args, **kwargs):\n",
    "        pass\n",
    "\n",
    "    with pytest.raises(SystemExit) as excinfo:\n",
    "        with patch('matplotlib.pyplot.show', new=mock_show):\n",
    "            plot_hilbert_curve([(0, 0), (1, 0), (1, 1), (0, 1)])\n",
    "\n",
    "    assert excinfo.type == SystemExit\n",
    "    assert excinfo.value.code == 0\n",
    "\n",
    "if __name__ == \"__main__\":\n",
    "    pytest.main()"
   ]
  },
  {
   "cell_type": "code",
   "execution_count": 14,
   "metadata": {},
   "outputs": [
    {
     "name": "stdout",
     "output_type": "stream",
     "text": [
      "\u001b[1m============================= test session starts ==============================\u001b[0m\n",
      "platform darwin -- Python 3.12.8, pytest-8.3.5, pluggy-1.5.0\n",
      "rootdir: /Users/loic/Work/LLM/code_agent/software_team\n",
      "configfile: pyproject.toml\n",
      "plugins: logfire-3.9.0, anyio-4.8.0, langsmith-0.3.13\n",
      "collected 2 items                                                              \u001b[0m\u001b[1m\n",
      "\n",
      "output/solution.py \u001b[31mF\u001b[0m\u001b[31mF\u001b[0m\u001b[31m                                                    [100%]\u001b[0m\n",
      "\n",
      "=================================== FAILURES ===================================\n",
      "\u001b[31m\u001b[1m_________________________ test_generate_hilbert_curve __________________________\u001b[0m\n",
      "\n",
      "    \u001b[0m\u001b[94mdef\u001b[39;49;00m\u001b[90m \u001b[39;49;00m\u001b[92mtest_generate_hilbert_curve\u001b[39;49;00m():\u001b[90m\u001b[39;49;00m\n",
      "        \u001b[90m# Test for depth 0\u001b[39;49;00m\u001b[90m\u001b[39;49;00m\n",
      "        \u001b[94massert\u001b[39;49;00m generate_hilbert_curve(\u001b[94m0\u001b[39;49;00m) == [(\u001b[94m0\u001b[39;49;00m, \u001b[94m0\u001b[39;49;00m)]\u001b[90m\u001b[39;49;00m\n",
      "    \u001b[90m\u001b[39;49;00m\n",
      "        \u001b[90m# Test for depth 1\u001b[39;49;00m\u001b[90m\u001b[39;49;00m\n",
      "        expected_depth_1 = [(\u001b[94m0\u001b[39;49;00m, \u001b[94m0\u001b[39;49;00m), (\u001b[94m1\u001b[39;49;00m, \u001b[94m0\u001b[39;49;00m), (\u001b[94m1\u001b[39;49;00m, \u001b[94m1\u001b[39;49;00m), (\u001b[94m0\u001b[39;49;00m, \u001b[94m1\u001b[39;49;00m)]\u001b[90m\u001b[39;49;00m\n",
      ">       \u001b[94massert\u001b[39;49;00m generate_hilbert_curve(\u001b[94m1\u001b[39;49;00m) == expected_depth_1\u001b[90m\u001b[39;49;00m\n",
      "\u001b[1m\u001b[31mE       assert [(0, 0), (1, ... -1), (0, -1)] == [(0, 0), (1, ...1, 1), (0, 1)]\u001b[0m\n",
      "\u001b[1m\u001b[31mE         \u001b[0m\n",
      "\u001b[1m\u001b[31mE         At index 2 diff: \u001b[0m(\u001b[94m1\u001b[39;49;00m, -\u001b[94m1\u001b[39;49;00m)\u001b[90m\u001b[39;49;00m != \u001b[0m(\u001b[94m1\u001b[39;49;00m, \u001b[94m1\u001b[39;49;00m)\u001b[90m\u001b[39;49;00m\u001b[0m\n",
      "\u001b[1m\u001b[31mE         Use -v to get more diff\u001b[0m\n",
      "\n",
      "\u001b[1m\u001b[31moutput/solution.py\u001b[0m:68: AssertionError\n",
      "\u001b[31m\u001b[1m___________________________ test_plot_hilbert_curve ____________________________\u001b[0m\n",
      "\n",
      "    \u001b[0m\u001b[94mdef\u001b[39;49;00m\u001b[90m \u001b[39;49;00m\u001b[92mtest_plot_hilbert_curve\u001b[39;49;00m():\u001b[90m\u001b[39;49;00m\n",
      "        \u001b[90m# Capture the plot output\u001b[39;49;00m\u001b[90m\u001b[39;49;00m\n",
      "        fig = plt.figure(figsize=(\u001b[94m8\u001b[39;49;00m, \u001b[94m8\u001b[39;49;00m))\u001b[90m\u001b[39;49;00m\n",
      "        ax = fig.add_subplot(\u001b[94m111\u001b[39;49;00m)\u001b[90m\u001b[39;49;00m\n",
      "    \u001b[90m\u001b[39;49;00m\n",
      "        \u001b[94mdef\u001b[39;49;00m\u001b[90m \u001b[39;49;00m\u001b[92mmock_show\u001b[39;49;00m(*args, **kwargs):\u001b[90m\u001b[39;49;00m\n",
      "            \u001b[94mpass\u001b[39;49;00m\u001b[90m\u001b[39;49;00m\n",
      "    \u001b[90m\u001b[39;49;00m\n",
      "        \u001b[94mwith\u001b[39;49;00m pytest.raises(\u001b[96mSystemExit\u001b[39;49;00m) \u001b[94mas\u001b[39;49;00m excinfo:\u001b[90m\u001b[39;49;00m\n",
      ">           \u001b[94mwith\u001b[39;49;00m patch(\u001b[33m'\u001b[39;49;00m\u001b[33mmatplotlib.pyplot.show\u001b[39;49;00m\u001b[33m'\u001b[39;49;00m, new=mock_show):\u001b[90m\u001b[39;49;00m\n",
      "\u001b[1m\u001b[31mE           NameError: name 'patch' is not defined\u001b[0m\n",
      "\n",
      "\u001b[1m\u001b[31moutput/solution.py\u001b[0m:88: NameError\n",
      "\u001b[36m\u001b[1m=========================== short test summary info ============================\u001b[0m\n",
      "\u001b[31mFAILED\u001b[0m output/solution.py::\u001b[1mtest_generate_hilbert_curve\u001b[0m - assert [(0, 0), (1, ... -1), (0, -1)] == [(0, 0), (1, ...1, 1), (0, 1)]\n",
      "\u001b[31mFAILED\u001b[0m output/solution.py::\u001b[1mtest_plot_hilbert_curve\u001b[0m - NameError: name 'patch' is not defined\n",
      "\u001b[31m============================== \u001b[31m\u001b[1m2 failed\u001b[0m\u001b[31m in 1.16s\u001b[0m\u001b[31m ===============================\u001b[0m\n"
     ]
    }
   ],
   "source": [
    "! pytest output/solution.py"
   ]
  },
  {
   "cell_type": "code",
   "execution_count": null,
   "metadata": {},
   "outputs": [],
   "source": []
  }
 ],
 "metadata": {
  "kernelspec": {
   "display_name": ".venv",
   "language": "python",
   "name": "python3"
  },
  "language_info": {
   "codemirror_mode": {
    "name": "ipython",
    "version": 3
   },
   "file_extension": ".py",
   "mimetype": "text/x-python",
   "name": "python",
   "nbconvert_exporter": "python",
   "pygments_lexer": "ipython3",
   "version": "3.12.8"
  }
 },
 "nbformat": 4,
 "nbformat_minor": 2
}
