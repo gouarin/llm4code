{
 "cells": [
  {
   "cell_type": "code",
   "execution_count": 26,
   "metadata": {},
   "outputs": [],
   "source": [
    "from AISoftTeam.agents import Searcher, Analyst, Coder\n",
    "from AISoftTeam.graph import State\n",
    "\n",
    "import nest_asyncio\n",
    "#this is needed to run async functions sync in jupyter\n",
    "nest_asyncio.apply()"
   ]
  },
  {
   "cell_type": "code",
   "execution_count": 27,
   "metadata": {},
   "outputs": [],
   "source": [
    "searcher = Searcher()"
   ]
  },
  {
   "cell_type": "code",
   "execution_count": 28,
   "metadata": {},
   "outputs": [],
   "source": [
    "state = State(messages=[\"Write a Python code that plots the Hilbert curve for any depth using matplotlib. For the tests, give me exactly the coordinates of the curve for various depths.\"])"
   ]
  },
  {
   "cell_type": "code",
   "execution_count": 12,
   "metadata": {},
   "outputs": [
    {
     "name": "stdout",
     "output_type": "stream",
     "text": [
      "**** Researcher ****\n",
      "question:  Write a Python code that plots the Hilbert curve for any depth using matplotlib. For the tests, give me exactly the coordinates of the curve for various depths.\n",
      "searching:  \n",
      "        Hilbert curve Python recursive algorithm\n",
      "    \n",
      "searching:  \n",
      "        space filling curves implementation in Python\n",
      "    \n",
      "searching:  \n",
      "        matplotlib plot continuous fractal curve\n",
      "    \n",
      "searching:  \n",
      "        generating coordinates for Hilbert curve at various depths\n",
      "    \n",
      "searching:  \n",
      "        recursive function to calculate Hilbert curve points\n",
      "    \n"
     ]
    },
    {
     "data": {
      "text/plain": [
       "{'websearch': [[{'title': 'Python - Hilbert Curve using turtle - GeeksforGeeks',\n",
       "    'href': 'https://www.geeksforgeeks.org/python-hilbert-curve-using-turtle/',\n",
       "    'body': 'Fractal is a curve or a figure which repeats itself. It comprises a recursive pattern that repeats itself up to a desired level of nesting. Turtle graphics are provided in the turtle module which is used for drawing various shapes and patterns in Python.. A Hilbert curve is a curve that is formed by connecting a sequence of U-shaped curves arranged and oriented in different directions.'},\n",
       "   {'title': 'Algorithm for generating a 3D Hilbert space-filling curve in Python',\n",
       "    'href': 'https://stackoverflow.com/questions/14519267/algorithm-for-generating-a-3d-hilbert-space-filling-curve-in-python',\n",
       "    'body': 'Here is a recursive function that breaks a cube in 8 parts and rotates each part so that it traverses a hilbert curve in order. The arguments represent the size:s, location:xyz, and 3 vectors for the rotated axes of the cube.'},\n",
       "   {'title': \"Algorithm 781: Generating Hilbert's Space-Filling Curve by Recursion\",\n",
       "    'href': 'https://dl.acm.org/doi/pdf/10.1145/290200.290219',\n",
       "    'body': 'algorithm implements a recursive procedure that involves simple integer operations and quickly converges to the set of points that make the Hilbert curve. The algorithm is elegant, short, and considerably easier to implement than previous recursive and nonrecursive algorithms and can be efficiently implemented in all programming languages that have'},\n",
       "   {'title': 'Algorithmic - Hilbert Curve: Concepts & Implementation',\n",
       "    'href': 'http://www.fundza.com/algorithmic/space_filling/hilbert/basics/',\n",
       "    'body': 'To fully understand how Andrews recursive function operates is not easy and in order to do so it is necessary to break-down his Hilbert procedure so that the role that each \"part\" plays in the construction of the curve can be more readily understood.'},\n",
       "   {'title': 'Hilbert Curves With Python Visualizations - Medium',\n",
       "    'href': 'https://medium.com/@peterantonarosjr/hilbert-curves-with-python-visualizations-2fa30508e3ec',\n",
       "    'body': 'Consider the string \"AB\" with the substitution rule that A B, B AA, and a max recursion level of 2. ... I am going to be using Python with the Hilbert Curve package to get us started.'},\n",
       "   {'title': 'numpy-hilbert-curve · PyPI',\n",
       "    'href': 'https://pypi.org/project/numpy-hilbert-curve/',\n",
       "    'body': 'numpy-hilbert-curve. This is a numpy-based implementation of Hilbert curves, for up to a few tens of dimensions. A Hilbert curve is a continuous space-filling curve that lets you map from a single dimension into multiple dimensions. In two dimensions, you get curves that look like this: In three dimensions, you get curves that look like this:'},\n",
       "   {'title': 'recursion-and-dynamic-programming/hilbert curve.py at master - GitHub',\n",
       "    'href': 'https://github.com/je-suis-tm/recursion-and-dynamic-programming/blob/master/hilbert+curve.py',\n",
       "    'body': 'Julia and Python recursion algorithm, fractal geometry and dynamic programming applications including Edit Distance, Knapsack (Multiple Choice), Stock Trading, Pythagorean Tree, Koch Snowflake, Jerusalem Cross, Sierpiński Carpet, Hilbert Curve, Pascal Triangle, Prime Factorization, Palindrome, Egg Drop, Coin Change, Hanoi Tower, Cantor Set, Fibonacci - recursion-and-dynamic-programming ...'},\n",
       "   {'title': 'Programming a figure in Python : The Hilbert curve',\n",
       "    'href': 'https://www.mathgraph32.org/spip.php?article1027',\n",
       "    'body': 'The theorical Hilbert curve is obtained by iterating this process to the infinite. It is a continuoux curve that fills entirely a square (here a parallelogram). In the figure aboven we limit the depth of recursion to a value of 5. Going above this limit outpass the screen definition. Explanations on the API functions used in this code :'},\n",
       "   {'title': 'Algorithm-and-Data-Structure-In-Python/Recursion-exercise3-hilbert ...',\n",
       "    'href': 'https://github.com/MollyZhang/Algorithm-and-Data-Structure-In-Python/blob/master/Recursion-exercise3-hilbert+curve.py',\n",
       "    'body': 'You signed in with another tab or window. Reload to refresh your session. You signed out in another tab or window. Reload to refresh your session. You switched accounts on another tab or window.'},\n",
       "   {'title': 'PrincetonLIPS/numpy-hilbert-curve - GitHub',\n",
       "    'href': 'https://github.com/PrincetonLIPS/numpy-hilbert-curve',\n",
       "    'body': 'This is a numpy-based implementation of Hilbert curves, for up to a few tens of dimensions. A Hilbert curve is a continuous space-filling curve that lets you map from a single dimension into multiple dimensions. In two dimensions, you get curves that look like this: In three dimensions, you get curves that look like this:'}],\n",
       "  [{'title': 'A Python implementation of popular space filling curves',\n",
       "    'href': 'https://github.com/mbrg/space-filling-curves',\n",
       "    'body': 'A Python implementation of popular space filling curves - mbrg/space-filling-curves. Skip to content. Navigation Menu Toggle navigation. Sign in Product ... A Python implementation of popular space filling curves Topics. mathematical-analysis space-filling-curves Resources. Readme License. MIT license Activity. Stars. 0 stars.'},\n",
       "   {'title': 'Generating a space filling curve in Python - Third Landing',\n",
       "    'href': 'http://thirdlanding.com/generating-a-space-filling-curve-in-python/',\n",
       "    'body': '20) for generating such curves written in Modula-2. In this post, I will show a translation into Python, which was straightforward to implement. Note there is an excellent Python library for generating different kinds of space filling curves (including Sierpinski and Hilbert), but for now, I will be using the translated Bartholdi code as shown ...'},\n",
       "   {'title': 'thigs0/space-filling-curves_python - GitHub',\n",
       "    'href': 'https://github.com/thigs0/space-filling-curves_python',\n",
       "    'body': 'from L_SpaceCurves import L_SpaceCurves as ls l = ls.L_SpaceCurves(leng=10, speed=0, iter=2, origin=(0, 0)) # leng is the size of each line to construct the curve # speed is the speed to contruct the curve. 0 fast, 10 sloow # iter is the total of iteractions that you wish (more iteractions is more time) $ origin is a tuple that set the origin ...'},\n",
       "   {'title': 'space-filling-curves · GitHub Topics · GitHub',\n",
       "    'href': 'https://github.com/topics/space-filling-curves?l=python',\n",
       "    'body': 'A Python implementation of the Aztec space-filling curve. hilbert-curve fractal-images fractal-algorithms space-filling-curves zigzag-scanning peano-curve. Updated Aug 1, 2024; ... To associate your repository with the space-filling-curves topic, visit your repo\\'s landing page and select \"manage topics.\" Learn more Footer'},\n",
       "   {'title': 'numpy-hilbert-curve - PyPI',\n",
       "    'href': 'https://pypi.org/project/numpy-hilbert-curve/',\n",
       "    'body': 'numpy-hilbert-curve. This is a numpy-based implementation of Hilbert curves, for up to a few tens of dimensions. A Hilbert curve is a continuous space-filling curve that lets you map from a single dimension into multiple dimensions. In two dimensions, you get curves that look like this: In three dimensions, you get curves that look like this:'},\n",
       "   {'title': 'zCurve - PyPI',\n",
       "    'href': 'https://pypi.org/project/zCurve/',\n",
       "    'body': 'zCurve is a Python module with methods to efficiently map multidimensional data to a single dimension while preserving locality of the data points. This mapping is commonly known as Z-order, Lebesgue curve, Morton space filling curve, Morton order or Morton code. Image by David Eppstein, 2008'},\n",
       "   {'title': \"Rare implementations: Sierpinski's curve - piratefsh.github.io\",\n",
       "    'href': 'https://piratefsh.github.io/2020/08/08/sierpinski-curve.html',\n",
       "    'body': \"I highly recommend all 4 parts of the space-filling curve series. The advantage of this implementation over the existing implementations is that it also surfaces the intermediary iterations, the ones that have edges that look like bulbs, in addition to the classic Sierpinski's curve shape.\"},\n",
       "   {'title': 'Algorithm for generating a 3D Hilbert space-filling curve in Python',\n",
       "    'href': 'https://stackoverflow.com/questions/14519267/algorithm-for-generating-a-3d-hilbert-space-filling-curve-in-python',\n",
       "    'body': \"However, it is not clear what is the best way to generalize this curve to filling higher-dimensional spaces. We argue that the properties that make Hilbert's curve unique in two dimensions, are shared by 10694807 structurally different space-filling curves in three dimensions.\"},\n",
       "   {'title': 'space-filling-pytorch · PyPI',\n",
       "    'href': 'https://pypi.org/project/space-filling-pytorch/',\n",
       "    'body': 'space-filling-pytorch. A set of GPU-optimized space-filling-curve algorithms (e.g., Hilbert, Z-order) implemented in PyTorch and OpenAI Triton. These algorithms are more than 30 times faster than typical PyTorch-based implementations using kernel fusion.'},\n",
       "   {'title': '~dalke/rectfillcurve - Generate space-filling curves for arbitrary ...',\n",
       "    'href': 'https://hg.sr.ht/~dalke/rectfillcurve',\n",
       "    'body': 'A standalone C library and Python extension module for generating space-filling curves for arbitrary-sized rectangles through an iterator API. (See Background for details.) This package implements several curves: \"row\" - for each row, visit each column in forward order; \"zigzag\" - for each row, visit each column in alternating order;'}],\n",
       "  [{'title': 'Plotting a continuous stream of data with MatPlotLib',\n",
       "    'href': 'https://stackoverflow.com/questions/42024817/plotting-a-continuous-stream-of-data-with-matplotlib',\n",
       "    'body': '(1) You can set plt.ion() at the beginning and plot all graphs to the same window. Within the loop use plt.draw() to show the graph and plt.pause(t) to make a pause. Note that t can be very small, but the command needs to be there for the animation to work on most backends. You might want to clear the axes before plotting new content using plt.gca().cla(). ...'},\n",
       "   {'title': 'Plot Mathematical Expressions in Python using Matplotlib',\n",
       "    'href': 'https://www.geeksforgeeks.org/plot-mathematical-expressions-in-python-using-matplotlib/',\n",
       "    'body': 'Matplotlib is a Python library that can be used for plotting graphs and figures. Plotting multiplots or multiple plots are often required either for comparing the two curves or show some gradual changes in the multiple plots, and this can be done using Subplots. Subplots are one of the most importan'},\n",
       "   {'title': 'Animate Your Own Fractals in Python with Matplotlib',\n",
       "    'href': 'https://matplotlib.org/matplotblog/posts/animated-fractals/',\n",
       "    'body': 'We make animations in Matplotlib using the FuncAnimation function from the Animation API. We need to specify the figure on which we draw a predefined number of consecutive frames.A predetermined interval expressed in milliseconds defines the delay between the frames.. In this context, the animate function plays a central role, where the input argument is the frame number, starting from 0.'},\n",
       "   {'title': 'Plot types — Matplotlib 3.10.1 documentation',\n",
       "    'href': 'https://matplotlib.org/stable/plot_types/index.html',\n",
       "    'body': 'Overview of many common plotting commands provided by Matplotlib. See the gallery for more examples and the tutorials page for longer examples. Pairwise data# Plots of pairwise \\\\((x, y)\\\\) ... Plots of the distribution of at least one variable in a dataset. Some of these methods also compute the distributions. hist(x) hist(x) boxplot(X)'},\n",
       "   {'title': 'Real time plotting with Matplotlib in Python - CodersLegacy',\n",
       "    'href': 'https://coderslegacy.com/python/matplotlib-real-time-plotting-graphs/',\n",
       "    'body': 'Plotting Data in Real Time . We will be using the matplotlib animation module in order to achieve our goal.. The animation module has a special function called FuncAnimation, which periodically executes a given function at given intervals. Inside this function, we will updating the graph by adding a new value to it.'},\n",
       "   {'title': 'Plotting Continuous Functions - matplotlib-users - Matplotlib',\n",
       "    'href': 'https://discourse.matplotlib.org/t/plotting-continuous-functions/8182',\n",
       "    'body': 'curves. Now I need to plot normal curves (a.k.a. Gaussian or bell curves, depending on the background of the speaker/writer). I see that SciPy has a class for the normal curve in its stats package, and that the curve shape is defined by the mean and standard deviation. My need is to draw these curves based on the midpoint (== mean) and tail'},\n",
       "   {'title': 'Plot a function in Python with Matplotlib | EasyTweaks.com',\n",
       "    'href': 'https://www.easytweaks.com/plot-continuous-function-python-matplotlib/',\n",
       "    'body': \"In this tutorial we will show how to you can easily plot a function with Python and specifically using the Numpy, Matplotlib and Seaborn libraries. Draw a continuous function graph with Python and Matplotlib. In this example we'll going to go ahead and plot a function of two variables with Matplotlib. As an example, we'll draw a simple line ...\"},\n",
       "   {'title': 'Step by Step Fractals with Python | Ezequiel Leonardo Castaño Personal ...',\n",
       "    'href': 'https://elc.github.io/posts/plotting-fractals-step-by-step-with-python/',\n",
       "    'body': 'A fractal is an object or quantity that displays self-similarity, in a somewhat technical sense, on all scales. ... which with 3 iterations has a clear structure and in the other hand the Dragon Curve which has a clear structure with 8 iterations. ... being Matplotlib the most popular but they are usually design to plot statistical data and ...'},\n",
       "   {'title': 'How to plot the piecewise continuous points in matplotlib',\n",
       "    'href': 'https://stackoverflow.com/questions/29256323/how-to-plot-the-piecewise-continuous-points-in-matplotlib',\n",
       "    'body': 'If I were you I would enter that line by line, hitting plt.draw() after every line of matplotlib code to see what exactly is going on. Share Improve this answer'},\n",
       "   {'title': 'More Fractals Using Python - Medium',\n",
       "    'href': 'https://medium.com/@bekelet/more-fractals-using-python-832ee5389ff3',\n",
       "    'body': 'import numpy as np import matplotlib.pyplot as plt %matplotlib inline The first function is used to translate, store and plot the specific pattern of the fractal. As a reminder, F stands for move ...'}],\n",
       "  [{'title': 'HilbertCurve—Wolfram Language Documentation',\n",
       "    'href': 'https://reference.wolfram.com/language/ref/HilbertCurve.html.en',\n",
       "    'body': 'HilbertCurve is also known as Hilbert space-filling curve. HilbertCurve [ n ] returns a Line primitive corresponding to a path that starts at { 0 , 0 } , then joins all integer points in the 2 n -1 by 2 n -1 square, and ends at { 2 n -1 , 0 } .'},\n",
       "   {'title': 'Hilbert Curve Generation With Lookup Tables - Grant Trebbin',\n",
       "    'href': 'https://www.grant-trebbin.com/2017/02/hilbert-curve-generation-with-lookup.html',\n",
       "    'body': 'The location table can then be used to find the coordinates of the sub-types. As binary coordinates are used, the x and y coordinates of the sub-type can be appended to its coordinates to find the new sub-coordinates. For example, the coordinates of the type 4 sub-type at position (1, 0) above are (1, 1) (0, 1) (0, 0) (1, 0).'},\n",
       "   {'title': 'GitHub - Septipus/Hilbert-Curve-Generator: Basic implementation of ...',\n",
       "    'href': 'https://github.com/Septipus/Hilbert-Curve-Generator',\n",
       "    'body': \"Basic implementation of Hilbert Curve mapping for a given depth that avoids using the standard turtle/rigid implementations. I was inspired to find this solution by watching the 3Blue1Brown video Hilbert's Curve: Is infinite math useful?, which is just absolutely beautiful. Infact,I highly recommend you check out all his work, it never fails to ...\"},\n",
       "   {'title': 'Hilbert-Curve-Generator - GitHub',\n",
       "    'href': 'https://github.com/benjaminwgordon/HSFC-generator',\n",
       "    'body': 'The iterator exposed by this module can be used to generate points in a BRGC of any magnitude, although for the typical purposes of generating square hilbert curves and cubic hilbert cubes, the number of generated points will typically be p^n, where n is the number of dimensions for the resulting cartesian coordinates (2D and 3D currently ...'},\n",
       "   {'title': 'Calculating Hilbert Curve Coordinates - Grant Trebbin',\n",
       "    'href': 'https://www.grant-trebbin.com/2017/03/calculating-hilbert-curve-coordinates.html',\n",
       "    'body': \"Now onto the actual transform. It's minimal and easy to compute. It's not a recursive algorithm and takes a bit string that specifies the Hilbert index as an input and performs a series of swaps and inversions to return a bit string of the same length that describes the Hilbert coordinates.\"},\n",
       "   {'title': ' An Intuitive Method for Hilbert Curve Coding - Ijccr',\n",
       "    'href': 'https://www.ijccr.com/November2011/11.pdf',\n",
       "    'body': 'Figure 1.1: Generation of Hilbert curve using L-System concept The Hilbert curve as shown in Figure 1.1 has been generated by using the L-system concept up to 6 th iterations. The simple logical sequence of Hilbert curve is also shown in Figure 1.2. Hilbert curve is a space filling curve and its importance has been increased in recent years due ...'},\n",
       "   {'title': 'Generating a 3D space filling Hilbert curve using turtle graphics',\n",
       "    'href': 'https://stackoverflow.com/questions/35813844/generating-a-3d-space-filling-hilbert-curve-using-turtle-graphics',\n",
       "    'body': 'I have a turtle-graphics-based algorithm for generating a space-filling Hilbert curve in two dimensions. It is recursive and goes like this: Wa want to draw a curve of order n, in direction x (where x ∈ {L, R}), and let y be the direction opposite to x. We do as follows: turn in the direction y; draw a Hilbert curve of order n-1, direction y'},\n",
       "   {'title': 'Space-filling curve for rectangular domains or arbitrary size. - gilbert',\n",
       "    'href': 'https://jakubcerveny.github.io/gilbert/',\n",
       "    'body': 'Generalized Hilbert (\"gilbert\") space-filling curve for rectangular domains of arbitrary (non-power of two) sizes. The discrete Hilbert curve is a widely used space-filling curve to map between N-dimensional and 1-D spaces while preserving locality. However, classical algorithms only work for domains whose sides are powers of two.'},\n",
       "   {'title': 'Efficient algorithm for generating Hilbert Curves, based on ... - GitHub',\n",
       "    'href': 'https://github.com/wzli/hilbert_gen',\n",
       "    'body': 'Efficient algorithm for generating Hilbert Curves, based on sequential copy and transpose of blocks using bit-wise instructions. - wzli/hilbert_gen. ... There are other more efficient algorithms for translating between sparse coordinates. Usage. Basic example // create a buffer and declare the order uint8_t curve ...'},\n",
       "   {'title': ' HilbertCurve: Making 2D Hilbert Curve - Bioconductor',\n",
       "    'href': 'https://bioconductor.org/packages/release/bioc/manuals/HilbertCurve/man/HilbertCurve.pdf',\n",
       "    'body': 'Description Hilbert curve is a type of space-filling curves that fold one dimensional axis into a two dimensional space, but with still preserves the locality. This package aims to provide an easy and flexible way to visualize data through Hilbert curve. biocViews Software, Visualization, Sequencing, Coverage, GenomeAnnotation'}],\n",
       "  [{'title': 'Calculate the Hilbert value of a point for use in a Hilbert R-Tree?',\n",
       "    'href': 'https://stackoverflow.com/questions/106237/calculate-the-hilbert-value-of-a-point-for-use-in-a-hilbert-r-tree',\n",
       "    'body': 'I tested it and it seems to work fine, but I noticed that the bit-interleaving function overflows at recursion level 7 (at least in my tests, but I used long values), because the \"n\"-value is calculated using highestOneBit()-function, which returns the value and not the position of the highest one bit; so the loop does unnecessarily many ...'},\n",
       "   {'title': 'Recursive patterns - the Hilbert curve - The Craft of Coding',\n",
       "    'href': 'https://craftofcoding.wordpress.com/2024/02/20/recursive-patterns-the-hilbert-curve/',\n",
       "    'body': 'The algorithm functions by visiting every point in a square grid. The basic unit shapes of a Hilbert curves are \"U\" shaped open squares, and joins which bridge the \"U\"s. The example in below shows the first few iterations of Hilbert\\'s version of a space filling curve, with its space filling properties clearly illustrated.'},\n",
       "   {'title': \"Algorithm 781: Generating Hilbert's Space-Filling Curve by Recursion\",\n",
       "    'href': 'https://dl.acm.org/doi/pdf/10.1145/290200.290219',\n",
       "    'body': '1st term : calls that actually produce a point on the curve. 2nd term : due to recursive calling to find the desired points. This gives the ratio Points Calls 5 3W 2 4W 2 2 1 375% forW.58. At curve widths greater than 8, the algorithmic calling efficiency (num-ber of points generated/number of calls to the recursive procedure) approx-imates to 75%.'},\n",
       "   {'title': 'Hilbert Curve Generation With Lookup Tables - Grant Trebbin',\n",
       "    'href': 'https://www.grant-trebbin.com/2017/02/hilbert-curve-generation-with-lookup.html',\n",
       "    'body': 'The curve covers every point in a square with side length 2^n by moving up, down, left and right, starting at one corner and ending at an adjacent corner. You could accomplish the same requirements by just scanning back and forth across the rows, but the advantage the Hilbert curve has is that nearby points on the 2D grid are generally also ...'},\n",
       "   {'title': 'Algorithmic - Hilbert Curve: Concepts & Implementation',\n",
       "    'href': 'http://fundza.com/algorithmic/space_filling/hilbert/basics/index.html',\n",
       "    'body': \"In addition to the counter (n) that tracks the level from which the function begins to recursively call itself, there are six other inputs to Andrew's procedure. The first two define the x and y coordinates of an input point that will be used in the calculation of a point on the Hilbert curve. The next 4 values define two vectors.\"},\n",
       "   {'title': 'GitHub - connesy/hilbert-curve: Small project to recursively calculate ...',\n",
       "    'href': 'https://github.com/connesy/hilbert-curve',\n",
       "    'body': \"Small project to recursively calculate and plot each successive order of the Hilbert Curve. After watching 3Blue1Brown's video on Hilbert's Curve again recently, I decided to code it up myself. Especially the recursive nature of the definition of each order of the curve seemed like a fun challenge.\"},\n",
       "   {'title': '12. Example of recursion: Hilbert Curves - homes.cs.aau.dk',\n",
       "    'href': 'https://homes.cs.aau.dk/~normark/prog3-03/html/notes/fu-intr-2_themes-hilbert-sec.html',\n",
       "    'body': 'Figure 12.2 In the starting point we have a Hilbert Curve of order 0 - that is nothing. It is empty. For illustrative purpose, the empty Hilbert Curve of order 0 is shown as a small circle. We see how four instances (which in the starting point are overlapping in the middle of the picture) are moved to the four corners.'},\n",
       "   {'title': 'Hilbert Curve (Recursion) - Patt Vira',\n",
       "    'href': 'https://www.pattvira.com/coding-tutorials/v/hilbert-curve-recursion',\n",
       "    'body': \"🔗 Code Example: Hilbert Curve (Recursion) 🔗 Timestamps: 0:10 The Hilbert Curve. 1:21 3 Properties of Recursion . 1:42 Write the base condition . 4:41 Write a recursion function. 6:08 Write a conditional statement to call a recursive function. 8:00 Deep dive into the cup's dimensions. 11:09 Rotate cups in the lower quadrants.\"},\n",
       "   {'title': 'Recursive Formulation of Multidimensional Hilbert Space-Filling Curves',\n",
       "    'href': 'https://people.csail.mit.edu/jaffer/Geometry/RFMDSFF',\n",
       "    'body': 'There is a surfeit of 2-dimensional space-filling curves, but generalizing them to higher rank is not necessarily practical or even possible. [Bongki 2001] attributes generalization of space-filling curves to any rank to ; who gives algorithms for the Hilbert and the Peano space-filling curves in separate papers. The rigorous explanations of algorithms for multidimensional space-filling ...'},\n",
       "   {'title': 'recursion-and-dynamic-programming/hilbert curve.py at master - GitHub',\n",
       "    'href': 'https://github.com/je-suis-tm/recursion-and-dynamic-programming/blob/master/hilbert+curve.py',\n",
       "    'body': 'Julia and Python recursion algorithm, fractal geometry and dynamic programming applications including Edit Distance, Knapsack (Multiple Choice), Stock Trading, Pythagorean Tree, Koch Snowflake, Jerusalem Cross, Sierpiński Carpet, Hilbert Curve, Pascal Triangle, Prime Factorization, Palindrome, Egg Drop, Coin Change, Hanoi Tower, Cantor Set, Fibonacci - recursion-and-dynamic-programming ...'}]]}"
      ]
     },
     "execution_count": 12,
     "metadata": {},
     "output_type": "execute_result"
    }
   ],
   "source": [
    "search_response = searcher.invoke(state)\n",
    "search_response"
   ]
  },
  {
   "cell_type": "code",
   "execution_count": 13,
   "metadata": {},
   "outputs": [],
   "source": [
    "state[\"websearch\"] = search_response[\"websearch\"]"
   ]
  },
  {
   "cell_type": "code",
   "execution_count": 14,
   "metadata": {},
   "outputs": [
    {
     "name": "stdout",
     "output_type": "stream",
     "text": [
      "**** Analyst ****\n",
      "question:  Write a Python code that plots the Hilbert curve for any depth using matplotlib. For the tests, give me exactly the coordinates of the curve for various depths.\n",
      "messages=[SystemMessage(content='You are the best to split a coding request into several small steps easily implementable by a junior developer.\\n\\n- Think twice before answering.\\n- Use heavily the previous researches that you have done for this request.\\n- You read the question and split it into several steps to be able to analyse it in depth and provide the more precise answer you can.\\n- Your answer will not contain any code.\\n- For each step, add a title and the algorithm steps that will be translate in any programming language.\\n- The XML tag is important and must be used as described below.\\n- The XML tag name must be unchanged.\\n- You use only these XML tags: <root>, <request>, <material>, <algorithm>, <title>, <inputs>, <outputs>, <steps>, <tests> and nothing else.\\n- Each step will be writing in markdown format.\\n- The <material> section must contain at least 1000 words, give ideas of the overall and the mathematical formula of the studies.\\n- The algorithm steps must be detailed and must contain at least 10 steps.\\n- The algorithm steps must be as clear as possible and don\\'t need any reasoning, just apply the algorithm.\\n- The development environment is already set up. You don\\'t have to add that in the steps.\\n- You will provide a test section with the exact inputs values and the exact expected outputs values for each test (see example below).\\n- YOUR RESPONSE MUST STRICTLY HAVE THE FOLLOWING STRUCTURE AND NO OTHER SECTIONS:\\n\\n```xml\\n<root>\\n    <request>\\n    reformulate the user request to a clear and concise paragraph which will be used by the team as a starting point.\\n    </request>\\n    <material>\\n        Long resume of the previous researches that can help to implement the request and give ideas of the overall. (at least 1000 words)\\n    </material>\\n    <algorithm id=\"1\">\\n        <title>\\n            Title of the algorithm (to be replaced by the actual title)\\n        </title>\\n        <inputs>\\n            List of inputs of the algorithm (to be replaced by the actual inputs)\\n        </inputs>\\n        <outputs>\\n            List of outputs of the algorithm (to be replaced by the actual outputs)\\n        </outputs>\\n        <steps>\\n            The full description of the algorithm step by step that will be translate in any programming language. At least 10 steps. (to be replaced by the actual description)\\n        </steps>\\n    </algorithm>\\n    <algorithm id=\"2\">\\n        <title>\\n            Title of the algorithm (to be replaced by the actual title)\\n        </title>\\n        <inputs>\\n            List of inputs of the algorithm (to be replaced by the actual inputs)\\n        </inputs>\\n        <outputs>\\n            List of outputs of the algorithm (to be replaced by the actual outputs)\\n        </outputs>\\n        <steps>\\n            The full description of the algorithm step by step that will be translate in any programming language. At least 10 steps. (to be replaced by the actual description)\\n        </steps>\\n    </algorithm>\\n    ...\\n    <algorithm id=\"n\">\\n        <title>\\n            Title of the algorithm (to be replaced by the actual title)\\n        </title>\\n        <inputs>\\n            List of inputs of the algorithm (to be replaced by the actual inputs)\\n        </inputs>\\n        <outputs>\\n            List of outputs of the algorithm (to be replaced by the actual outputs)\\n        </outputs>\\n        <steps>\\n            The full description of the algorithm step by step that will be translate in any programming language. At least 10 steps. (to be replaced by the actual description)\\n        </steps>\\n    </algorithm>\\n    <tests>\\n        List of tests to be performed to ensure the code is working correctly.\\n    </tests>\\n</root>\\n```\\nExample of response:\\n```xml\\n<root>\\n    <request>\\n    Write a Python function that generates the Fibonacci numbers.\\n    </request>\\n    <material>\\n    In mathematics, the Fibonacci sequence is a sequence in which each element is the sum of the two elements that precede it. Numbers that are part of the Fibonacci sequence are known as Fibonacci numbers, commonly denoted Fn. Many writers begin the sequence with 0 and 1, although some authors start it from 1 and 1 and some (as did Fibonacci) from 1 and 2. Starting from 0 and 1, the sequence begins:\\n\\n    0, 1, 1, 2, 3, 5, 8, 13, 21, 34, 55, 89, 144, ... (sequence A000045 in the OEIS)\\n\\n    A tiling with squares whose side lengths are successive Fibonacci numbers: 1, 1, 2, 3, 5, 8, 13 and 21\\n\\n    The Fibonacci numbers were first described in Indian mathematics as early as 200 BC in work by Pingala on enumerating possible patterns of Sanskrit poetry formed from syllables of two lengths. They are named after the Italian mathematician Leonardo of Pisa, also known as Fibonacci, who introduced the sequence to Western European mathematics in his 1202 book Liber Abaci.\\n\\n    Fibonacci numbers appear unexpectedly often in mathematics, so much so that there is an entire journal dedicated to their study, the Fibonacci Quarterly. Applications of Fibonacci numbers include computer algorithms such as the Fibonacci search technique and the Fibonacci heap data structure, and graphs called Fibonacci cubes used for interconnecting parallel and distributed systems. They also appear in biological settings, such as branching in trees, the arrangement of leaves on a stem, the fruit sprouts of a pineapple, the flowering of an artichoke, and the arrangement of a pine cone\\'s bracts, though they do not occur in all species.\\n\\n    Fibonacci numbers are also strongly related to the golden ratio: Binet\\'s formula expresses the n-th Fibonacci number in terms of n and the golden ratio, and implies that the ratio of two consecutive Fibonacci numbers tends to the golden ratio as n increases. Fibonacci numbers are also closely related to Lucas numbers, which obey the same recurrence relation and with the Fibonacci numbers form a complementary pair of Lucas sequences.\\n\\n    The Fibonacci numbers may be defined by the recurrence relation F[0]=0, F[1]=1, and F[n]=F[n-1]+F[n-2] for n > 1.\\n\\n    The first 20 Fibonacci numbers Fn are: 0, 1, 1, 2, 3, 5, 8, 13, 21, 34, 55, 89, 144, 233, 377, 610, 987, 1597, 2584, 4181.\\n\\n    </material>\\n    <algorithm id=\"1\">\\n        <title>\\n            Fibonacci function\\n        </title>\\n        <inputs>\\n            n: the number of Fibonacci numbers to generate\\n        </inputs>\\n        <outputs>\\n            A list of the first `n` Fibonacci numbers\\n        </outputs>\\n        <steps>\\n            1. Define a function named `fibonacci` that takes an integer `n` as input.\\n            2. Initialize two variables `a` and `b` to 0 and 1 respectively.\\n            3. Use a loop to iterate from 0 to `n-1`.\\n            4. In each iteration, calculate the next Fibonacci number by adding `a` and `b`. We recall that the Fibonacci sequence is defined as F(n) = F(n-1) + F(n-2) with F(0) = 0 and F(1) = 1.\\n            5. Update `a` and `b` to the next two Fibonacci numbers.\\n            6. Return the list of Fibonacci numbers.\\n        </steps>\\n    </algorithm>\\n    <tests>\\n        1. Test the function with different values of `n` to ensure it work correctly. For example, test with `n=5` and `n=10` where the expected output is `[0, 1, 1, 2, 3, 5]` and `[0, 1, 1, 2, 3, 5, 8, 13, 21, 34, 55]` respectively.\\n        2. Test the function with negative values of `n` to ensure it handles invalid input correctly. For example, test with `n=-1` where the expected output is an error message.\\n    </tests>\\n</root>\\n```\\n\\n\\n', additional_kwargs={}, response_metadata={}), HumanMessage(content='The user request is : Write a Python code that plots the Hilbert curve for any depth using matplotlib. For the tests, give me exactly the coordinates of the curve for various depths.. Tell me more about it.', additional_kwargs={}, response_metadata={}), AIMessage(content='Of course ! Here is what I found : [[{\\'title\\': \\'Python - Hilbert Curve using turtle - GeeksforGeeks\\', \\'href\\': \\'https://www.geeksforgeeks.org/python-hilbert-curve-using-turtle/\\', \\'body\\': \\'Fractal is a curve or a figure which repeats itself. It comprises a recursive pattern that repeats itself up to a desired level of nesting. Turtle graphics are provided in the turtle module which is used for drawing various shapes and patterns in Python.. A Hilbert curve is a curve that is formed by connecting a sequence of U-shaped curves arranged and oriented in different directions.\\'}, {\\'title\\': \\'Algorithm for generating a 3D Hilbert space-filling curve in Python\\', \\'href\\': \\'https://stackoverflow.com/questions/14519267/algorithm-for-generating-a-3d-hilbert-space-filling-curve-in-python\\', \\'body\\': \\'Here is a recursive function that breaks a cube in 8 parts and rotates each part so that it traverses a hilbert curve in order. The arguments represent the size:s, location:xyz, and 3 vectors for the rotated axes of the cube.\\'}, {\\'title\\': \"Algorithm 781: Generating Hilbert\\'s Space-Filling Curve by Recursion\", \\'href\\': \\'https://dl.acm.org/doi/pdf/10.1145/290200.290219\\', \\'body\\': \\'algorithm implements a recursive procedure that involves simple integer operations and quickly converges to the set of points that make the Hilbert curve. The algorithm is elegant, short, and considerably easier to implement than previous recursive and nonrecursive algorithms and can be efficiently implemented in all programming languages that have\\'}, {\\'title\\': \\'Algorithmic - Hilbert Curve: Concepts & Implementation\\', \\'href\\': \\'http://www.fundza.com/algorithmic/space_filling/hilbert/basics/\\', \\'body\\': \\'To fully understand how Andrews recursive function operates is not easy and in order to do so it is necessary to break-down his Hilbert procedure so that the role that each \"part\" plays in the construction of the curve can be more readily understood.\\'}, {\\'title\\': \\'Hilbert Curves With Python Visualizations - Medium\\', \\'href\\': \\'https://medium.com/@peterantonarosjr/hilbert-curves-with-python-visualizations-2fa30508e3ec\\', \\'body\\': \\'Consider the string \"AB\" with the substitution rule that A B, B AA, and a max recursion level of 2. ... I am going to be using Python with the Hilbert Curve package to get us started.\\'}, {\\'title\\': \\'numpy-hilbert-curve · PyPI\\', \\'href\\': \\'https://pypi.org/project/numpy-hilbert-curve/\\', \\'body\\': \\'numpy-hilbert-curve. This is a numpy-based implementation of Hilbert curves, for up to a few tens of dimensions. A Hilbert curve is a continuous space-filling curve that lets you map from a single dimension into multiple dimensions. In two dimensions, you get curves that look like this: In three dimensions, you get curves that look like this:\\'}, {\\'title\\': \\'recursion-and-dynamic-programming/hilbert curve.py at master - GitHub\\', \\'href\\': \\'https://github.com/je-suis-tm/recursion-and-dynamic-programming/blob/master/hilbert+curve.py\\', \\'body\\': \\'Julia and Python recursion algorithm, fractal geometry and dynamic programming applications including Edit Distance, Knapsack (Multiple Choice), Stock Trading, Pythagorean Tree, Koch Snowflake, Jerusalem Cross, Sierpiński Carpet, Hilbert Curve, Pascal Triangle, Prime Factorization, Palindrome, Egg Drop, Coin Change, Hanoi Tower, Cantor Set, Fibonacci - recursion-and-dynamic-programming ...\\'}, {\\'title\\': \\'Programming a figure in Python : The Hilbert curve\\', \\'href\\': \\'https://www.mathgraph32.org/spip.php?article1027\\', \\'body\\': \\'The theorical Hilbert curve is obtained by iterating this process to the infinite. It is a continuoux curve that fills entirely a square (here a parallelogram). In the figure aboven we limit the depth of recursion to a value of 5. Going above this limit outpass the screen definition. Explanations on the API functions used in this code :\\'}, {\\'title\\': \\'Algorithm-and-Data-Structure-In-Python/Recursion-exercise3-hilbert ...\\', \\'href\\': \\'https://github.com/MollyZhang/Algorithm-and-Data-Structure-In-Python/blob/master/Recursion-exercise3-hilbert+curve.py\\', \\'body\\': \\'You signed in with another tab or window. Reload to refresh your session. You signed out in another tab or window. Reload to refresh your session. You switched accounts on another tab or window.\\'}, {\\'title\\': \\'PrincetonLIPS/numpy-hilbert-curve - GitHub\\', \\'href\\': \\'https://github.com/PrincetonLIPS/numpy-hilbert-curve\\', \\'body\\': \\'This is a numpy-based implementation of Hilbert curves, for up to a few tens of dimensions. A Hilbert curve is a continuous space-filling curve that lets you map from a single dimension into multiple dimensions. In two dimensions, you get curves that look like this: In three dimensions, you get curves that look like this:\\'}], [{\\'title\\': \\'A Python implementation of popular space filling curves\\', \\'href\\': \\'https://github.com/mbrg/space-filling-curves\\', \\'body\\': \\'A Python implementation of popular space filling curves - mbrg/space-filling-curves. Skip to content. Navigation Menu Toggle navigation. Sign in Product ... A Python implementation of popular space filling curves Topics. mathematical-analysis space-filling-curves Resources. Readme License. MIT license Activity. Stars. 0 stars.\\'}, {\\'title\\': \\'Generating a space filling curve in Python - Third Landing\\', \\'href\\': \\'http://thirdlanding.com/generating-a-space-filling-curve-in-python/\\', \\'body\\': \\'20) for generating such curves written in Modula-2. In this post, I will show a translation into Python, which was straightforward to implement. Note there is an excellent Python library for generating different kinds of space filling curves (including Sierpinski and Hilbert), but for now, I will be using the translated Bartholdi code as shown ...\\'}, {\\'title\\': \\'thigs0/space-filling-curves_python - GitHub\\', \\'href\\': \\'https://github.com/thigs0/space-filling-curves_python\\', \\'body\\': \\'from L_SpaceCurves import L_SpaceCurves as ls l = ls.L_SpaceCurves(leng=10, speed=0, iter=2, origin=(0, 0)) # leng is the size of each line to construct the curve # speed is the speed to contruct the curve. 0 fast, 10 sloow # iter is the total of iteractions that you wish (more iteractions is more time) $ origin is a tuple that set the origin ...\\'}, {\\'title\\': \\'space-filling-curves · GitHub Topics · GitHub\\', \\'href\\': \\'https://github.com/topics/space-filling-curves?l=python\\', \\'body\\': \\'A Python implementation of the Aztec space-filling curve. hilbert-curve fractal-images fractal-algorithms space-filling-curves zigzag-scanning peano-curve. Updated Aug 1, 2024; ... To associate your repository with the space-filling-curves topic, visit your repo\\\\\\'s landing page and select \"manage topics.\" Learn more Footer\\'}, {\\'title\\': \\'numpy-hilbert-curve - PyPI\\', \\'href\\': \\'https://pypi.org/project/numpy-hilbert-curve/\\', \\'body\\': \\'numpy-hilbert-curve. This is a numpy-based implementation of Hilbert curves, for up to a few tens of dimensions. A Hilbert curve is a continuous space-filling curve that lets you map from a single dimension into multiple dimensions. In two dimensions, you get curves that look like this: In three dimensions, you get curves that look like this:\\'}, {\\'title\\': \\'zCurve - PyPI\\', \\'href\\': \\'https://pypi.org/project/zCurve/\\', \\'body\\': \\'zCurve is a Python module with methods to efficiently map multidimensional data to a single dimension while preserving locality of the data points. This mapping is commonly known as Z-order, Lebesgue curve, Morton space filling curve, Morton order or Morton code. Image by David Eppstein, 2008\\'}, {\\'title\\': \"Rare implementations: Sierpinski\\'s curve - piratefsh.github.io\", \\'href\\': \\'https://piratefsh.github.io/2020/08/08/sierpinski-curve.html\\', \\'body\\': \"I highly recommend all 4 parts of the space-filling curve series. The advantage of this implementation over the existing implementations is that it also surfaces the intermediary iterations, the ones that have edges that look like bulbs, in addition to the classic Sierpinski\\'s curve shape.\"}, {\\'title\\': \\'Algorithm for generating a 3D Hilbert space-filling curve in Python\\', \\'href\\': \\'https://stackoverflow.com/questions/14519267/algorithm-for-generating-a-3d-hilbert-space-filling-curve-in-python\\', \\'body\\': \"However, it is not clear what is the best way to generalize this curve to filling higher-dimensional spaces. We argue that the properties that make Hilbert\\'s curve unique in two dimensions, are shared by 10694807 structurally different space-filling curves in three dimensions.\"}, {\\'title\\': \\'space-filling-pytorch · PyPI\\', \\'href\\': \\'https://pypi.org/project/space-filling-pytorch/\\', \\'body\\': \\'space-filling-pytorch. A set of GPU-optimized space-filling-curve algorithms (e.g., Hilbert, Z-order) implemented in PyTorch and OpenAI Triton. These algorithms are more than 30 times faster than typical PyTorch-based implementations using kernel fusion.\\'}, {\\'title\\': \\'~dalke/rectfillcurve - Generate space-filling curves for arbitrary ...\\', \\'href\\': \\'https://hg.sr.ht/~dalke/rectfillcurve\\', \\'body\\': \\'A standalone C library and Python extension module for generating space-filling curves for arbitrary-sized rectangles through an iterator API. (See Background for details.) This package implements several curves: \"row\" - for each row, visit each column in forward order; \"zigzag\" - for each row, visit each column in alternating order;\\'}], [{\\'title\\': \\'Plotting a continuous stream of data with MatPlotLib\\', \\'href\\': \\'https://stackoverflow.com/questions/42024817/plotting-a-continuous-stream-of-data-with-matplotlib\\', \\'body\\': \\'(1) You can set plt.ion() at the beginning and plot all graphs to the same window. Within the loop use plt.draw() to show the graph and plt.pause(t) to make a pause. Note that t can be very small, but the command needs to be there for the animation to work on most backends. You might want to clear the axes before plotting new content using plt.gca().cla(). ...\\'}, {\\'title\\': \\'Plot Mathematical Expressions in Python using Matplotlib\\', \\'href\\': \\'https://www.geeksforgeeks.org/plot-mathematical-expressions-in-python-using-matplotlib/\\', \\'body\\': \\'Matplotlib is a Python library that can be used for plotting graphs and figures. Plotting multiplots or multiple plots are often required either for comparing the two curves or show some gradual changes in the multiple plots, and this can be done using Subplots. Subplots are one of the most importan\\'}, {\\'title\\': \\'Animate Your Own Fractals in Python with Matplotlib\\', \\'href\\': \\'https://matplotlib.org/matplotblog/posts/animated-fractals/\\', \\'body\\': \\'We make animations in Matplotlib using the FuncAnimation function from the Animation API. We need to specify the figure on which we draw a predefined number of consecutive frames.A predetermined interval expressed in milliseconds defines the delay between the frames.. In this context, the animate function plays a central role, where the input argument is the frame number, starting from 0.\\'}, {\\'title\\': \\'Plot types — Matplotlib 3.10.1 documentation\\', \\'href\\': \\'https://matplotlib.org/stable/plot_types/index.html\\', \\'body\\': \\'Overview of many common plotting commands provided by Matplotlib. See the gallery for more examples and the tutorials page for longer examples. Pairwise data# Plots of pairwise \\\\\\\\((x, y)\\\\\\\\) ... Plots of the distribution of at least one variable in a dataset. Some of these methods also compute the distributions. hist(x) hist(x) boxplot(X)\\'}, {\\'title\\': \\'Real time plotting with Matplotlib in Python - CodersLegacy\\', \\'href\\': \\'https://coderslegacy.com/python/matplotlib-real-time-plotting-graphs/\\', \\'body\\': \\'Plotting Data in Real Time . We will be using the matplotlib animation module in order to achieve our goal.. The animation module has a special function called FuncAnimation, which periodically executes a given function at given intervals. Inside this function, we will updating the graph by adding a new value to it.\\'}, {\\'title\\': \\'Plotting Continuous Functions - matplotlib-users - Matplotlib\\', \\'href\\': \\'https://discourse.matplotlib.org/t/plotting-continuous-functions/8182\\', \\'body\\': \\'curves. Now I need to plot normal curves (a.k.a. Gaussian or bell curves, depending on the background of the speaker/writer). I see that SciPy has a class for the normal curve in its stats package, and that the curve shape is defined by the mean and standard deviation. My need is to draw these curves based on the midpoint (== mean) and tail\\'}, {\\'title\\': \\'Plot a function in Python with Matplotlib | EasyTweaks.com\\', \\'href\\': \\'https://www.easytweaks.com/plot-continuous-function-python-matplotlib/\\', \\'body\\': \"In this tutorial we will show how to you can easily plot a function with Python and specifically using the Numpy, Matplotlib and Seaborn libraries. Draw a continuous function graph with Python and Matplotlib. In this example we\\'ll going to go ahead and plot a function of two variables with Matplotlib. As an example, we\\'ll draw a simple line ...\"}, {\\'title\\': \\'Step by Step Fractals with Python | Ezequiel Leonardo Castaño Personal ...\\', \\'href\\': \\'https://elc.github.io/posts/plotting-fractals-step-by-step-with-python/\\', \\'body\\': \\'A fractal is an object or quantity that displays self-similarity, in a somewhat technical sense, on all scales. ... which with 3 iterations has a clear structure and in the other hand the Dragon Curve which has a clear structure with 8 iterations. ... being Matplotlib the most popular but they are usually design to plot statistical data and ...\\'}, {\\'title\\': \\'How to plot the piecewise continuous points in matplotlib\\', \\'href\\': \\'https://stackoverflow.com/questions/29256323/how-to-plot-the-piecewise-continuous-points-in-matplotlib\\', \\'body\\': \\'If I were you I would enter that line by line, hitting plt.draw() after every line of matplotlib code to see what exactly is going on. Share Improve this answer\\'}, {\\'title\\': \\'More Fractals Using Python - Medium\\', \\'href\\': \\'https://medium.com/@bekelet/more-fractals-using-python-832ee5389ff3\\', \\'body\\': \\'import numpy as np import matplotlib.pyplot as plt %matplotlib inline The first function is used to translate, store and plot the specific pattern of the fractal. As a reminder, F stands for move ...\\'}], [{\\'title\\': \\'HilbertCurve—Wolfram Language Documentation\\', \\'href\\': \\'https://reference.wolfram.com/language/ref/HilbertCurve.html.en\\', \\'body\\': \\'HilbertCurve is also known as Hilbert space-filling curve. HilbertCurve [ n ] returns a Line primitive corresponding to a path that starts at { 0 , 0 } , then joins all integer points in the 2 n -1 by 2 n -1 square, and ends at { 2 n -1 , 0 } .\\'}, {\\'title\\': \\'Hilbert Curve Generation With Lookup Tables - Grant Trebbin\\', \\'href\\': \\'https://www.grant-trebbin.com/2017/02/hilbert-curve-generation-with-lookup.html\\', \\'body\\': \\'The location table can then be used to find the coordinates of the sub-types. As binary coordinates are used, the x and y coordinates of the sub-type can be appended to its coordinates to find the new sub-coordinates. For example, the coordinates of the type 4 sub-type at position (1, 0) above are (1, 1) (0, 1) (0, 0) (1, 0).\\'}, {\\'title\\': \\'GitHub - Septipus/Hilbert-Curve-Generator: Basic implementation of ...\\', \\'href\\': \\'https://github.com/Septipus/Hilbert-Curve-Generator\\', \\'body\\': \"Basic implementation of Hilbert Curve mapping for a given depth that avoids using the standard turtle/rigid implementations. I was inspired to find this solution by watching the 3Blue1Brown video Hilbert\\'s Curve: Is infinite math useful?, which is just absolutely beautiful. Infact,I highly recommend you check out all his work, it never fails to ...\"}, {\\'title\\': \\'Hilbert-Curve-Generator - GitHub\\', \\'href\\': \\'https://github.com/benjaminwgordon/HSFC-generator\\', \\'body\\': \\'The iterator exposed by this module can be used to generate points in a BRGC of any magnitude, although for the typical purposes of generating square hilbert curves and cubic hilbert cubes, the number of generated points will typically be p^n, where n is the number of dimensions for the resulting cartesian coordinates (2D and 3D currently ...\\'}, {\\'title\\': \\'Calculating Hilbert Curve Coordinates - Grant Trebbin\\', \\'href\\': \\'https://www.grant-trebbin.com/2017/03/calculating-hilbert-curve-coordinates.html\\', \\'body\\': \"Now onto the actual transform. It\\'s minimal and easy to compute. It\\'s not a recursive algorithm and takes a bit string that specifies the Hilbert index as an input and performs a series of swaps and inversions to return a bit string of the same length that describes the Hilbert coordinates.\"}, {\\'title\\': \\' An Intuitive Method for Hilbert Curve Coding - Ijccr\\', \\'href\\': \\'https://www.ijccr.com/November2011/11.pdf\\', \\'body\\': \\'Figure 1.1: Generation of Hilbert curve using L-System concept The Hilbert curve as shown in Figure 1.1 has been generated by using the L-system concept up to 6 th iterations. The simple logical sequence of Hilbert curve is also shown in Figure 1.2. Hilbert curve is a space filling curve and its importance has been increased in recent years due ...\\'}, {\\'title\\': \\'Generating a 3D space filling Hilbert curve using turtle graphics\\', \\'href\\': \\'https://stackoverflow.com/questions/35813844/generating-a-3d-space-filling-hilbert-curve-using-turtle-graphics\\', \\'body\\': \\'I have a turtle-graphics-based algorithm for generating a space-filling Hilbert curve in two dimensions. It is recursive and goes like this: Wa want to draw a curve of order n, in direction x (where x ∈ {L, R}), and let y be the direction opposite to x. We do as follows: turn in the direction y; draw a Hilbert curve of order n-1, direction y\\'}, {\\'title\\': \\'Space-filling curve for rectangular domains or arbitrary size. - gilbert\\', \\'href\\': \\'https://jakubcerveny.github.io/gilbert/\\', \\'body\\': \\'Generalized Hilbert (\"gilbert\") space-filling curve for rectangular domains of arbitrary (non-power of two) sizes. The discrete Hilbert curve is a widely used space-filling curve to map between N-dimensional and 1-D spaces while preserving locality. However, classical algorithms only work for domains whose sides are powers of two.\\'}, {\\'title\\': \\'Efficient algorithm for generating Hilbert Curves, based on ... - GitHub\\', \\'href\\': \\'https://github.com/wzli/hilbert_gen\\', \\'body\\': \\'Efficient algorithm for generating Hilbert Curves, based on sequential copy and transpose of blocks using bit-wise instructions. - wzli/hilbert_gen. ... There are other more efficient algorithms for translating between sparse coordinates. Usage. Basic example // create a buffer and declare the order uint8_t curve ...\\'}, {\\'title\\': \\' HilbertCurve: Making 2D Hilbert Curve - Bioconductor\\', \\'href\\': \\'https://bioconductor.org/packages/release/bioc/manuals/HilbertCurve/man/HilbertCurve.pdf\\', \\'body\\': \\'Description Hilbert curve is a type of space-filling curves that fold one dimensional axis into a two dimensional space, but with still preserves the locality. This package aims to provide an easy and flexible way to visualize data through Hilbert curve. biocViews Software, Visualization, Sequencing, Coverage, GenomeAnnotation\\'}], [{\\'title\\': \\'Calculate the Hilbert value of a point for use in a Hilbert R-Tree?\\', \\'href\\': \\'https://stackoverflow.com/questions/106237/calculate-the-hilbert-value-of-a-point-for-use-in-a-hilbert-r-tree\\', \\'body\\': \\'I tested it and it seems to work fine, but I noticed that the bit-interleaving function overflows at recursion level 7 (at least in my tests, but I used long values), because the \"n\"-value is calculated using highestOneBit()-function, which returns the value and not the position of the highest one bit; so the loop does unnecessarily many ...\\'}, {\\'title\\': \\'Recursive patterns - the Hilbert curve - The Craft of Coding\\', \\'href\\': \\'https://craftofcoding.wordpress.com/2024/02/20/recursive-patterns-the-hilbert-curve/\\', \\'body\\': \\'The algorithm functions by visiting every point in a square grid. The basic unit shapes of a Hilbert curves are \"U\" shaped open squares, and joins which bridge the \"U\"s. The example in below shows the first few iterations of Hilbert\\\\\\'s version of a space filling curve, with its space filling properties clearly illustrated.\\'}, {\\'title\\': \"Algorithm 781: Generating Hilbert\\'s Space-Filling Curve by Recursion\", \\'href\\': \\'https://dl.acm.org/doi/pdf/10.1145/290200.290219\\', \\'body\\': \\'1st term : calls that actually produce a point on the curve. 2nd term : due to recursive calling to find the desired points. This gives the ratio Points Calls 5 3W 2 4W 2 2 1 375% forW.58. At curve widths greater than 8, the algorithmic calling efficiency (num-ber of points generated/number of calls to the recursive procedure) approx-imates to 75%.\\'}, {\\'title\\': \\'Hilbert Curve Generation With Lookup Tables - Grant Trebbin\\', \\'href\\': \\'https://www.grant-trebbin.com/2017/02/hilbert-curve-generation-with-lookup.html\\', \\'body\\': \\'The curve covers every point in a square with side length 2^n by moving up, down, left and right, starting at one corner and ending at an adjacent corner. You could accomplish the same requirements by just scanning back and forth across the rows, but the advantage the Hilbert curve has is that nearby points on the 2D grid are generally also ...\\'}, {\\'title\\': \\'Algorithmic - Hilbert Curve: Concepts & Implementation\\', \\'href\\': \\'http://fundza.com/algorithmic/space_filling/hilbert/basics/index.html\\', \\'body\\': \"In addition to the counter (n) that tracks the level from which the function begins to recursively call itself, there are six other inputs to Andrew\\'s procedure. The first two define the x and y coordinates of an input point that will be used in the calculation of a point on the Hilbert curve. The next 4 values define two vectors.\"}, {\\'title\\': \\'GitHub - connesy/hilbert-curve: Small project to recursively calculate ...\\', \\'href\\': \\'https://github.com/connesy/hilbert-curve\\', \\'body\\': \"Small project to recursively calculate and plot each successive order of the Hilbert Curve. After watching 3Blue1Brown\\'s video on Hilbert\\'s Curve again recently, I decided to code it up myself. Especially the recursive nature of the definition of each order of the curve seemed like a fun challenge.\"}, {\\'title\\': \\'12. Example of recursion: Hilbert Curves - homes.cs.aau.dk\\', \\'href\\': \\'https://homes.cs.aau.dk/~normark/prog3-03/html/notes/fu-intr-2_themes-hilbert-sec.html\\', \\'body\\': \\'Figure 12.2 In the starting point we have a Hilbert Curve of order 0 - that is nothing. It is empty. For illustrative purpose, the empty Hilbert Curve of order 0 is shown as a small circle. We see how four instances (which in the starting point are overlapping in the middle of the picture) are moved to the four corners.\\'}, {\\'title\\': \\'Hilbert Curve (Recursion) - Patt Vira\\', \\'href\\': \\'https://www.pattvira.com/coding-tutorials/v/hilbert-curve-recursion\\', \\'body\\': \"🔗 Code Example: Hilbert Curve (Recursion) 🔗 Timestamps: 0:10 The Hilbert Curve. 1:21 3 Properties of Recursion . 1:42 Write the base condition . 4:41 Write a recursion function. 6:08 Write a conditional statement to call a recursive function. 8:00 Deep dive into the cup\\'s dimensions. 11:09 Rotate cups in the lower quadrants.\"}, {\\'title\\': \\'Recursive Formulation of Multidimensional Hilbert Space-Filling Curves\\', \\'href\\': \\'https://people.csail.mit.edu/jaffer/Geometry/RFMDSFF\\', \\'body\\': \\'There is a surfeit of 2-dimensional space-filling curves, but generalizing them to higher rank is not necessarily practical or even possible. [Bongki 2001] attributes generalization of space-filling curves to any rank to ; who gives algorithms for the Hilbert and the Peano space-filling curves in separate papers. The rigorous explanations of algorithms for multidimensional space-filling ...\\'}, {\\'title\\': \\'recursion-and-dynamic-programming/hilbert curve.py at master - GitHub\\', \\'href\\': \\'https://github.com/je-suis-tm/recursion-and-dynamic-programming/blob/master/hilbert+curve.py\\', \\'body\\': \\'Julia and Python recursion algorithm, fractal geometry and dynamic programming applications including Edit Distance, Knapsack (Multiple Choice), Stock Trading, Pythagorean Tree, Koch Snowflake, Jerusalem Cross, Sierpiński Carpet, Hilbert Curve, Pascal Triangle, Prime Factorization, Palindrome, Egg Drop, Coin Change, Hanoi Tower, Cantor Set, Fibonacci - recursion-and-dynamic-programming ...\\'}]]', additional_kwargs={}, response_metadata={}), HumanMessage(content=\"Now it's time to implement the request: Write a Python code that plots the Hilbert curve for any depth using matplotlib. For the tests, give me exactly the coordinates of the curve for various depths.. Could you give me a detailed description of the algorithms to implement ?\", additional_kwargs={}, response_metadata={})]\n"
     ]
    }
   ],
   "source": [
    "analyst_response = Analyst().invoke(state)"
   ]
  },
  {
   "cell_type": "code",
   "execution_count": 15,
   "metadata": {},
   "outputs": [
    {
     "data": {
      "text/markdown": [
       "<think>\n",
       "Okay, so I need to write a Python function that generates and plots the Hilbert curve for any given depth using matplotlib. The user also wants specific tests with exact coordinates for various depths. Let's break this down.\n",
       "\n",
       "First, I remember that the Hilbert curve is a space-filling curve, which means it visits every point in a square grid without crossing itself. It's often generated recursively. Since the user mentioned any depth, my function should handle different levels of recursion, like depth 1, 2, up to maybe 5 or more.\n",
       "\n",
       "I need to figure out how to generate the coordinates for each point on the curve at a given depth. I recall that for Hilbert curves, you can represent points using binary numbers and then interleave their bits to determine the order in which they're visited. Maybe there's a way to map each integer from 0 to (2^depth -1) into x and y coordinates.\n",
       "\n",
       "Wait, but how exactly does that work? I think for each point i, you split its binary representation into two parts: one for x and one for y. Then, you interleave the bits of these two parts to get the Hilbert index. But I'm not entirely sure about the exact method. Maybe there's a lookup table or some bitwise operations that can help.\n",
       "\n",
       "I should look up an algorithm for generating Hilbert curve coordinates. Oh right, there's something called the Hilbert curve generator using bit manipulation. It involves creating a list of points where each point is determined by its binary representation and then transformed into x and y coordinates through some swapping and inversion steps.\n",
       "\n",
       "Once I have the coordinates, plotting them with matplotlib should be straightforward. I can use matplotlib to plot lines between consecutive points. But since the curve is made up of straight line segments, maybe I should plot each segment individually or just connect all points in order.\n",
       "\n",
       "Now, for the algorithm itself, I think it involves initializing a list to store the coordinates, then iterating through each integer from 0 to (2^depth -1), converting each to binary, and applying some transformations to get x and y. The exact steps might involve reversing bits or using lookup tables based on the depth.\n",
       "\n",
       "I also need to handle different depths correctly. For example, at depth 1, the curve is a simple square, but as the depth increases, it becomes more complex with more turns and segments.\n",
       "\n",
       "Testing is important too. The user wants exact coordinates for various depths. So I should include test cases where I can compare the generated points against known values. For instance, at depth 0, there's just one point (0,0). At depth 1, it's four points forming a square. For higher depths, the number of points increases exponentially.\n",
       "\n",
       "I need to make sure that my function correctly generates these points and that the plot accurately represents the Hilbert curve for each depth. Maybe I can write helper functions to convert integers to binary strings with leading zeros, ensuring they're the correct length based on the depth.\n",
       "\n",
       "Putting it all together, the steps would be:\n",
       "\n",
       "1. Define a function to generate Hilbert coordinates given a depth.\n",
       "2. For each integer from 0 to (2^depth -1), compute its x and y coordinates using bit manipulation.\n",
       "3. Use matplotlib to plot these points as line segments.\n",
       "4. Include test cases that check if the generated coordinates match expected values for different depths.\n",
       "\n",
       "I think I've got a rough idea, but I need to work out the exact bit manipulation steps and ensure the plotting connects all the points correctly without errors.\n",
       "</think>\n",
       "\n",
       "```xml\n",
       "<root>\n",
       "    <request>\n",
       "        Write a Python function that generates the Hilbert curve coordinates for any given depth and plots it using matplotlib. The solution should include test cases with exact coordinates for various depths.\n",
       "    </request>\n",
       "    <material>\n",
       "        The Hilbert curve is a continuous fractal space-filling curve, first described by German mathematician David Hilbert in 1895. It is a recursive curve that visits every point in a square grid exactly once and is often used in computer science for its locality-preserving properties. The curve can be generated to any depth (or order), with each level of recursion increasing the complexity of the curve.\n",
       "\n",
       "        The generation of Hilbert curve coordinates involves mapping integers to 2D points through a series of bitwise operations and transformations. For a given depth `n`, the curve will have `2^(2n)` points, forming a grid of size `(2^n x 2^n)`. Each point on the curve can be determined by converting its index into binary, manipulating the bits to account for the Hilbert pattern, and then transforming these bits back into coordinates.\n",
       "\n",
       "        The algorithm involves:\n",
       "        1. Converting each integer from `0` to `2^(2n)-1` into a binary string of length `2n`.\n",
       "        2. Reversing the first half of the binary string.\n",
       "        3. Splitting the reversed string into two halves, which represent the x and y coordinates.\n",
       "        4. Converting these binary strings back into integers to get the final coordinates.\n",
       "\n",
       "        This process ensures that each point on the grid is visited exactly once in a continuous path, forming the Hilbert curve.\n",
       "\n",
       "        The implementation will use matplotlib for plotting the curve by connecting consecutive points with line segments. Additionally, test cases will be provided to verify the correctness of the generated coordinates against known values for various depths.\n",
       "    </material>\n",
       "    <algorithm id=\"1\">\n",
       "        <title>\n",
       "            Generate Hilbert Curve Coordinates\n",
       "        </title>\n",
       "        <inputs>\n",
       "            - depth: An integer representing the recursion depth (order) of the Hilbert curve.\n",
       "        </inputs>\n",
       "        <outputs>\n",
       "            - A list of tuples containing the coordinates of the Hilbert curve points.\n",
       "        </outputs>\n",
       "        <steps>\n",
       "            1. Initialize an empty list to store the coordinates.\n",
       "            2. Calculate the total number of points as `points = 2^(2 * depth)`.\n",
       "            3. For each index from `0` to `points - 1`:\n",
       "                a. Convert the index to a binary string of length `2 * depth`, padding with leading zeros if necessary.\n",
       "                b. Reverse the first half of the binary string.\n",
       "                c. Split the reversed string into two halves, representing x and y coordinates.\n",
       "                d. Convert these binary strings back to integers to get the final coordinates.\n",
       "            4. Append each coordinate pair `(x, y)` to the list.\n",
       "        </steps>\n",
       "    </algorithm>\n",
       "    <algorithm id=\"2\">\n",
       "        <title>\n",
       "            Plot Hilbert Curve with Matplotlib\n",
       "        </title>\n",
       "        <inputs>\n",
       "            - coordinates: A list of tuples containing the Hilbert curve points.\n",
       "        </inputs>\n",
       "        <outputs>\n",
       "            - A matplotlib figure displaying the Hilbert curve.\n",
       "        </outputs>\n",
       "        <steps>\n",
       "            1. Import necessary libraries (matplotlib.pyplot and numpy).\n",
       "            2. Initialize a figure and set its size.\n",
       "            3. Create a subplot with one axis.\n",
       "            4. Extract x and y coordinates from the list of tuples.\n",
       "            5. Plot the curve by connecting consecutive points with line segments.\n",
       "            6. Add labels to the axes and a title to the plot.\n",
       "            7. Display the plot using `plt.show()`.\n",
       "        </steps>\n",
       "    </algorithm>\n",
       "    <tests>\n",
       "        1. Test depth = 0:\n",
       "            - Expected output: A single point at (0, 0).\n",
       "        2. Test depth = 1:\n",
       "            - Expected output: Four points forming a square with coordinates (0, 0), (1, 0), (1, 1), (0, 1).\n",
       "        3. Test depth = 2:\n",
       "            - Expected output: A more complex curve with 16 points.\n",
       "            - Known first few points: (0, 0), (1, 0), (1, 1), (0, 1), (0, 2), (1, 2), etc.\n",
       "        4. Test depth = 3:\n",
       "            - Expected output: A highly detailed curve with 64 points.\n",
       "            - Known first few points: (0, 0), (2, 0), (2, 1), (0, 1), (0, 3), (2, 3), etc.\n",
       "    </tests>\n",
       "</root>\n",
       "```"
      ],
      "text/plain": [
       "<IPython.core.display.Markdown object>"
      ]
     },
     "metadata": {},
     "output_type": "display_data"
    }
   ],
   "source": [
    "from IPython.display import display, Markdown\n",
    "display(Markdown(analyst_response[\"messages\"].content))"
   ]
  },
  {
   "cell_type": "code",
   "execution_count": 9,
   "metadata": {},
   "outputs": [
    {
     "data": {
      "text/plain": [
       "'<think>\\nAlright, I need to figure out how to write a Python function that generates and plots the Hilbert curve for any given depth using matplotlib. The user also wants specific test cases with exact coordinates for various depths.\\n\\nFirst, I should understand what a Hilbert curve is. From my previous knowledge, it\\'s a continuous fractal space-filling curve. It starts at one corner of a square and ends at another, filling the entire space without crossing itself. Each iteration increases its complexity, covering more points.\\n\\nI remember that the Hilbert curve can be generated recursively. The base case for depth 0 is just two points: (0,0) and (1,0). For each subsequent depth, the curve is divided into four quadrants, and the recursive function builds each part in a specific order—like moving through the quadrants in a certain sequence.\\n\\nSo, I\\'ll need a recursive approach. The function will take the current depth and the current coordinates as parameters. At each step, it will handle one of the four quadrants based on the recursion level.\\n\\nI also need to plot this curve using matplotlib. That means I\\'ll have to collect all the points generated by the Hilbert curve and then plot them in order. Since matplotlib can\\'t easily handle dynamic updates for recursive functions, I\\'ll precompute all the points first and then plot them all at once.\\n\\nFor the tests, the user wants exact coordinates for various depths. So, I should include test cases for different depths (like 1, 2, 3) and verify that the generated points match the expected sequences.\\n\\nPutting it all together, I\\'ll structure the code into two main functions: one recursive to generate the points and another to plot them. The recursive function will handle each quadrant by adjusting the coordinates and depth until reaching the base case. The plotting function will call this generator, collect all points, and then use matplotlib\\'s plot and show methods to display the curve.\\n\\nI should also consider edge cases, like depth 0, which only has two points. Additionally, I\\'ll need to ensure that the generated points are correct for each test case so that the user can verify the functionality without issues.\\n</think>\\n\\n```xml\\n<root>\\n    <request>\\n    Write a Python code that plots the Hilbert curve for any depth using matplotlib. For the tests, give me exactly the coordinates of the curve for various depths.\\n    </request>\\n    <material>\\n    The Hilbert curve is a continuous fractal space-filling curve that maps points in a unit interval [0,1] to points in a two-dimensional square. It is named after the German mathematician David Hilbert, who described it in 1895. The curve is constructed recursively, with each iteration increasing its complexity and coverage of the square.\\n\\n    The key properties of the Hilbert curve include:\\n    - Self-similarity: The curve repeats its pattern at different scales.\\n    - Space-filling: As the recursion depth increases, the curve approaches every point in the square.\\n    - locality preservation: Points that are close on the curve tend to be close in the 2D space.\\n\\n    The Hilbert curve can be represented using a recursive algorithm that divides the square into four quadrants and visits them in a specific order. The basic steps for generating the curve are:\\n    1. Start at one corner of the square.\\n    2. Divide the square into four smaller squares (quadrants).\\n    3. Recursively visit each quadrant in a specific sequence.\\n    4. Connect the quadrants to form the complete curve.\\n\\n    The coordinates of the Hilbert curve can be represented as pairs (x, y) where x and y are values between 0 and 1. For a given recursion depth n, the number of points generated is 2^(n+1).\\n\\n    Some key references include:\\n    - \"Space-Filling Curves\" by Hans Sagan\\n    - \"The Geometry of Fractal Sets\" by Kenneth Falconer\\n    - Various implementations in computer graphics and mathematics literature\\n\\n    The mathematical formula for generating the Hilbert curve involves recursively defining the coordinates based on the recursion depth and quadrant position.\\n    </material>\\n    <algorithm id=\"1\">\\n        <title>\\n            Generate Hilbert Curve Coordinates\\n        </title>\\n        <inputs>\\n            - n: integer representing the recursion depth\\n            - current_quadrant: integer (0-3) representing the current quadrant being processed\\n            - x_range: tuple representing the x-coordinate range of the current quadrant\\n            - y_range: tuple representing the y-coordinate range of the current quadrant\\n        </inputs>\\n        <outputs>\\n            - List of (x, y) coordinates defining the Hilbert curve for the given depth\\n        </outputs>\\n        <steps>\\n            1. Initialize a list to store the generated points.\\n            2. If n == 0:\\n                a. Add the starting point (x_start, y_start) to the list.\\n                b. Add the ending point (x_end, y_end) to the list.\\n                c. Return the list of points.\\n            3. Otherwise:\\n                a. Recursively generate the curve for each of the four quadrants.\\n                b. Append the points from each quadrant in the order: top-left, top-right, bottom-right, bottom-left.\\n                c. Adjust the coordinates based on the current quadrant\\'s position and size.\\n                d. Return the combined list of points.\\n        </steps>\\n    </algorithm>\\n    <algorithm id=\"2\">\\n        <title>\\n            Plot Hilbert Curve Using Matplotlib\\n        </title>\\n        <inputs>\\n            - n: integer representing the recursion depth\\n        </inputs>\\n        <outputs>\\n            - A matplotlib figure showing the Hilbert curve for the given depth\\n        </outputs>\\n        <steps>\\n            1. Import necessary libraries (matplotlib.pyplot and numpy).\\n            2. Initialize a figure and axis using plt.subplots().\\n            3. Set up the title and grid properties.\\n            4. Generate the Hilbert curve coordinates using Algorithm 1 with recursion depth n.\\n            5. Plot the generated points using ax.plot().\\n            6. Add grid lines for better visualization.\\n            7. Display the plot using plt.show().\\n        </steps>\\n    </algorithm>\\n    <tests>\\n        1. Test case: n = 0\\n            - Expected output: [(0, 0), (1, 0)]\\n        \\n        2. Test case: n = 1\\n            - Expected output:\\n                [(0, 0), (0, 1), \\n                 (1, 1), (1, 0),\\n                 (0, 0)]\\n        \\n        3. Test case: n = 2\\n            - Expected output:\\n                [(0, 0), (0, 1), \\n                 (1, 1), (1, 0), \\n                 (1, 0), (1, 1),\\n                 (0, 1), (0, 0),\\n                 (0, 0), (0, 1),\\n                 (1, 1), (1, 0)]\\n        \\n        4. Test case: n = 3\\n            - Expected output:\\n                [(0, 0), (0, 1), \\n                 (0, 1), (1, 1),\\n                 (1, 1), (1, 0),\\n                 (1, 0), (0, 0),\\n                 ... (additional points based on recursive subdivision)]\\n    </tests>\\n</root>\\n```'"
      ]
     },
     "execution_count": 9,
     "metadata": {},
     "output_type": "execute_result"
    }
   ],
   "source": [
    "with open(\"output/analyst_response.md\", \"r\") as f:\n",
    "    message = f.read()\n",
    "message"
   ]
  },
  {
   "cell_type": "code",
   "execution_count": 16,
   "metadata": {},
   "outputs": [],
   "source": [
    "from langchain_ollama.chat_models import ChatOllama\n",
    "from langchain_core.prompts import ChatPromptTemplate\n",
    "from langchain_core.messages import HumanMessage, AIMessage\n",
    "\n",
    "OLLAMA_BASE_URL = \"http://localhost:8888\"  # URL par défaut d'Ollama\n",
    "OLLAMA_MODEL = \"qwen2.5-coder:7b\"\n",
    "\n",
    "llm = ChatOllama(model=OLLAMA_MODEL, temperature=0.2, num_ctx=32768, seed=42, base_url=OLLAMA_BASE_URL)"
   ]
  },
  {
   "cell_type": "code",
   "execution_count": 17,
   "metadata": {},
   "outputs": [],
   "source": [
    "PROMPT = \"\"\"\n",
    "You are a junior software developer with 2 years of experience. You have worked on various scientific projects in Python. Your expertise lies in writing clean and efficient code, debugging issues, and learning new technologies.\n",
    "\n",
    "You are always eager to learn new technologies and apply them in your work. Your code is always clean and concise and well documented.\n",
    "\n",
    "Your supervisor will ask you to implement a Python code. Its demand will always follow the following structure:\n",
    "- <request>: The request of the customer.\n",
    "- <material>: Long resume of the previous researches that can help to implement the request and give ideas of the overall.\n",
    "- <algorithm>: The algorithm steps that will be translate in any programming language.\n",
    "- <tests>: The tests that will be used to validate the code.\n",
    "\n",
    "Your answer must verify the following bullets:\n",
    "- Your answer is a Python script and nothing else.\n",
    "- You implement only what is asking: not tests, no main function, no imports that are not used.\n",
    "- You don't add extra explanations.\n",
    "- You don't add extra comments.\n",
    "- Your code is well formatted and follows PEP 8 guidelines.\n",
    "- You provide docstrings using the numpydoc format.\n",
    "- You'll try to use as few dependencies as possible and rely on those that are commonly used.\n",
    "- The code should run as it is without any user input.\n",
    "\n",
    "\"\"\""
   ]
  },
  {
   "cell_type": "code",
   "execution_count": 18,
   "metadata": {},
   "outputs": [],
   "source": [
    "coder_prompt = ChatPromptTemplate.from_messages(\n",
    "    [\n",
    "        (\"system\", PROMPT),\n",
    "        (\"human\", \"\"\"\"\n",
    "            Your supervisor ask you to implement a Python code.\n",
    "            The demand is:\n",
    "            {message}\n",
    "        \"\"\"),\n",
    "    ]\n",
    ")\n",
    "\n",
    "fixer_prompt = ChatPromptTemplate.from_messages(\n",
    "    [\n",
    "        (\"system\", PROMPT),\n",
    "        (\"placeholder\", \"{chat_history}\"),\n",
    "        (\"human\", \"\"\"\"\n",
    "            Your supervisor ask you to fix your previous Python code.\n",
    "            The error is:\n",
    "            {message}\n",
    "        \"\"\"),\n",
    "    ]\n",
    ")"
   ]
  },
  {
   "cell_type": "code",
   "execution_count": 20,
   "metadata": {},
   "outputs": [
    {
     "data": {
      "text/plain": [
       "'<root>\\n\\n    <request>\\n        Write a Python function that generates the Hilbert curve coordinates for any given depth and plots it using matplotlib. The solution should include test cases with exact coordinates for various depths.\\n    </request>\\n    <material>\\n        The Hilbert curve is a continuous fractal space-filling curve, first described by German mathematician David Hilbert in 1895. It is a recursive curve that visits every point in a square grid exactly once and is often used in computer science for its locality-preserving properties. The curve can be generated to any depth (or order), with each level of recursion increasing the complexity of the curve.\\n\\n        The generation of Hilbert curve coordinates involves mapping integers to 2D points through a series of bitwise operations and transformations. For a given depth `n`, the curve will have `2^(2n)` points, forming a grid of size `(2^n x 2^n)`. Each point on the curve can be determined by converting its index into binary, manipulating the bits to account for the Hilbert pattern, and then transforming these bits back into coordinates.\\n\\n        The algorithm involves:\\n        1. Converting each integer from `0` to `2^(2n)-1` into a binary string of length `2n`.\\n        2. Reversing the first half of the binary string.\\n        3. Splitting the reversed string into two halves, which represent the x and y coordinates.\\n        4. Converting these binary strings back into integers to get the final coordinates.\\n\\n        This process ensures that each point on the grid is visited exactly once in a continuous path, forming the Hilbert curve.\\n\\n        The implementation will use matplotlib for plotting the curve by connecting consecutive points with line segments. Additionally, test cases will be provided to verify the correctness of the generated coordinates against known values for various depths.\\n    </material>\\n    <algorithm id=\"1\">\\n        <title>\\n            Generate Hilbert Curve Coordinates\\n        </title>\\n        <inputs>\\n            - depth: An integer representing the recursion depth (order) of the Hilbert curve.\\n        </inputs>\\n        <outputs>\\n            - A list of tuples containing the coordinates of the Hilbert curve points.\\n        </outputs>\\n        <steps>\\n            1. Initialize an empty list to store the coordinates.\\n            2. Calculate the total number of points as `points = 2^(2 * depth)`.\\n            3. For each index from `0` to `points - 1`:\\n                a. Convert the index to a binary string of length `2 * depth`, padding with leading zeros if necessary.\\n                b. Reverse the first half of the binary string.\\n                c. Split the reversed string into two halves, representing x and y coordinates.\\n                d. Convert these binary strings back to integers to get the final coordinates.\\n            4. Append each coordinate pair `(x, y)` to the list.\\n        </steps>\\n    </algorithm>\\n    <algorithm id=\"2\">\\n        <title>\\n            Plot Hilbert Curve with Matplotlib\\n        </title>\\n        <inputs>\\n            - coordinates: A list of tuples containing the Hilbert curve points.\\n        </inputs>\\n        <outputs>\\n            - A matplotlib figure displaying the Hilbert curve.\\n        </outputs>\\n        <steps>\\n            1. Import necessary libraries (matplotlib.pyplot and numpy).\\n            2. Initialize a figure and set its size.\\n            3. Create a subplot with one axis.\\n            4. Extract x and y coordinates from the list of tuples.\\n            5. Plot the curve by connecting consecutive points with line segments.\\n            6. Add labels to the axes and a title to the plot.\\n            7. Display the plot using `plt.show()`.\\n        </steps>\\n    </algorithm>\\n    <tests>\\n        1. Test depth = 0:\\n            - Expected output: A single point at (0, 0).\\n        2. Test depth = 1:\\n            - Expected output: Four points forming a square with coordinates (0, 0), (1, 0), (1, 1), (0, 1).\\n        3. Test depth = 2:\\n            - Expected output: A more complex curve with 16 points.\\n            - Known first few points: (0, 0), (1, 0), (1, 1), (0, 1), (0, 2), (1, 2), etc.\\n        4. Test depth = 3:\\n            - Expected output: A highly detailed curve with 64 points.\\n            - Known first few points: (0, 0), (2, 0), (2, 1), (0, 1), (0, 3), (2, 3), etc.\\n    </tests>\\n</root>\\n'"
      ]
     },
     "execution_count": 20,
     "metadata": {},
     "output_type": "execute_result"
    }
   ],
   "source": [
    "from AISoftTeam.agents.utils import extract_code_blocks\n",
    "code_request = extract_code_blocks(analyst_response[\"messages\"].content)[1]\n",
    "code_request"
   ]
  },
  {
   "cell_type": "code",
   "execution_count": 21,
   "metadata": {},
   "outputs": [],
   "source": [
    "junior_response = llm.invoke(coder_prompt.invoke({\"message\": code_request}))"
   ]
  },
  {
   "cell_type": "code",
   "execution_count": 22,
   "metadata": {},
   "outputs": [
    {
     "data": {
      "text/plain": [
       "'```python\\nimport matplotlib.pyplot as plt\\n\\ndef generate_hilbert_curve(depth):\\n    \"\"\"\\n    Generate the Hilbert curve coordinates for a given depth.\\n\\n    Parameters:\\n    - depth: An integer representing the recursion depth (order) of the Hilbert curve.\\n\\n    Returns:\\n    - A list of tuples containing the coordinates of the Hilbert curve points.\\n    \"\"\"\\n    if depth == 0:\\n        return [(0, 0)]\\n\\n    n = 2 ** depth\\n    points = []\\n    for i in range(n * n):\\n        binary_str = format(i, f\\'0{2*depth}b\\')\\n        reversed_first_half = binary_str[:depth][::-1]\\n        x_binary = reversed_first_half + binary_str[depth:]\\n        y_binary = binary_str[:depth] + binary_str[depth:][::-1]\\n        x = int(x_binary, 2)\\n        y = int(y_binary, 2)\\n        points.append((x, y))\\n\\n    return points\\n\\ndef plot_hilbert_curve(coordinates):\\n    \"\"\"\\n    Plot the Hilbert curve with matplotlib.\\n\\n    Parameters:\\n    - coordinates: A list of tuples containing the Hilbert curve points.\\n    \"\"\"\\n    fig, ax = plt.subplots()\\n    ax.set_aspect(\\'equal\\')\\n    ax.plot([x for x, y in coordinates], [y for x, y in coordinates], marker=\\'o\\', linestyle=\\'-\\')\\n    ax.set_xlabel(\\'X Coordinate\\')\\n    ax.set_ylabel(\\'Y Coordinate\\')\\n    ax.set_title(\\'Hilbert Curve\\')\\n    plt.show()\\n\\n# Test cases\\ntest_cases = [\\n    (0, [(0, 0)]),\\n    (1, [(0, 0), (1, 0), (1, 1), (0, 1)]),\\n    (2, [(0, 0), (1, 0), (1, 1), (0, 1), (0, 2), (1, 2), (1, 3), (0, 3)]),\\n    (3, [(0, 0), (2, 0), (2, 1), (0, 1), (0, 3), (2, 3), (2, 2), (0, 2)])\\n]\\n\\nfor depth, expected in test_cases:\\n    coordinates = generate_hilbert_curve(depth)\\n    plot_hilbert_curve(coordinates)\\n```'"
      ]
     },
     "execution_count": 22,
     "metadata": {},
     "output_type": "execute_result"
    }
   ],
   "source": [
    "response.content"
   ]
  },
  {
   "cell_type": "code",
   "execution_count": 23,
   "metadata": {},
   "outputs": [],
   "source": [
    "import re\n",
    "import subprocess\n",
    "\n",
    "def test_code(response):\n",
    "    pattern = r\"```python\\s*(.*?)\\s*```\"\n",
    "    matches = re.findall(pattern, response.content, re.DOTALL)\n",
    "\n",
    "    with open(\"output/code.py\", \"w\") as f:\n",
    "        f.write(matches[0])\n",
    "\n",
    "    result = subprocess.run(\n",
    "        \"python output/code.py\",\n",
    "        shell=True,\n",
    "        check=False,  # Don't raise exception on non-zero exit\n",
    "        stdout=subprocess.PIPE,\n",
    "        stderr=subprocess.PIPE,\n",
    "        text=True  # Return strings instead of bytes\n",
    "    )\n",
    "    return result"
   ]
  },
  {
   "cell_type": "code",
   "execution_count": 25,
   "metadata": {},
   "outputs": [
    {
     "name": "stdout",
     "output_type": "stream",
     "text": [
      "iteration:  0\n",
      "********************\n",
      "```python\n",
      "import matplotlib.pyplot as plt\n",
      "\n",
      "def generate_hilbert_curve(depth):\n",
      "    \"\"\"\n",
      "    Generate the Hilbert curve coordinates for a given depth.\n",
      "\n",
      "    Parameters:\n",
      "    - depth: An integer representing the recursion depth (order) of the Hilbert curve.\n",
      "\n",
      "    Returns:\n",
      "    - A list of tuples containing the coordinates of the Hilbert curve points.\n",
      "    \"\"\"\n",
      "    if depth == 0:\n",
      "        return [(0, 0)]\n",
      "\n",
      "    n = 2 ** depth\n",
      "    points = []\n",
      "    for i in range(n * n):\n",
      "        binary_str = format(i, f'0{2*depth}b')\n",
      "        reversed_first_half = binary_str[:depth][::-1]\n",
      "        x_binary = reversed_first_half + binary_str[depth:]\n",
      "        y_binary = binary_str[:depth] + binary_str[depth:][::-1]\n",
      "        x = int(x_binary, 2)\n",
      "        y = int(y_binary, 2)\n",
      "        points.append((x, y))\n",
      "\n",
      "    return points\n",
      "\n",
      "def plot_hilbert_curve(coordinates):\n",
      "    \"\"\"\n",
      "    Plot the Hilbert curve with matplotlib.\n",
      "\n",
      "    Parameters:\n",
      "    - coordinates: A list of tuples containing the Hilbert curve points.\n",
      "    \"\"\"\n",
      "    fig, ax = plt.subplots()\n",
      "    ax.set_aspect('equal')\n",
      "    ax.plot([x for x, y in coordinates], [y for x, y in coordinates], marker='o', linestyle='-')\n",
      "    ax.set_xlabel('X Coordinate')\n",
      "    ax.set_ylabel('Y Coordinate')\n",
      "    ax.set_title('Hilbert Curve')\n",
      "    plt.show()\n",
      "\n",
      "# Test cases\n",
      "test_cases = [\n",
      "    (0, [(0, 0)]),\n",
      "    (1, [(0, 0), (1, 0), (1, 1), (0, 1)]),\n",
      "    (2, [(0, 0), (1, 0), (1, 1), (0, 1), (0, 2), (1, 2), (1, 3), (0, 3)]),\n",
      "    (3, [(0, 0), (2, 0), (2, 1), (0, 1), (0, 3), (2, 3), (2, 2), (0, 2)])\n",
      "]\n",
      "\n",
      "for depth, expected in test_cases:\n",
      "    coordinates = generate_hilbert_curve(depth)\n",
      "    plot_hilbert_curve(coordinates)\n",
      "```\n",
      "Traceback (most recent call last):\n",
      "  File \"/Users/loic/Work/LLM/code_agent/software_team/demo/output/code.py\", line 54, in <module>\n",
      "    plot_hilbert_curve(coordinates)\n",
      "  File \"/Users/loic/Work/LLM/code_agent/software_team/demo/output/code.py\", line 36, in plot_hilbert_curve\n",
      "    fig, ax = plt.subplots()\n",
      "              ^^^^^^^^^^^^^^\n",
      "  File \"/Users/loic/Work/LLM/code_agent/.venv/lib/python3.12/site-packages/matplotlib/pyplot.py\", line 1769, in subplots\n",
      "    fig = figure(**fig_kw)\n",
      "          ^^^^^^^^^^^^^^^^\n",
      "  File \"/Users/loic/Work/LLM/code_agent/.venv/lib/python3.12/site-packages/matplotlib/pyplot.py\", line 1042, in figure\n",
      "    manager = new_figure_manager(\n",
      "              ^^^^^^^^^^^^^^^^^^^\n",
      "  File \"/Users/loic/Work/LLM/code_agent/.venv/lib/python3.12/site-packages/matplotlib/pyplot.py\", line 551, in new_figure_manager\n",
      "    _warn_if_gui_out_of_main_thread()\n",
      "  File \"/Users/loic/Work/LLM/code_agent/.venv/lib/python3.12/site-packages/matplotlib/pyplot.py\", line 528, in _warn_if_gui_out_of_main_thread\n",
      "    canvas_class = cast(type[FigureCanvasBase], _get_backend_mod().FigureCanvas)\n",
      "                                                ^^^^^^^^^^^^^^^^^^\n",
      "  File \"/Users/loic/Work/LLM/code_agent/.venv/lib/python3.12/site-packages/matplotlib/pyplot.py\", line 369, in _get_backend_mod\n",
      "    switch_backend(rcParams._get(\"backend\"))\n",
      "  File \"/Users/loic/Work/LLM/code_agent/.venv/lib/python3.12/site-packages/matplotlib/pyplot.py\", line 425, in switch_backend\n",
      "    module = backend_registry.load_backend_module(newbackend)\n",
      "             ^^^^^^^^^^^^^^^^^^^^^^^^^^^^^^^^^^^^^^^^^^^^^^^^\n",
      "  File \"/Users/loic/Work/LLM/code_agent/.venv/lib/python3.12/site-packages/matplotlib/backends/registry.py\", line 317, in load_backend_module\n",
      "    return importlib.import_module(module_name)\n",
      "           ^^^^^^^^^^^^^^^^^^^^^^^^^^^^^^^^^^^^\n",
      "  File \"/opt/homebrew/Cellar/python@3.12/3.12.9/Frameworks/Python.framework/Versions/3.12/lib/python3.12/importlib/__init__.py\", line 90, in import_module\n",
      "    return _bootstrap._gcd_import(name[level:], package, level)\n",
      "           ^^^^^^^^^^^^^^^^^^^^^^^^^^^^^^^^^^^^^^^^^^^^^^^^^^^^\n",
      "  File \"<frozen importlib._bootstrap>\", line 1387, in _gcd_import\n",
      "  File \"<frozen importlib._bootstrap>\", line 1360, in _find_and_load\n",
      "  File \"<frozen importlib._bootstrap>\", line 1310, in _find_and_load_unlocked\n",
      "  File \"<frozen importlib._bootstrap>\", line 488, in _call_with_frames_removed\n",
      "  File \"<frozen importlib._bootstrap>\", line 1387, in _gcd_import\n",
      "  File \"<frozen importlib._bootstrap>\", line 1360, in _find_and_load\n",
      "  File \"<frozen importlib._bootstrap>\", line 1331, in _find_and_load_unlocked\n",
      "  File \"<frozen importlib._bootstrap>\", line 935, in _load_unlocked\n",
      "  File \"<frozen importlib._bootstrap_external>\", line 999, in exec_module\n",
      "  File \"<frozen importlib._bootstrap>\", line 488, in _call_with_frames_removed\n",
      "  File \"/Users/loic/Work/LLM/code_agent/.venv/lib/python3.12/site-packages/matplotlib_inline/__init__.py\", line 1, in <module>\n",
      "    from . import backend_inline, config  # noqa\n",
      "    ^^^^^^^^^^^^^^^^^^^^^^^^^^^^^^^^^^^^\n",
      "  File \"/Users/loic/Work/LLM/code_agent/.venv/lib/python3.12/site-packages/matplotlib_inline/backend_inline.py\", line 13, in <module>\n",
      "    from IPython.core.interactiveshell import InteractiveShell\n",
      "  File \"/Users/loic/Work/LLM/code_agent/.venv/lib/python3.12/site-packages/IPython/__init__.py\", line 56, in <module>\n",
      "    from .core.application import Application\n",
      "  File \"/Users/loic/Work/LLM/code_agent/.venv/lib/python3.12/site-packages/IPython/core/application.py\", line 26, in <module>\n",
      "    from IPython.core import release, crashhandler\n",
      "  File \"/Users/loic/Work/LLM/code_agent/.venv/lib/python3.12/site-packages/IPython/core/crashhandler.py\", line 28, in <module>\n",
      "    from IPython.core import ultratb\n",
      "  File \"/Users/loic/Work/LLM/code_agent/.venv/lib/python3.12/site-packages/IPython/core/ultratb.py\", line 92, in <module>\n",
      "    from .doctb import DocTB\n",
      "  File \"/Users/loic/Work/LLM/code_agent/.venv/lib/python3.12/site-packages/IPython/core/doctb.py\", line 15, in <module>\n",
      "    from .tbtools import (\n",
      "  File \"/Users/loic/Work/LLM/code_agent/.venv/lib/python3.12/site-packages/IPython/core/tbtools.py\", line 14, in <module>\n",
      "    from IPython.core import debugger\n",
      "  File \"/Users/loic/Work/LLM/code_agent/.venv/lib/python3.12/site-packages/IPython/core/debugger.py\", line 143, in <module>\n",
      "    from pdb import Pdb as OldPdb\n",
      "  File \"/opt/homebrew/Cellar/python@3.12/3.12.9/Frameworks/Python.framework/Versions/3.12/lib/python3.12/pdb.py\", line 77, in <module>\n",
      "    import code\n",
      "  File \"/Users/loic/Work/LLM/code_agent/software_team/demo/output/code.py\", line 54, in <module>\n",
      "    plot_hilbert_curve(coordinates)\n",
      "  File \"/Users/loic/Work/LLM/code_agent/software_team/demo/output/code.py\", line 36, in plot_hilbert_curve\n",
      "    fig, ax = plt.subplots()\n",
      "              ^^^^^^^^^^^^^^\n",
      "  File \"/Users/loic/Work/LLM/code_agent/.venv/lib/python3.12/site-packages/matplotlib/pyplot.py\", line 1769, in subplots\n",
      "    fig = figure(**fig_kw)\n",
      "          ^^^^^^^^^^^^^^^^\n",
      "  File \"/Users/loic/Work/LLM/code_agent/.venv/lib/python3.12/site-packages/matplotlib/pyplot.py\", line 1042, in figure\n",
      "    manager = new_figure_manager(\n",
      "              ^^^^^^^^^^^^^^^^^^^\n",
      "  File \"/Users/loic/Work/LLM/code_agent/.venv/lib/python3.12/site-packages/matplotlib/pyplot.py\", line 551, in new_figure_manager\n",
      "    _warn_if_gui_out_of_main_thread()\n",
      "  File \"/Users/loic/Work/LLM/code_agent/.venv/lib/python3.12/site-packages/matplotlib/pyplot.py\", line 528, in _warn_if_gui_out_of_main_thread\n",
      "    canvas_class = cast(type[FigureCanvasBase], _get_backend_mod().FigureCanvas)\n",
      "                                                ^^^^^^^^^^^^^^^^^^\n",
      "  File \"/Users/loic/Work/LLM/code_agent/.venv/lib/python3.12/site-packages/matplotlib/pyplot.py\", line 369, in _get_backend_mod\n",
      "    switch_backend(rcParams._get(\"backend\"))\n",
      "  File \"/Users/loic/Work/LLM/code_agent/.venv/lib/python3.12/site-packages/matplotlib/pyplot.py\", line 426, in switch_backend\n",
      "    canvas_class = module.FigureCanvas\n",
      "                   ^^^^^^^^^^^^^^^^^^^\n",
      "AttributeError: partially initialized module 'matplotlib_inline.backend_inline' has no attribute 'FigureCanvas' (most likely due to a circular import). Did you mean: 'FigureCanvasAgg'?\n",
      "********************\n",
      "iteration:  1\n",
      "********************\n",
      "The error you're encountering is related to the use of `matplotlib` in an environment where it's not properly configured for interactive plotting. The `matplotlib_inline.backend_inline` module is causing issues because it expects certain attributes that are not available.\n",
      "\n",
      "To fix this, you can explicitly set the backend to `'Agg'`, which is a non-interactive backend suitable for scripts and batch jobs. Here's how you can modify your code:\n",
      "\n",
      "```python\n",
      "import matplotlib.pyplot as plt\n",
      "\n",
      "# Set the backend to 'Agg' to avoid interactive plotting issues\n",
      "plt.switch_backend('Agg')\n",
      "\n",
      "def generate_hilbert_curve(depth):\n",
      "    \"\"\"\n",
      "    Generate the Hilbert curve coordinates for a given depth.\n",
      "\n",
      "    Parameters:\n",
      "    - depth: An integer representing the recursion depth (order) of the Hilbert curve.\n",
      "\n",
      "    Returns:\n",
      "    - A list of tuples containing the coordinates of the Hilbert curve points.\n",
      "    \"\"\"\n",
      "    if depth == 0:\n",
      "        return [(0, 0)]\n",
      "\n",
      "    n = 2 ** depth\n",
      "    points = []\n",
      "    for i in range(n * n):\n",
      "        binary_str = format(i, f'0{2*depth}b')\n",
      "        reversed_first_half = binary_str[:depth][::-1]\n",
      "        x_binary = reversed_first_half + binary_str[depth:]\n",
      "        y_binary = binary_str[:depth] + binary_str[depth:][::-1]\n",
      "        x = int(x_binary, 2)\n",
      "        y = int(y_binary, 2)\n",
      "        points.append((x, y))\n",
      "\n",
      "    return points\n",
      "\n",
      "def plot_hilbert_curve(coordinates):\n",
      "    \"\"\"\n",
      "    Plot the Hilbert curve with matplotlib.\n",
      "\n",
      "    Parameters:\n",
      "    - coordinates: A list of tuples containing the Hilbert curve points.\n",
      "    \"\"\"\n",
      "    fig, ax = plt.subplots()\n",
      "    ax.set_aspect('equal')\n",
      "    ax.plot([x for x, y in coordinates], [y for x, y in coordinates], marker='o', linestyle='-')\n",
      "    ax.set_xlabel('X Coordinate')\n",
      "    ax.set_ylabel('Y Coordinate')\n",
      "    ax.set_title('Hilbert Curve')\n",
      "\n",
      "    # Save the plot to a file instead of displaying it\n",
      "    plt.savefig('hilbert_curve.png')\n",
      "\n",
      "# Test cases\n",
      "test_cases = [\n",
      "    (0, [(0, 0)]),\n",
      "    (1, [(0, 0), (1, 0), (1, 1), (0, 1)]),\n",
      "    (2, [(0, 0), (1, 0), (1, 1), (0, 1), (0, 2), (1, 2), (1, 3), (0, 3)]),\n",
      "    (3, [(0, 0), (2, 0), (2, 1), (0, 1), (0, 3), (2, 3), (2, 2), (0, 2)])\n",
      "]\n",
      "\n",
      "for depth, expected in test_cases:\n",
      "    coordinates = generate_hilbert_curve(depth)\n",
      "    plot_hilbert_curve(coordinates)\n",
      "```\n",
      "\n",
      "In this modified version, the `plt.switch_backend('Agg')` line ensures that `matplotlib` uses a non-interactive backend. The `plot_hilbert_curve` function now saves the plot to a file instead of displaying it interactively, which avoids the issues related to interactive plotting environments.\n",
      "\n",
      "********************\n"
     ]
    }
   ],
   "source": [
    "chat_history = [\n",
    "     (\"human\", f\"\"\"\n",
    "        Your supervisor ask you to implement a Python code.\n",
    "        The demand is:\n",
    "        {code_request}\n",
    "    \"\"\"),\n",
    "    (\"assistant\", response.content)]\n",
    "\n",
    "for i in range(10):\n",
    "    print(\"iteration: \", i)\n",
    "    result = test_code(response)\n",
    "\n",
    "    print(\"*\"*20)\n",
    "    print(response.content)\n",
    "    print(result.stderr.strip())\n",
    "    print(\"*\"*20)\n",
    "    if result.returncode == 0:\n",
    "        break\n",
    "\n",
    "    previous_error = result.stderr.strip()\n",
    "    response = llm.invoke(fixer_prompt.invoke({\"message\": previous_error, \"chat_history\": chat_history}))\n",
    "    chat_history +=  [(\"human\", f\"\"\"\n",
    "            Your supervisor ask you to fix your previous Python code.\n",
    "            The error is:\n",
    "            {previous_error}\n",
    "        \"\"\"),\n",
    "        (\"assistant\", response.content)]"
   ]
  },
  {
   "cell_type": "code",
   "execution_count": null,
   "metadata": {},
   "outputs": [],
   "source": []
  },
  {
   "cell_type": "code",
   "execution_count": null,
   "metadata": {},
   "outputs": [],
   "source": [
    "previous_error = result.stderr.strip()\n",
    "response = llm.invoke(fixer_prompt.invoke({\"message\": previous_error, \"chat_history\": chat_history}))"
   ]
  },
  {
   "cell_type": "code",
   "execution_count": 84,
   "metadata": {},
   "outputs": [],
   "source": [
    "result = test_code(response)"
   ]
  },
  {
   "cell_type": "code",
   "execution_count": null,
   "metadata": {},
   "outputs": [],
   "source": [
    "chat_history.append((\"human\", f\"\"\"\n",
    "            Your supervisor ask you to fix your previous Python code.\n",
    "            The error is:\n",
    "            {previous_error}\n",
    "    \"\"\"), (\"assistant\", response.content))"
   ]
  },
  {
   "cell_type": "code",
   "execution_count": null,
   "metadata": {},
   "outputs": [],
   "source": [
    "for i in range(10):\n",
    "    print(\"iteration: \", i)\n",
    "    response = llm.invoke(coder_prompt.invoke({\"message\": code_request, \"chat_history\": messages}))\n",
    "    code\n"
   ]
  },
  {
   "cell_type": "code",
   "execution_count": 56,
   "metadata": {},
   "outputs": [],
   "source": [
    "state[\"messages\"].append(AIMessage(response.content))"
   ]
  },
  {
   "cell_type": "code",
   "execution_count": 57,
   "metadata": {},
   "outputs": [],
   "source": [
    "state[\"messages\"].append(HumanMessage(content=f\"This code has the following error.\\n\\n{result.stderr.strip()} \\n\\nPlease fix it.\"))"
   ]
  },
  {
   "cell_type": "code",
   "execution_count": 59,
   "metadata": {},
   "outputs": [
    {
     "ename": "ValueError",
     "evalue": "Invalid input type <class 'dict'>. Must be a PromptValue, str, or list of BaseMessages.",
     "output_type": "error",
     "traceback": [
      "\u001b[31m---------------------------------------------------------------------------\u001b[39m",
      "\u001b[31mValueError\u001b[39m                                Traceback (most recent call last)",
      "\u001b[36mCell\u001b[39m\u001b[36m \u001b[39m\u001b[32mIn[59]\u001b[39m\u001b[32m, line 1\u001b[39m\n\u001b[32m----> \u001b[39m\u001b[32m1\u001b[39m response = \u001b[43mllm\u001b[49m\u001b[43m.\u001b[49m\u001b[43minvoke\u001b[49m\u001b[43m(\u001b[49m\u001b[43mstate\u001b[49m\u001b[43m)\u001b[49m\n",
      "\u001b[36mFile \u001b[39m\u001b[32m~/Work/LLM/code_agent/.venv/lib/python3.12/site-packages/langchain_core/language_models/chat_models.py:308\u001b[39m, in \u001b[36mBaseChatModel.invoke\u001b[39m\u001b[34m(self, input, config, stop, **kwargs)\u001b[39m\n\u001b[32m    296\u001b[39m \u001b[38;5;28;01mdef\u001b[39;00m\u001b[38;5;250m \u001b[39m\u001b[34minvoke\u001b[39m(\n\u001b[32m    297\u001b[39m     \u001b[38;5;28mself\u001b[39m,\n\u001b[32m    298\u001b[39m     \u001b[38;5;28minput\u001b[39m: LanguageModelInput,\n\u001b[32m   (...)\u001b[39m\u001b[32m    302\u001b[39m     **kwargs: Any,\n\u001b[32m    303\u001b[39m ) -> BaseMessage:\n\u001b[32m    304\u001b[39m     config = ensure_config(config)\n\u001b[32m    305\u001b[39m     \u001b[38;5;28;01mreturn\u001b[39;00m cast(\n\u001b[32m    306\u001b[39m         ChatGeneration,\n\u001b[32m    307\u001b[39m         \u001b[38;5;28mself\u001b[39m.generate_prompt(\n\u001b[32m--> \u001b[39m\u001b[32m308\u001b[39m             [\u001b[38;5;28;43mself\u001b[39;49m\u001b[43m.\u001b[49m\u001b[43m_convert_input\u001b[49m\u001b[43m(\u001b[49m\u001b[38;5;28;43minput\u001b[39;49m\u001b[43m)\u001b[49m],\n\u001b[32m    309\u001b[39m             stop=stop,\n\u001b[32m    310\u001b[39m             callbacks=config.get(\u001b[33m\"\u001b[39m\u001b[33mcallbacks\u001b[39m\u001b[33m\"\u001b[39m),\n\u001b[32m    311\u001b[39m             tags=config.get(\u001b[33m\"\u001b[39m\u001b[33mtags\u001b[39m\u001b[33m\"\u001b[39m),\n\u001b[32m    312\u001b[39m             metadata=config.get(\u001b[33m\"\u001b[39m\u001b[33mmetadata\u001b[39m\u001b[33m\"\u001b[39m),\n\u001b[32m    313\u001b[39m             run_name=config.get(\u001b[33m\"\u001b[39m\u001b[33mrun_name\u001b[39m\u001b[33m\"\u001b[39m),\n\u001b[32m    314\u001b[39m             run_id=config.pop(\u001b[33m\"\u001b[39m\u001b[33mrun_id\u001b[39m\u001b[33m\"\u001b[39m, \u001b[38;5;28;01mNone\u001b[39;00m),\n\u001b[32m    315\u001b[39m             **kwargs,\n\u001b[32m    316\u001b[39m         ).generations[\u001b[32m0\u001b[39m][\u001b[32m0\u001b[39m],\n\u001b[32m    317\u001b[39m     ).message\n",
      "\u001b[36mFile \u001b[39m\u001b[32m~/Work/LLM/code_agent/.venv/lib/python3.12/site-packages/langchain_core/language_models/chat_models.py:294\u001b[39m, in \u001b[36mBaseChatModel._convert_input\u001b[39m\u001b[34m(self, input)\u001b[39m\n\u001b[32m    289\u001b[39m \u001b[38;5;28;01melse\u001b[39;00m:\n\u001b[32m    290\u001b[39m     msg = (\n\u001b[32m    291\u001b[39m         \u001b[33mf\u001b[39m\u001b[33m\"\u001b[39m\u001b[33mInvalid input type \u001b[39m\u001b[38;5;132;01m{\u001b[39;00m\u001b[38;5;28mtype\u001b[39m(\u001b[38;5;28minput\u001b[39m)\u001b[38;5;132;01m}\u001b[39;00m\u001b[33m. \u001b[39m\u001b[33m\"\u001b[39m\n\u001b[32m    292\u001b[39m         \u001b[33m\"\u001b[39m\u001b[33mMust be a PromptValue, str, or list of BaseMessages.\u001b[39m\u001b[33m\"\u001b[39m\n\u001b[32m    293\u001b[39m     )\n\u001b[32m--> \u001b[39m\u001b[32m294\u001b[39m     \u001b[38;5;28;01mraise\u001b[39;00m \u001b[38;5;167;01mValueError\u001b[39;00m(msg)\n",
      "\u001b[31mValueError\u001b[39m: Invalid input type <class 'dict'>. Must be a PromptValue, str, or list of BaseMessages."
     ]
    }
   ],
   "source": [
    "\n",
    "response = llm.invoke(state)"
   ]
  },
  {
   "cell_type": "code",
   "execution_count": null,
   "metadata": {},
   "outputs": [
    {
     "ename": "ModuleNotFoundError",
     "evalue": "No module named 'langchain_experimental'",
     "output_type": "error",
     "traceback": [
      "\u001b[31m---------------------------------------------------------------------------\u001b[39m",
      "\u001b[31mModuleNotFoundError\u001b[39m                       Traceback (most recent call last)",
      "\u001b[36mCell\u001b[39m\u001b[36m \u001b[39m\u001b[32mIn[32]\u001b[39m\u001b[32m, line 2\u001b[39m\n\u001b[32m      1\u001b[39m \u001b[38;5;28;01mfrom\u001b[39;00m\u001b[38;5;250m \u001b[39m\u001b[34;01mlangchain_core\u001b[39;00m\u001b[34;01m.\u001b[39;00m\u001b[34;01mtools\u001b[39;00m\u001b[38;5;250m \u001b[39m\u001b[38;5;28;01mimport\u001b[39;00m Tool\n\u001b[32m----> \u001b[39m\u001b[32m2\u001b[39m \u001b[38;5;28;01mfrom\u001b[39;00m\u001b[38;5;250m \u001b[39m\u001b[34;01mlangchain_experimental\u001b[39;00m\u001b[34;01m.\u001b[39;00m\u001b[34;01mutilities\u001b[39;00m\u001b[38;5;250m \u001b[39m\u001b[38;5;28;01mimport\u001b[39;00m PythonREPL\n",
      "\u001b[31mModuleNotFoundError\u001b[39m: No module named 'langchain_experimental'"
     ]
    }
   ],
   "source": []
  },
  {
   "cell_type": "code",
   "execution_count": 12,
   "metadata": {},
   "outputs": [
    {
     "name": "stdout",
     "output_type": "stream",
     "text": [
      "**** Coder ****\n",
      "response:  AgentRunResult(data=' ```python\\ndef main():\\n    pass\\n\\nif __name__ == \"__main__\":\\n    main()\\n```')\n"
     ]
    }
   ],
   "source": [
    "response = Coder().invoke(state)"
   ]
  },
  {
   "cell_type": "code",
   "execution_count": 15,
   "metadata": {},
   "outputs": [
    {
     "data": {
      "text/plain": [
       "' ```python\\ndef main():\\n    pass\\n\\nif __name__ == \"__main__\":\\n    main()\\n```'"
      ]
     },
     "execution_count": 15,
     "metadata": {},
     "output_type": "execute_result"
    }
   ],
   "source": [
    "response[\"current_code\"]"
   ]
  },
  {
   "cell_type": "code",
   "execution_count": 31,
   "metadata": {},
   "outputs": [
    {
     "name": "stdout",
     "output_type": "stream",
     "text": [
      "Depth 0 Coordinates: []\n"
     ]
    },
    {
     "ename": "ValueError",
     "evalue": "not enough values to unpack (expected 2, got 0)",
     "output_type": "error",
     "traceback": [
      "\u001b[31m---------------------------------------------------------------------------\u001b[39m",
      "\u001b[31mValueError\u001b[39m                                Traceback (most recent call last)",
      "\u001b[36mCell\u001b[39m\u001b[36m \u001b[39m\u001b[32mIn[31]\u001b[39m\u001b[32m, line 63\u001b[39m\n\u001b[32m     61\u001b[39m coordinates = generate_hilbert_coordinates(depth)\n\u001b[32m     62\u001b[39m \u001b[38;5;28mprint\u001b[39m(\u001b[33mf\u001b[39m\u001b[33m\"\u001b[39m\u001b[33mDepth \u001b[39m\u001b[38;5;132;01m{\u001b[39;00mdepth\u001b[38;5;132;01m}\u001b[39;00m\u001b[33m Coordinates: \u001b[39m\u001b[38;5;132;01m{\u001b[39;00mcoordinates\u001b[38;5;132;01m}\u001b[39;00m\u001b[33m\"\u001b[39m)\n\u001b[32m---> \u001b[39m\u001b[32m63\u001b[39m \u001b[43mplot_hilbert_curve\u001b[49m\u001b[43m(\u001b[49m\u001b[43mcoordinates\u001b[49m\u001b[43m)\u001b[49m\n",
      "\u001b[36mCell\u001b[39m\u001b[36m \u001b[39m\u001b[32mIn[31]\u001b[39m\u001b[32m, line 46\u001b[39m, in \u001b[36mplot_hilbert_curve\u001b[39m\u001b[34m(coordinates)\u001b[39m\n\u001b[32m     44\u001b[39m \u001b[38;5;28;01mdef\u001b[39;00m\u001b[38;5;250m \u001b[39m\u001b[34mplot_hilbert_curve\u001b[39m(coordinates):\n\u001b[32m     45\u001b[39m \u001b[38;5;250m    \u001b[39m\u001b[33;03m\"\"\"Plot the Hilbert curve using matplotlib.\"\"\"\u001b[39;00m\n\u001b[32m---> \u001b[39m\u001b[32m46\u001b[39m     x_coords, y_coords = \u001b[38;5;28mzip\u001b[39m(*coordinates)\n\u001b[32m     47\u001b[39m     plt.figure(figsize=(\u001b[32m8\u001b[39m, \u001b[32m8\u001b[39m))\n\u001b[32m     48\u001b[39m     plt.plot(x_coords, y_coords, marker=\u001b[33m'\u001b[39m\u001b[33mo\u001b[39m\u001b[33m'\u001b[39m)\n",
      "\u001b[31mValueError\u001b[39m: not enough values to unpack (expected 2, got 0)"
     ]
    }
   ],
   "source": [
    "import matplotlib.pyplot as plt\n",
    "\n",
    "def draw_line(x0, y0, x1, y1, points):\n",
    "    \"\"\"Draw a line between two points and update the global list of coordinates.\"\"\"\n",
    "    points.append((x0, y0))\n",
    "    points.append((x1, y1))\n",
    "\n",
    "def calculate_points(x, y, width, depth, direction, points):\n",
    "    \"\"\"Recursive function that generates the Hilbert curve.\"\"\"\n",
    "    if depth == 0:\n",
    "        return\n",
    "\n",
    "    half_width = width / 2\n",
    "    if direction == 'R':\n",
    "        calculate_points(x + half_width, y, half_width, depth - 1, 'D', points)\n",
    "        calculate_points(x + half_width, y + half_width, half_width, depth - 1, 'R', points)\n",
    "        calculate_points(x, y + half_width, half_width, depth - 1, 'U', points)\n",
    "        calculate_points(x, y, half_width, depth - 1, 'L', points)\n",
    "    elif direction == 'D':\n",
    "        calculate_points(x + half_width, y + half_width, half_width, depth - 1, 'R', points)\n",
    "        calculate_points(x + half_width, y, half_width, depth - 1, 'U', points)\n",
    "        calculate_points(x, y, half_width, depth - 1, 'L', points)\n",
    "        calculate_points(x, y + half_width, half_width, depth - 1, 'D', points)\n",
    "    elif direction == 'L':\n",
    "        calculate_points(x, y, half_width, depth - 1, 'U', points)\n",
    "        calculate_points(x, y + half_width, half_width, depth - 1, 'R', points)\n",
    "        calculate_points(x + half_width, y + half_width, half_width, depth - 1, 'D', points)\n",
    "        calculate_points(x + half_width, y, half_width, depth - 1, 'L', points)\n",
    "    elif direction == 'U':\n",
    "        calculate_points(x, y, half_width, depth - 1, 'R', points)\n",
    "        calculate_points(x + half_width, y, half_width, depth - 1, 'D', points)\n",
    "        calculate_points(x + half_width, y + half_width, half_width, depth - 1, 'L', points)\n",
    "        calculate_points(x, y + half_width, half_width, depth - 1, 'U', points)\n",
    "\n",
    "def generate_hilbert_coordinates(depth, width=1):\n",
    "    \"\"\"Generate Hilbert curve coordinates for a given depth.\"\"\"\n",
    "    if depth < 0:\n",
    "        raise ValueError(\"Depth must be non-negative\")\n",
    "\n",
    "    points = []\n",
    "    calculate_points(0, 0, width, depth, 'R', points)\n",
    "    return points\n",
    "\n",
    "def plot_hilbert_curve(coordinates):\n",
    "    \"\"\"Plot the Hilbert curve using matplotlib.\"\"\"\n",
    "    x_coords, y_coords = zip(*coordinates)\n",
    "    plt.figure(figsize=(8, 8))\n",
    "    plt.plot(x_coords, y_coords, marker='o')\n",
    "    plt.fill_betweenx(y_coords, x_coords[:-1], x_coords[1:], color='lightblue')\n",
    "    plt.xlabel('X Coordinate')\n",
    "    plt.ylabel('Y Coordinate')\n",
    "    plt.title('Hilbert Curve')\n",
    "    plt.xlim(0, 1)\n",
    "    plt.ylim(0, 1)\n",
    "    plt.gca().set_aspect('equal', adjustable='box')\n",
    "    plt.show()\n",
    "\n",
    "# Test cases\n",
    "depths = [0, 1, 2, 3]\n",
    "for depth in depths:\n",
    "    coordinates = generate_hilbert_coordinates(depth)\n",
    "    print(f\"Depth {depth} Coordinates: {coordinates}\")\n",
    "    plot_hilbert_curve(coordinates)"
   ]
  },
  {
   "cell_type": "code",
   "execution_count": null,
   "metadata": {},
   "outputs": [],
   "source": [
    "PROMPT_2 = \"\"\"You are a smart assistant bot that helps to find snippet code on the web to answer a question.\n",
    "\n",
    "- You identify a list of snippet web search to be done according to the several topics of the question to find information to help to answer the question and nothing else.\n",
    "- You don't try to answer the question.\n",
    "- You just identify the web search to be done.\n",
    "- For each <web_search>, you will write what you want to search on the web to find information to help to answer the question. It must be a sub question.\n",
    "- You pay attention that each <web_search> is about a different topic.\n",
    "- You use the following structure to answer the question:\n",
    "\n",
    "    <root>\n",
    "        <web_search id=\"1\">\n",
    "            sub question to search on the web to find information to help to answer the question\n",
    "        </web_search>\n",
    "        <web_search id=\"2\">\n",
    "            sub question to search on the web to find information to help to answer the question\n",
    "        </web_search>\n",
    "        ...\n",
    "        <web_search id=\"n\">\n",
    "            sub question to search on the web to find information to help to answer the question\n",
    "        </web_search>\n",
    "    </root>\n",
    "\n",
    "- You have to use this structure to your response and nothing else.\n",
    "- There is just one question in each <websearch> tag, no codes, no explanations.\n",
    "\n",
    "\"\"\""
   ]
  },
  {
   "cell_type": "code",
   "execution_count": 14,
   "metadata": {},
   "outputs": [
    {
     "name": "stdout",
     "output_type": "stream",
     "text": [
      "url=[HttpUrl('https://github.com/PrincetonLIPS/numpy-hilbert-curve'), HttpUrl('https://github.com/tomnwright/hilbert-curve'), HttpUrl('https://pypi.org/project/hilbertcurve/'), HttpUrl('https://gist.github.com/satrialoka/8edcf31bf9123781e0b5bdbe815cecc5'), HttpUrl('https://jokergoo.github.io/HilbertCurve/')]\n"
     ]
    }
   ],
   "source": [
    "from pydantic_ai import Agent\n",
    "from pydantic_ai.common_tools.duckduckgo import duckduckgo_search_tool\n",
    "from pydantic_ai.models.openai import OpenAIModel\n",
    "from pydantic_ai.providers.openai import OpenAIProvider\n",
    "\n",
    "from pydantic import BaseModel, Field, HttpUrl\n",
    "from typing import List\n",
    "\n",
    "OLLAMA_BASE_URL = \"http://localhost:8888\"\n",
    "ANALYST_MODEL = \"qwen2.5:latest\"\n",
    "\n",
    "class GithubRepo(BaseModel):\n",
    "    \"\"\"List of github repositories\"\"\"\n",
    "\n",
    "    url: List[HttpUrl] = Field(description=\"The full URL string\")\n",
    "\n",
    "ollama_model = OpenAIModel(\n",
    "    model_name=ANALYST_MODEL,\n",
    "    provider=OpenAIProvider(base_url=OLLAMA_BASE_URL + \"/v1/\"),\n",
    ")\n",
    "\n",
    "agent = Agent(\n",
    "    ollama_model,\n",
    "    tools=[duckduckgo_search_tool()],\n",
    "    system_prompt='Search DuckDuckGo for the given query and return the results.',\n",
    "    result_type=GithubRepo,\n",
    "    retries=4,\n",
    ")\n",
    "\n",
    "result = agent.run_sync(\n",
    "    'Can you list five github repositories that implement the Hilbert curve in Python?'\n",
    ")\n",
    "print(result.data)"
   ]
  },
  {
   "cell_type": "code",
   "execution_count": 7,
   "metadata": {},
   "outputs": [],
   "source": [
    "from AISoftTeam.agents.extractor import extract_content"
   ]
  },
  {
   "cell_type": "code",
   "execution_count": 13,
   "metadata": {},
   "outputs": [
    {
     "data": {
      "text/plain": [
       "[Document(metadata={'source': 'https://github.com/PrincetonLIPS/numpy-hilbert-curve/blob/main/', 'content_type': 'text/html; charset=utf-8', 'title': 'GitHub - PrincetonLIPS/numpy-hilbert-curve: Numpy implementation of Hilbert curves in arbitrary dimensions', 'description': 'Numpy implementation of Hilbert curves in arbitrary dimensions - PrincetonLIPS/numpy-hilbert-curve', 'language': 'en'}, page_content='GitHub - PrincetonLIPS/numpy-hilbert-curve: Numpy implementation of Hilbert curves in arbitrary dimensions\\n\\n\\n\\n[Skip to content](#start-of-content)\\n\\n\\n\\n\\n\\n\\n\\n## Navigation Menu\\n\\nToggle navigation\\n\\n[Sign in](/login?return_to=https%3A%2F%2Fgithub.com%2FPrincetonLIPS%2Fnumpy-hilbert-curve%2Ftree%2Fmain)\\n\\nSearch or jump to...\\n\\n\\n# Search code, repositories, users, issues, pull requests...\\n\\nSearch\\n\\nClear\\n\\n[Search syntax tips](https://docs.github.com/search-github/github-code-search/understanding-github-code-search-syntax)\\n\\n# Provide feedback\\n\\nWe read every piece of feedback, and take your input very seriously.\\n\\n\\nInclude my email address so I can be contacted\\n\\nCancel\\n Submit feedback\\n\\n\\n\\n\\n\\n# Saved searches\\n\\n## Use saved searches to filter your results more quickly\\n\\nName\\n\\nQuery\\n\\nTo see all available qualifiers, see our [documentation](https://docs.github.com/search-github/github-code-search/understanding-github-code-search-syntax).\\n\\nCancel\\n Create saved search\\n\\n[Sign in](/login?return_to=https%3A%2F%2Fgithub.com%2FPrincetonLIPS%2Fnumpy-hilbert-curve%2Ftree%2Fmain)\\n\\n[Sign up](/signup?ref_cta=Sign+up&ref_loc=header+logged+out&ref_page=%2F%3Cuser-name%3E%2F%3Crepo-name%3E&source=header-repo&source_repo=PrincetonLIPS%2Fnumpy-hilbert-curve)\\nReseting focus\\n\\nYou signed in with another tab or window. Reload to refresh your session.\\nYou signed out in another tab or window. Reload to refresh your session.\\nYou switched accounts on another tab or window. Reload to refresh your session.\\n \\n\\n\\nDismiss alert\\n\\n{{ message }}\\n\\n[PrincetonLIPS](/PrincetonLIPS) \\n/\\n**[numpy-hilbert-curve](/PrincetonLIPS/numpy-hilbert-curve)**\\nPublic\\n\\n* [Notifications](/login?return_to=%2FPrincetonLIPS%2Fnumpy-hilbert-curve) You must be signed in to change notification settings\\n* [Fork\\n  19](/login?return_to=%2FPrincetonLIPS%2Fnumpy-hilbert-curve)\\n* [Star\\n   167](/login?return_to=%2FPrincetonLIPS%2Fnumpy-hilbert-curve)\\n\\nNumpy implementation of Hilbert curves in arbitrary dimensions\\n\\n### License\\n\\n[MIT license](/PrincetonLIPS/numpy-hilbert-curve/blob/main/LICENSE)\\n\\n[167\\nstars](/PrincetonLIPS/numpy-hilbert-curve/stargazers) [19\\nforks](/PrincetonLIPS/numpy-hilbert-curve/forks) [Branches](/PrincetonLIPS/numpy-hilbert-curve/branches) [Tags](/PrincetonLIPS/numpy-hilbert-curve/tags) [Activity](/PrincetonLIPS/numpy-hilbert-curve/activity)\\n\\n[Star](/login?return_to=%2FPrincetonLIPS%2Fnumpy-hilbert-curve)\\n\\n[Notifications](/login?return_to=%2FPrincetonLIPS%2Fnumpy-hilbert-curve) You must be signed in to change notification settings\\n\\n# PrincetonLIPS/numpy-hilbert-curve\\n\\nmain\\n\\n[Branches](/PrincetonLIPS/numpy-hilbert-curve/branches)[Tags](/PrincetonLIPS/numpy-hilbert-curve/tags)\\n\\nGo to file\\n\\nCode\\n\\n## Folders and files\\n\\n| Name | | Name | Last commit message | Last commit date |\\n| --- | --- | --- | --- | --- |\\n| Latest commit   History[20 Commits](/PrincetonLIPS/numpy-hilbert-curve/commits/main/) | | |\\n| [examples](/PrincetonLIPS/numpy-hilbert-curve/tree/main/examples \"examples\") | | [examples](/PrincetonLIPS/numpy-hilbert-curve/tree/main/examples \"examples\") |  |  |\\n| [hilbert](/PrincetonLIPS/numpy-hilbert-curve/tree/main/hilbert \"hilbert\") | | [hilbert](/PrincetonLIPS/numpy-hilbert-curve/tree/main/hilbert \"hilbert\") |  |  |\\n| [LICENSE](/PrincetonLIPS/numpy-hilbert-curve/blob/main/LICENSE \"LICENSE\") | | [LICENSE](/PrincetonLIPS/numpy-hilbert-curve/blob/main/LICENSE \"LICENSE\") |  |  |\\n| [README.md](/PrincetonLIPS/numpy-hilbert-curve/blob/main/README.md \"README.md\") | | [README.md](/PrincetonLIPS/numpy-hilbert-curve/blob/main/README.md \"README.md\") |  |  |\\n| [requirements.txt](/PrincetonLIPS/numpy-hilbert-curve/blob/main/requirements.txt \"requirements.txt\") | | [requirements.txt](/PrincetonLIPS/numpy-hilbert-curve/blob/main/requirements.txt \"requirements.txt\") |  |  |\\n| [setup.py](/PrincetonLIPS/numpy-hilbert-curve/blob/main/setup.py \"setup.py\") | | [setup.py](/PrincetonLIPS/numpy-hilbert-curve/blob/main/setup.py \"setup.py\") |  |  |\\n| View all files | | |\\n\\n## Repository files navigation\\n\\n# numpy-hilbert-curve\\n\\nThis is a numpy-based implementation of Hilbert curves, for up to a few tens of\\ndimensions. A [Hilbert curve](https://en.wikipedia.org/wiki/Hilbert_curve) is a\\ncontinuous\\n[space-filling curve](https://en.wikipedia.org/wiki/Space-filling_curve)\\nthat lets you map from a single dimension into multiple dimensions.\\nIn two dimensions, you get curves that look like this:\\n\\n[![2d Hilbert Curves](https://raw.githubusercontent.com/PrincetonLIPS/numpy-hilbert-curve/main/examples/example_2d.png)](https://raw.githubusercontent.com/PrincetonLIPS/numpy-hilbert-curve/main/examples/example_2d.png)\\n\\nIn three dimensions, you get curves that look like this:\\n\\n[![3d Hilbert Curves](https://raw.githubusercontent.com/PrincetonLIPS/numpy-hilbert-curve/main/examples/example_3d.png)](https://raw.githubusercontent.com/PrincetonLIPS/numpy-hilbert-curve/main/examples/example_3d.png)\\n\\nThis is working entirely in terms of integers, so the size of the (hyper-)\\ncube reflects the number of bits per dimension. You could normalize this to put\\nit into the unit hypercube with floating point numbers.\\n\\nThe mechanics of the implementation rely on the Gray-code \"correction\"\\nprocedure presented in\\n\\n> Skilling, J. (2004, April). Programming the Hilbert curve. In AIP Conference\\n> Proceedings (Vol. 707, No. 1, pp. 381-387). American Institute of Physics.\\n\\nThis paper does a lot of bit twiddling in C. I replicate this with\\n\"bool-twiddling\" in numpy, but of course numpy represents a bool value with 8\\nbits, so don\\'t expect it to really have the same performance as the equivalent\\nC code. However, my goal here (rather than write it in Cython) was to make it\\neasy to integrate with code you\\'re already writing in Python with numpy.\\n\\n## Installation\\n\\nYou can install this via PyPI:\\n\\n```\\n$ pip install numpy-hilbert-curve\\n\\n```\\n\\n## Usage\\n\\nThe basic usage looks like this:\\n\\n```\\nimport numpy as np\\nfrom hilbert import decode, encode\\n\\n# Turn an ndarray of Hilber integers into locations.\\n# 2 is the number of dimensions, 3 is the number of bits per dimension\\nlocs = decode(np.array([1,2,3]), 2, 3)\\n\\nprint(locs)\\n# prints [[0 1]\\n#         [1 1]\\n#         [1 0]]\\n\\n# You can go the other way also, of course.\\nH = encode(locs, 2, 3)\\n\\nprint(H)\\n# prints array([1, 2, 3], dtype=uint64)\\n```\\n\\nThe reason things like Hilbert curves are interesting is because they preserve\\nsome amount of locality. In this figure, I\\'m gradually changing the color in\\nthe Hilbert integers, using the \"copper\" colormap:\\n\\n[![2d Color Hilbert Curves](https://github.com/PrincetonLIPS/numpy-hilbert-curve/raw/main/examples/example_2d_color.png)](https://github.com/PrincetonLIPS/numpy-hilbert-curve/raw/main/examples/example_2d_color.png)\\n\\nIn this picture, I\\'m doing the same thing in 3d:\\n\\n[![3d Color Hilbert Curves](https://camo.githubusercontent.com/d68e472206ad3527ff9e172d15796d6cf4536cf3cb5f53ce35d3ea5f1d808390/68747470733a2f2f7777772e63732e7072696e6365746f6e2e6564752f7e7270612f726f746174655f33645f35626974735f636f6d707265737365642e676966)](https://camo.githubusercontent.com/d68e472206ad3527ff9e172d15796d6cf4536cf3cb5f53ce35d3ea5f1d808390/68747470733a2f2f7777772e63732e7072696e6365746f6e2e6564752f7e7270612f726f746174655f33645f35626974735f636f6d707265737365642e676966)\\n\\n## About\\n\\nNumpy implementation of Hilbert curves in arbitrary dimensions\\n\\n### Resources\\n\\n[Readme](#readme-ov-file)\\n\\n### License\\n\\n[MIT license](#MIT-1-ov-file)\\n\\n\\n\\n[Activity](/PrincetonLIPS/numpy-hilbert-curve/activity)\\n\\n[Custom properties](/PrincetonLIPS/numpy-hilbert-curve/custom-properties)\\n\\n### Stars\\n\\n[**167**\\nstars](/PrincetonLIPS/numpy-hilbert-curve/stargazers)\\n\\n### Watchers\\n\\n[**5**\\nwatching](/PrincetonLIPS/numpy-hilbert-curve/watchers)\\n\\n### Forks\\n\\n[**19**\\nforks](/PrincetonLIPS/numpy-hilbert-curve/forks)\\n\\n[Report repository](/contact/report-content?content_url=https%3A%2F%2Fgithub.com%2FPrincetonLIPS%2Fnumpy-hilbert-curve&report=PrincetonLIPS+%28user%29)\\n\\n## [Releases](/PrincetonLIPS/numpy-hilbert-curve/releases)\\n\\nNo releases published\\n\\n## [Packages 0](/orgs/PrincetonLIPS/packages?repo_name=numpy-hilbert-curve)\\n\\nNo packages published\\n\\n## Languages\\n\\n* [Python\\n  100.0%](/PrincetonLIPS/numpy-hilbert-curve/search?l=python)\\n\\n## Footer\\n\\n© 2025 GitHub,\\xa0Inc.\\n\\n\\n\\nYou can’t perform that action at this time.'),\n",
       " Document(metadata={'source': 'https://github.com/PrincetonLIPS/numpy-hilbert-curve/blob/main/LICENSE', 'content_type': 'text/html; charset=utf-8', 'title': 'numpy-hilbert-curve/LICENSE at main · PrincetonLIPS/numpy-hilbert-curve · GitHub', 'description': 'Numpy implementation of Hilbert curves in arbitrary dimensions - numpy-hilbert-curve/LICENSE at main · PrincetonLIPS/numpy-hilbert-curve', 'language': 'en'}, page_content='numpy-hilbert-curve/LICENSE at main · PrincetonLIPS/numpy-hilbert-curve · GitHub\\n\\n\\n\\n[Skip to content](#start-of-content)\\n\\n\\n\\n\\n\\n\\n\\n## Navigation Menu\\n\\nToggle navigation\\n\\n[Sign in](/login?return_to=https%3A%2F%2Fgithub.com%2FPrincetonLIPS%2Fnumpy-hilbert-curve%2Fblob%2Fmain%2FLICENSE)\\n\\nSearch or jump to...\\n\\n\\n# Search code, repositories, users, issues, pull requests...\\n\\nSearch\\n\\nClear\\n\\n[Search syntax tips](https://docs.github.com/search-github/github-code-search/understanding-github-code-search-syntax)\\n\\n# Provide feedback\\n\\nWe read every piece of feedback, and take your input very seriously.\\n\\n\\nInclude my email address so I can be contacted\\n\\nCancel\\n Submit feedback\\n\\n\\n\\n\\n\\n# Saved searches\\n\\n## Use saved searches to filter your results more quickly\\n\\nName\\n\\nQuery\\n\\nTo see all available qualifiers, see our [documentation](https://docs.github.com/search-github/github-code-search/understanding-github-code-search-syntax).\\n\\nCancel\\n Create saved search\\n\\n[Sign in](/login?return_to=https%3A%2F%2Fgithub.com%2FPrincetonLIPS%2Fnumpy-hilbert-curve%2Fblob%2Fmain%2FLICENSE)\\n\\n[Sign up](/signup?ref_cta=Sign+up&ref_loc=header+logged+out&ref_page=%2F%3Cuser-name%3E%2F%3Crepo-name%3E%2Fblob%2Fshow&source=header-repo&source_repo=PrincetonLIPS%2Fnumpy-hilbert-curve)\\nReseting focus\\n\\nYou signed in with another tab or window. Reload to refresh your session.\\nYou signed out in another tab or window. Reload to refresh your session.\\nYou switched accounts on another tab or window. Reload to refresh your session.\\n \\n\\n\\nDismiss alert\\n\\n{{ message }}\\n\\n[PrincetonLIPS](/PrincetonLIPS) \\n/\\n**[numpy-hilbert-curve](/PrincetonLIPS/numpy-hilbert-curve)**\\nPublic\\n\\n* [Notifications](/login?return_to=%2FPrincetonLIPS%2Fnumpy-hilbert-curve) You must be signed in to change notification settings\\n* [Fork\\n  19](/login?return_to=%2FPrincetonLIPS%2Fnumpy-hilbert-curve)\\n* [Star\\n   167](/login?return_to=%2FPrincetonLIPS%2Fnumpy-hilbert-curve)\\n\\n## Files\\n\\nmain\\n\\n/\\n\\n# LICENSE\\n\\nCopy path\\n\\nBlame\\n\\nBlame\\n\\n## Latest commit\\n\\n## History\\n\\n[History](/PrincetonLIPS/numpy-hilbert-curve/commits/main/LICENSE)\\n\\n21 lines (17 loc) · 1.09 KB\\n\\nmain\\n\\n/\\n\\n# LICENSE\\n\\nTop\\n\\n## File metadata and controls\\n\\n* Code\\n* Blame\\n\\n21 lines (17 loc) · 1.09 KB\\n\\n[Raw](https://github.com/PrincetonLIPS/numpy-hilbert-curve/raw/refs/heads/main/LICENSE)\\n\\n1\\n\\n2\\n\\n3\\n\\n4\\n\\n5\\n\\n6\\n\\n7\\n\\n8\\n\\n9\\n\\n10\\n\\n11\\n\\n12\\n\\n13\\n\\n14\\n\\n15\\n\\n16\\n\\n17\\n\\n18\\n\\n19\\n\\n20\\n\\n21\\n\\nMIT License\\n\\nCopyright (c) 2020 Princeton Laboratory for Intelligent Probabilistic Systems\\n\\nPermission is hereby granted, free of charge, to any person obtaining a copy\\n\\nof this software and associated documentation files (the \"Software\"), to deal\\n\\nin the Software without restriction, including without limitation the rights\\n\\nto use, copy, modify, merge, publish, distribute, sublicense, and/or sell\\n\\ncopies of the Software, and to permit persons to whom the Software is\\n\\nfurnished to do so, subject to the following conditions:\\n\\nThe above copyright notice and this permission notice shall be included in all\\n\\ncopies or substantial portions of the Software.\\n\\nTHE SOFTWARE IS PROVIDED \"AS IS\", WITHOUT WARRANTY OF ANY KIND, EXPRESS OR\\n\\nIMPLIED, INCLUDING BUT NOT LIMITED TO THE WARRANTIES OF MERCHANTABILITY,\\n\\nFITNESS FOR A PARTICULAR PURPOSE AND NONINFRINGEMENT. IN NO EVENT SHALL THE\\n\\nAUTHORS OR COPYRIGHT HOLDERS BE LIABLE FOR ANY CLAIM, DAMAGES OR OTHER\\n\\nLIABILITY, WHETHER IN AN ACTION OF CONTRACT, TORT OR OTHERWISE, ARISING FROM,\\n\\nOUT OF OR IN CONNECTION WITH THE SOFTWARE OR THE USE OR OTHER DEALINGS IN THE\\n\\nSOFTWARE.\\n\\n## Footer\\n\\n© 2025 GitHub,\\xa0Inc.\\n\\n\\n\\nYou can’t perform that action at this time.'),\n",
       " Document(metadata={'source': 'https://github.com/PrincetonLIPS/numpy-hilbert-curve/blob/main/requirements.txt', 'content_type': 'text/html; charset=utf-8', 'title': 'numpy-hilbert-curve/requirements.txt at main · PrincetonLIPS/numpy-hilbert-curve · GitHub', 'description': 'Numpy implementation of Hilbert curves in arbitrary dimensions - numpy-hilbert-curve/requirements.txt at main · PrincetonLIPS/numpy-hilbert-curve', 'language': 'en'}, page_content='numpy-hilbert-curve/requirements.txt at main · PrincetonLIPS/numpy-hilbert-curve · GitHub\\n\\n\\n\\n[Skip to content](#start-of-content)\\n\\n\\n\\n\\n\\n\\n\\n## Navigation Menu\\n\\nToggle navigation\\n\\n[Sign in](/login?return_to=https%3A%2F%2Fgithub.com%2FPrincetonLIPS%2Fnumpy-hilbert-curve%2Fblob%2Fmain%2Frequirements.txt)\\n\\nSearch or jump to...\\n\\n\\n# Search code, repositories, users, issues, pull requests...\\n\\nSearch\\n\\nClear\\n\\n[Search syntax tips](https://docs.github.com/search-github/github-code-search/understanding-github-code-search-syntax)\\n\\n# Provide feedback\\n\\nWe read every piece of feedback, and take your input very seriously.\\n\\n\\nInclude my email address so I can be contacted\\n\\nCancel\\n Submit feedback\\n\\n\\n\\n\\n\\n# Saved searches\\n\\n## Use saved searches to filter your results more quickly\\n\\nName\\n\\nQuery\\n\\nTo see all available qualifiers, see our [documentation](https://docs.github.com/search-github/github-code-search/understanding-github-code-search-syntax).\\n\\nCancel\\n Create saved search\\n\\n[Sign in](/login?return_to=https%3A%2F%2Fgithub.com%2FPrincetonLIPS%2Fnumpy-hilbert-curve%2Fblob%2Fmain%2Frequirements.txt)\\n\\n[Sign up](/signup?ref_cta=Sign+up&ref_loc=header+logged+out&ref_page=%2F%3Cuser-name%3E%2F%3Crepo-name%3E%2Fblob%2Fshow&source=header-repo&source_repo=PrincetonLIPS%2Fnumpy-hilbert-curve)\\nReseting focus\\n\\nYou signed in with another tab or window. Reload to refresh your session.\\nYou signed out in another tab or window. Reload to refresh your session.\\nYou switched accounts on another tab or window. Reload to refresh your session.\\n \\n\\n\\nDismiss alert\\n\\n{{ message }}\\n\\n[PrincetonLIPS](/PrincetonLIPS) \\n/\\n**[numpy-hilbert-curve](/PrincetonLIPS/numpy-hilbert-curve)**\\nPublic\\n\\n* [Notifications](/login?return_to=%2FPrincetonLIPS%2Fnumpy-hilbert-curve) You must be signed in to change notification settings\\n* [Fork\\n  19](/login?return_to=%2FPrincetonLIPS%2Fnumpy-hilbert-curve)\\n* [Star\\n   167](/login?return_to=%2FPrincetonLIPS%2Fnumpy-hilbert-curve)\\n\\n## Files\\n\\nmain\\n\\n/\\n\\n# requirements.txt\\n\\nCopy path\\n\\nBlame\\n\\nBlame\\n\\n## Latest commit\\n\\n## History\\n\\n[History](/PrincetonLIPS/numpy-hilbert-curve/commits/main/requirements.txt)\\n\\n11 lines (11 loc) · 177 Bytes\\n\\nmain\\n\\n/\\n\\n# requirements.txt\\n\\nTop\\n\\n## File metadata and controls\\n\\n* Code\\n* Blame\\n\\n11 lines (11 loc) · 177 Bytes\\n\\n[Raw](https://github.com/PrincetonLIPS/numpy-hilbert-curve/raw/refs/heads/main/requirements.txt)\\n\\n1\\n\\n2\\n\\n3\\n\\n4\\n\\n5\\n\\n6\\n\\n7\\n\\n8\\n\\n9\\n\\n10\\n\\n11\\n\\ncertifi==2020.6.20\\n\\ncoverage==5.3\\n\\ncycler==0.10.0\\n\\nkiwisolver==1.3.1\\n\\nmatplotlib==3.3.2\\n\\nnose2==0.9.2\\n\\nnumpy==1.19.4\\n\\nPillow==8.0.1\\n\\npyparsing==2.4.7\\n\\npython-dateutil==2.8.1\\n\\nsix==1.15.0\\n\\n## Footer\\n\\n© 2025 GitHub,\\xa0Inc.\\n\\n\\n\\nYou can’t perform that action at this time.'),\n",
       " Document(metadata={'source': 'https://github.com/PrincetonLIPS/numpy-hilbert-curve/blob/main/setup.py', 'content_type': 'text/html; charset=utf-8', 'title': 'numpy-hilbert-curve/setup.py at main · PrincetonLIPS/numpy-hilbert-curve · GitHub', 'description': 'Numpy implementation of Hilbert curves in arbitrary dimensions - numpy-hilbert-curve/setup.py at main · PrincetonLIPS/numpy-hilbert-curve', 'language': 'en'}, page_content=\"numpy-hilbert-curve/setup.py at main · PrincetonLIPS/numpy-hilbert-curve · GitHub\\n\\n\\n\\n[Skip to content](#start-of-content)\\n\\n\\n\\n\\n\\n\\n\\n## Navigation Menu\\n\\nToggle navigation\\n\\n[Sign in](/login?return_to=https%3A%2F%2Fgithub.com%2FPrincetonLIPS%2Fnumpy-hilbert-curve%2Fblob%2Fmain%2Fsetup.py)\\n\\nSearch or jump to...\\n\\n\\n# Search code, repositories, users, issues, pull requests...\\n\\nSearch\\n\\nClear\\n\\n[Search syntax tips](https://docs.github.com/search-github/github-code-search/understanding-github-code-search-syntax)\\n\\n# Provide feedback\\n\\nWe read every piece of feedback, and take your input very seriously.\\n\\n\\nInclude my email address so I can be contacted\\n\\nCancel\\n Submit feedback\\n\\n\\n\\n\\n\\n# Saved searches\\n\\n## Use saved searches to filter your results more quickly\\n\\nName\\n\\nQuery\\n\\nTo see all available qualifiers, see our [documentation](https://docs.github.com/search-github/github-code-search/understanding-github-code-search-syntax).\\n\\nCancel\\n Create saved search\\n\\n[Sign in](/login?return_to=https%3A%2F%2Fgithub.com%2FPrincetonLIPS%2Fnumpy-hilbert-curve%2Fblob%2Fmain%2Fsetup.py)\\n\\n[Sign up](/signup?ref_cta=Sign+up&ref_loc=header+logged+out&ref_page=%2F%3Cuser-name%3E%2F%3Crepo-name%3E%2Fblob%2Fshow&source=header-repo&source_repo=PrincetonLIPS%2Fnumpy-hilbert-curve)\\nReseting focus\\n\\nYou signed in with another tab or window. Reload to refresh your session.\\nYou signed out in another tab or window. Reload to refresh your session.\\nYou switched accounts on another tab or window. Reload to refresh your session.\\n \\n\\n\\nDismiss alert\\n\\n{{ message }}\\n\\n[PrincetonLIPS](/PrincetonLIPS) \\n/\\n**[numpy-hilbert-curve](/PrincetonLIPS/numpy-hilbert-curve)**\\nPublic\\n\\n* [Notifications](/login?return_to=%2FPrincetonLIPS%2Fnumpy-hilbert-curve) You must be signed in to change notification settings\\n* [Fork\\n  19](/login?return_to=%2FPrincetonLIPS%2Fnumpy-hilbert-curve)\\n* [Star\\n   167](/login?return_to=%2FPrincetonLIPS%2Fnumpy-hilbert-curve)\\n\\n## Files\\n\\nmain\\n\\n/\\n\\n# setup.py\\n\\nCopy path\\n\\nBlame\\n\\nBlame\\n\\n## Latest commit\\n\\n## History\\n\\n[History](/PrincetonLIPS/numpy-hilbert-curve/commits/main/setup.py)\\n\\n25 lines (23 loc) · 801 Bytes\\n\\nmain\\n\\n/\\n\\n# setup.py\\n\\nTop\\n\\n## File metadata and controls\\n\\n* Code\\n* Blame\\n\\n25 lines (23 loc) · 801 Bytes\\n\\n[Raw](https://github.com/PrincetonLIPS/numpy-hilbert-curve/raw/refs/heads/main/setup.py)\\n\\n1\\n\\n2\\n\\n3\\n\\n4\\n\\n5\\n\\n6\\n\\n7\\n\\n8\\n\\n9\\n\\n10\\n\\n11\\n\\n12\\n\\n13\\n\\n14\\n\\n15\\n\\n16\\n\\n17\\n\\n18\\n\\n19\\n\\n20\\n\\n21\\n\\n22\\n\\n23\\n\\n24\\n\\n25\\n\\nfrom setuptools import setup\\n\\n# Pull in the README.md\\n\\nfrom os import path\\n\\nthis\\\\_directory = path.abspath(path.dirname(\\\\_\\\\_file\\\\_\\\\_))\\n\\nwith open(path.join(this\\\\_directory, 'README.md'), encoding='utf-8') as f:\\n\\nlong\\\\_description = f.read()\\n\\nsetup(\\n\\nname='numpy-hilbert-curve',\\n\\nversion='1.0.1',\\n\\ndescription='Implements Hilbert space-filling curves for Python with numpy',\\n\\nurl='https://github.com/PrincetonLIPS/numpy-hilbert-curve',\\n\\nauthor='Ryan P. Adams',\\n\\nauthor\\\\_email='rpa@princeton.edu',\\n\\nlicense='MIT',\\n\\npackages=['hilbert'],\\n\\nlong\\\\_description=long\\\\_description,\\n\\nlong\\\\_description\\\\_content\\\\_type='text/markdown',\\n\\nclassifiers=[\\n\\n'Development Status :: 4 - Beta',\\n\\n'Intended Audience :: Science/Research',\\n\\n'License :: OSI Approved :: MIT License',\\n\\n],\\n\\n)\\n\\n## Footer\\n\\n© 2025 GitHub,\\xa0Inc.\\n\\n\\n\\nYou can’t perform that action at this time.\"),\n",
       " Document(metadata={'source': 'https://github.com/PrincetonLIPS/numpy-hilbert-curve/blob/main/README.md', 'content_type': 'text/html; charset=utf-8', 'title': 'numpy-hilbert-curve/README.md at main · PrincetonLIPS/numpy-hilbert-curve · GitHub', 'description': 'Numpy implementation of Hilbert curves in arbitrary dimensions - numpy-hilbert-curve/README.md at main · PrincetonLIPS/numpy-hilbert-curve', 'language': 'en'}, page_content='numpy-hilbert-curve/README.md at main · PrincetonLIPS/numpy-hilbert-curve · GitHub\\n\\n\\n\\n[Skip to content](#start-of-content)\\n\\n\\n\\n\\n\\n\\n\\n## Navigation Menu\\n\\nToggle navigation\\n\\n[Sign in](/login?return_to=https%3A%2F%2Fgithub.com%2FPrincetonLIPS%2Fnumpy-hilbert-curve%2Fblob%2Fmain%2FREADME.md)\\n\\nSearch or jump to...\\n\\n\\n# Search code, repositories, users, issues, pull requests...\\n\\nSearch\\n\\nClear\\n\\n[Search syntax tips](https://docs.github.com/search-github/github-code-search/understanding-github-code-search-syntax)\\n\\n# Provide feedback\\n\\nWe read every piece of feedback, and take your input very seriously.\\n\\n\\nInclude my email address so I can be contacted\\n\\nCancel\\n Submit feedback\\n\\n\\n\\n\\n\\n# Saved searches\\n\\n## Use saved searches to filter your results more quickly\\n\\nName\\n\\nQuery\\n\\nTo see all available qualifiers, see our [documentation](https://docs.github.com/search-github/github-code-search/understanding-github-code-search-syntax).\\n\\nCancel\\n Create saved search\\n\\n[Sign in](/login?return_to=https%3A%2F%2Fgithub.com%2FPrincetonLIPS%2Fnumpy-hilbert-curve%2Fblob%2Fmain%2FREADME.md)\\n\\n[Sign up](/signup?ref_cta=Sign+up&ref_loc=header+logged+out&ref_page=%2F%3Cuser-name%3E%2F%3Crepo-name%3E%2Fblob%2Fshow&source=header-repo&source_repo=PrincetonLIPS%2Fnumpy-hilbert-curve)\\nReseting focus\\n\\nYou signed in with another tab or window. Reload to refresh your session.\\nYou signed out in another tab or window. Reload to refresh your session.\\nYou switched accounts on another tab or window. Reload to refresh your session.\\n \\n\\n\\nDismiss alert\\n\\n{{ message }}\\n\\n[PrincetonLIPS](/PrincetonLIPS) \\n/\\n**[numpy-hilbert-curve](/PrincetonLIPS/numpy-hilbert-curve)**\\nPublic\\n\\n* [Notifications](/login?return_to=%2FPrincetonLIPS%2Fnumpy-hilbert-curve) You must be signed in to change notification settings\\n* [Fork\\n  19](/login?return_to=%2FPrincetonLIPS%2Fnumpy-hilbert-curve)\\n* [Star\\n   167](/login?return_to=%2FPrincetonLIPS%2Fnumpy-hilbert-curve)\\n\\n## Files\\n\\nmain\\n\\n/\\n\\n# README.md\\n\\nCopy path\\n\\nBlame\\n\\nBlame\\n\\n## Latest commit\\n\\n## History\\n\\n[History](/PrincetonLIPS/numpy-hilbert-curve/commits/main/README.md)\\n\\n68 lines (50 loc) · 2.49 KB\\n\\nmain\\n\\n/\\n\\n# README.md\\n\\nTop\\n\\n## File metadata and controls\\n\\n* Preview\\n* Code\\n* Blame\\n\\n68 lines (50 loc) · 2.49 KB\\n\\n[Raw](https://github.com/PrincetonLIPS/numpy-hilbert-curve/raw/refs/heads/main/README.md)\\n\\n# numpy-hilbert-curve\\n\\nThis is a numpy-based implementation of Hilbert curves, for up to a few tens of\\ndimensions. A [Hilbert curve](https://en.wikipedia.org/wiki/Hilbert_curve) is a\\ncontinuous\\n[space-filling curve](https://en.wikipedia.org/wiki/Space-filling_curve)\\nthat lets you map from a single dimension into multiple dimensions.\\nIn two dimensions, you get curves that look like this:\\n\\n[![2d Hilbert Curves](https://raw.githubusercontent.com/PrincetonLIPS/numpy-hilbert-curve/main/examples/example_2d.png)](https://raw.githubusercontent.com/PrincetonLIPS/numpy-hilbert-curve/main/examples/example_2d.png)\\n\\nIn three dimensions, you get curves that look like this:\\n\\n[![3d Hilbert Curves](https://raw.githubusercontent.com/PrincetonLIPS/numpy-hilbert-curve/main/examples/example_3d.png)](https://raw.githubusercontent.com/PrincetonLIPS/numpy-hilbert-curve/main/examples/example_3d.png)\\n\\nThis is working entirely in terms of integers, so the size of the (hyper-)\\ncube reflects the number of bits per dimension. You could normalize this to put\\nit into the unit hypercube with floating point numbers.\\n\\nThe mechanics of the implementation rely on the Gray-code \"correction\"\\nprocedure presented in\\n\\n> Skilling, J. (2004, April). Programming the Hilbert curve. In AIP Conference\\n> Proceedings (Vol. 707, No. 1, pp. 381-387). American Institute of Physics.\\n\\nThis paper does a lot of bit twiddling in C. I replicate this with\\n\"bool-twiddling\" in numpy, but of course numpy represents a bool value with 8\\nbits, so don\\'t expect it to really have the same performance as the equivalent\\nC code. However, my goal here (rather than write it in Cython) was to make it\\neasy to integrate with code you\\'re already writing in Python with numpy.\\n\\n## Installation\\n\\nYou can install this via PyPI:\\n\\n```\\n$ pip install numpy-hilbert-curve\\n\\n```\\n\\n## Usage\\n\\nThe basic usage looks like this:\\n\\n```\\nimport numpy as np\\nfrom hilbert import decode, encode\\n\\n# Turn an ndarray of Hilber integers into locations.\\n# 2 is the number of dimensions, 3 is the number of bits per dimension\\nlocs = decode(np.array([1,2,3]), 2, 3)\\n\\nprint(locs)\\n# prints [[0 1]\\n#         [1 1]\\n#         [1 0]]\\n\\n# You can go the other way also, of course.\\nH = encode(locs, 2, 3)\\n\\nprint(H)\\n# prints array([1, 2, 3], dtype=uint64)\\n```\\n\\nThe reason things like Hilbert curves are interesting is because they preserve\\nsome amount of locality. In this figure, I\\'m gradually changing the color in\\nthe Hilbert integers, using the \"copper\" colormap:\\n\\n[![2d Color Hilbert Curves](https://github.com/PrincetonLIPS/numpy-hilbert-curve/raw/main/examples/example_2d_color.png)](https://github.com/PrincetonLIPS/numpy-hilbert-curve/raw/main/examples/example_2d_color.png)\\n\\nIn this picture, I\\'m doing the same thing in 3d:\\n\\n[![3d Color Hilbert Curves](https://camo.githubusercontent.com/d68e472206ad3527ff9e172d15796d6cf4536cf3cb5f53ce35d3ea5f1d808390/68747470733a2f2f7777772e63732e7072696e6365746f6e2e6564752f7e7270612f726f746174655f33645f35626974735f636f6d707265737365642e676966)](https://camo.githubusercontent.com/d68e472206ad3527ff9e172d15796d6cf4536cf3cb5f53ce35d3ea5f1d808390/68747470733a2f2f7777772e63732e7072696e6365746f6e2e6564752f7e7270612f726f746174655f33645f35626974735f636f6d707265737365642e676966)\\n\\n## Footer\\n\\n© 2025 GitHub,\\xa0Inc.\\n\\n\\n\\nYou can’t perform that action at this time.')]"
      ]
     },
     "execution_count": 13,
     "metadata": {},
     "output_type": "execute_result"
    }
   ],
   "source": [
    "extract_content([str(result.data.url[1])+'/blob/main/'], 4)"
   ]
  },
  {
   "cell_type": "code",
   "execution_count": 31,
   "metadata": {},
   "outputs": [
    {
     "data": {
      "text/plain": [
       "'https://github.com/topics/hilbert-curve?l=python'"
      ]
     },
     "execution_count": 31,
     "metadata": {},
     "output_type": "execute_result"
    }
   ],
   "source": [
    "str(result.data.url[0])"
   ]
  },
  {
   "cell_type": "code",
   "execution_count": null,
   "metadata": {},
   "outputs": [],
   "source": []
  },
  {
   "cell_type": "code",
   "execution_count": null,
   "metadata": {},
   "outputs": [],
   "source": []
  },
  {
   "cell_type": "code",
   "execution_count": 9,
   "metadata": {},
   "outputs": [
    {
     "data": {
      "image/png": "[encoded data removed]",
      "text/plain": [
       "<Figure size 640x480 with 1 Axes>"
      ]
     },
     "metadata": {},
     "output_type": "display_data"
    }
   ],
   "source": [
    "import numpy as np\n",
    "import matplotlib.pyplot as plt\n",
    "\n",
    "def hilbert_curve(t, x, y, xi, xj, yi, yj):\n",
    "    if t == 0:\n",
    "        return [(x + (xi + yi) / 2, y + (xj + yj) / 2)]\n",
    "    else:\n",
    "        return hilbert_curve(t - 1, x + (xi - yi) / 2, y + (xj - yj) / 2, xi, xj, yi, yj) \\\n",
    "               + hilbert_curve(t - 1, x + (xi + yi) / 2, y + (xj + yj) / 2, xi, xj, yi, yj) \\\n",
    "               + [((x + xi), (y + xj))] \\\n",
    "               + hilbert_curve(t - 1, x - (xi + yi) / 2, y - (xj + yj) / 2, -yi, -yj, -xi, -xj)\n",
    "\n",
    "def plot_hilbert_curve(depth):\n",
    "    points = hilbert_curve(depth, 0, 0, 1, 0, 0, 1)\n",
    "    xs, ys = zip(*points)\n",
    "    plt.figure()\n",
    "    plt.plot(xs, ys, 'o-')\n",
    "    plt.title(f'Hilbert Curve of Depth {depth}')\n",
    "    plt.xlabel('X')\n",
    "    plt.ylabel('Y')\n",
    "    plt.grid(True)\n",
    "    plt.show()\n",
    "\n",
    "# Example usage: plot the Hilbert curve for depth 3\n",
    "plot_hilbert_curve(3)"
   ]
  },
  {
   "cell_type": "code",
   "execution_count": null,
   "metadata": {},
   "outputs": [],
   "source": []
  }
 ],
 "metadata": {
  "kernelspec": {
   "display_name": ".venv",
   "language": "python",
   "name": "python3"
  },
  "language_info": {
   "codemirror_mode": {
    "name": "ipython",
    "version": 3
   },
   "file_extension": ".py",
   "mimetype": "text/x-python",
   "name": "python",
   "nbconvert_exporter": "python",
   "pygments_lexer": "ipython3",
   "version": "3.12.9"
  }
 },
 "nbformat": 4,
 "nbformat_minor": 2
}
